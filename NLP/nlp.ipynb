{
 "cells": [
  {
   "cell_type": "code",
   "execution_count": 1,
   "metadata": {},
   "outputs": [
    {
     "name": "stdout",
     "output_type": "stream",
     "text": [
      "showing info https://raw.githubusercontent.com/nltk/nltk_data/gh-pages/index.xml\n"
     ]
    }
   ],
   "source": [
    "import nltk\n",
    "nltk.download()\n",
    "import numpy"
   ]
  },
  {
   "cell_type": "code",
   "execution_count": 40,
   "metadata": {},
   "outputs": [],
   "source": [
    "from nltk.book import *"
   ]
  },
  {
   "cell_type": "code",
   "execution_count": 3,
   "metadata": {},
   "outputs": [
    {
     "data": {
      "text/plain": [
       "<Text: Moby Dick by Herman Melville 1851>"
      ]
     },
     "execution_count": 3,
     "metadata": {},
     "output_type": "execute_result"
    }
   ],
   "source": [
    "text1"
   ]
  },
  {
   "cell_type": "code",
   "execution_count": 4,
   "metadata": {},
   "outputs": [
    {
     "name": "stdout",
     "output_type": "stream",
     "text": [
      "Displaying 11 of 11 matches:\n",
      "ong the former , one was of a most monstrous size . ... This came towards us , \n",
      "ON OF THE PSALMS . \" Touching that monstrous bulk of the whale or ork we have r\n",
      "ll over with a heathenish array of monstrous clubs and spears . Some were thick\n",
      "d as you gazed , and wondered what monstrous cannibal and savage could ever hav\n",
      "that has survived the flood ; most monstrous and most mountainous ! That Himmal\n",
      "they might scout at Moby Dick as a monstrous fable , or still worse and more de\n",
      "th of Radney .'\" CHAPTER 55 Of the Monstrous Pictures of Whales . I shall ere l\n",
      "ing Scenes . In connexion with the monstrous pictures of whales , I am strongly\n",
      "ere to enter upon those still more monstrous stories of them which are to be fo\n",
      "ght have been rummaged out of this monstrous cabinet there is no telling . But \n",
      "of Whale - Bones ; for Whales of a monstrous size are oftentimes cast up dead u\n"
     ]
    }
   ],
   "source": [
    "text1.concordance('monstrous')"
   ]
  },
  {
   "cell_type": "code",
   "execution_count": 5,
   "metadata": {},
   "outputs": [
    {
     "name": "stdout",
     "output_type": "stream",
     "text": [
      "Displaying 25 of 4736 matches:\n",
      "ville 1851 ] ETYMOLOGY . ( Supplied by a Late Consumptive Usher to a Grammar Sc\n",
      "upplied by a Late Consumptive Usher to a Grammar School ) The pale Usher -- thr\n",
      "g his old lexicons and grammars , with a queer handkerchief , mockingly embelli\n",
      "thers , and to teach them by what name a whale - fish is to be called in our to\n",
      "tely from the Dut . and Ger . WALLEN ; A . S . WALW - IAN , to roll , to wallow\n",
      ", ERROMANGOAN . EXTRACTS ( Supplied by a Sub - Sub - Librarian ). It will be se\n",
      "ainstaking burrower and grub - worm of a poor devil of a Sub - Sub appears to h\n",
      "wer and grub - worm of a poor devil of a Sub - Sub appears to have gone through\n",
      "aluable or entertaining , as affording a glancing bird ' s eye view of what has\n",
      "wn . So fare thee well , poor devil of a Sub - Sub , whose commentator I am . T\n",
      "les .\" -- GENESIS . \" Leviathan maketh a path to shine after him ; One would th\n",
      "\" -- JOB . \" Now the Lord had prepared a great fish to swallow up Jonah .\" -- J\n",
      "o days on the sea , when about sunrise a great many Whales and other monsters o\n",
      "peared . Among the former , one was of a most monstrous size . ... This came to\n",
      " , and beating the sea before him into a foam .\" -- TOOKE ' S LUCIAN . \" THE TR\n",
      ".\" \" He visited this country also with a view of catching horse - whales , whic\n",
      "N DOWN FROM HIS MOUTH BY KING ALFRED , A . D . 890 . \" And whereas all the othe\n",
      " bruise .\" -- KING HENRY . \" Very like a whale .\" -- HAMLET . \" Which to secure\n",
      "the motion of whose vast bodies can in a peaceful calm trouble the ocean til it\n",
      "in his side he wears , And on his back a grove of pikes appears .\" -- WALLER ' \n",
      " created that great Leviathan , called a Commonwealth or State --( in Latin , C\n",
      "it without chewing , as if it had been a sprat in the mouth of a whale .\" -- PI\n",
      "if it had been a sprat in the mouth of a whale .\" -- PILGRIM ' S PROGRESS . \" T\n",
      "creatures , in the deep Stretched like a promontory sleeps or swims , And seems\n",
      "promontory sleeps or swims , And seems a moving land ; and at his gills Draws i\n"
     ]
    }
   ],
   "source": [
    "text1.concordance('a')"
   ]
  },
  {
   "cell_type": "code",
   "execution_count": 6,
   "metadata": {},
   "outputs": [
    {
     "name": "stdout",
     "output_type": "stream",
     "text": [
      "Displaying 20 of 20 matches:\n",
      "re , for many generations , they had lived in so respectable a manner as to eng\n",
      "f this estate was a single man , who lived to a very advanced age , and who for\n",
      "ght have found it impossible to have lived together so long , had not a particu\n",
      "ge and handsome ; and the Middletons lived in a style of equal hospitality and \n",
      "two daughters , both of whom she had lived to see respectably married , and she\n",
      "\" \" As good a kind of fellow as ever lived , I assure you . A very decent shot \n",
      "sort of fellow , I believe , as ever lived ,\" repeated Sir John . \" I remember \n",
      " I know very little , though we have lived together for years ; but of Willough\n",
      "six or seven hundred a year ; but he lived at an expense to which that income c\n",
      "She thought it probable that as they lived in the same county , Mrs . Palmer mi\n",
      "and happy had it been if she had not lived to overcome those regrets which the \n",
      "vise or restrain her ( for my father lived only a few months after their marria\n",
      "ately to determine , that Edward who lived with his mother , must be asked as h\n",
      "g else for me again , so long as she lived ; but now she is quite come to , and\n",
      "She is a good - hearted girl as ever lived .-- Very well upon my word . That se\n",
      "ar relation of Mr . Palmer ' s , who lived a few miles on the other side of Bat\n",
      " I was quite overcome -- that if she lived , as I trusted she might , my greate\n",
      "gs of my heart !-- How should I have lived in YOUR remembrance !-- My mother to\n",
      "exceed the harmony in which they all lived together . What Edward had done to f\n",
      "pended on -- for he did neither . He lived to exert , and frequently to enjoy h\n"
     ]
    }
   ],
   "source": [
    "text2.concordance('lived')"
   ]
  },
  {
   "cell_type": "code",
   "execution_count": 7,
   "metadata": {},
   "outputs": [
    {
     "name": "stdout",
     "output_type": "stream",
     "text": [
      "true contemptible christian abundant few part mean careful puzzled\n",
      "mystifying passing curious loving wise doleful gamesome singular\n",
      "delightfully perilous fearless\n"
     ]
    }
   ],
   "source": [
    "text1.similar(\"monstrous\")"
   ]
  },
  {
   "cell_type": "code",
   "execution_count": 8,
   "metadata": {},
   "outputs": [
    {
     "name": "stdout",
     "output_type": "stream",
     "text": [
      "very so exceedingly heartily a as good great extremely remarkably\n",
      "sweet vast amazingly\n"
     ]
    }
   ],
   "source": [
    "text2.similar(\"monstrous\")"
   ]
  },
  {
   "cell_type": "code",
   "execution_count": 9,
   "metadata": {},
   "outputs": [
    {
     "name": "stdout",
     "output_type": "stream",
     "text": [
      "more house world time subject other whole day latter place country\n",
      "morning comfort present only first living rest year kind\n"
     ]
    }
   ],
   "source": [
    "text2.similar(\"better\")"
   ]
  },
  {
   "cell_type": "code",
   "execution_count": 10,
   "metadata": {},
   "outputs": [
    {
     "name": "stdout",
     "output_type": "stream",
     "text": [
      "am_glad a_pretty a_lucky is_pretty be_glad\n"
     ]
    }
   ],
   "source": [
    "text2.common_contexts([\"monstrous\",\"very\"])"
   ]
  },
  {
   "cell_type": "code",
   "execution_count": 11,
   "metadata": {},
   "outputs": [
    {
     "data": {
      "image/png": "[encoded data removed]",
      "text/plain": [
       "<Figure size 640x480 with 1 Axes>"
      ]
     },
     "metadata": {},
     "output_type": "display_data"
    }
   ],
   "source": [
    "text4.dispersion_plot(['citizens','democracy','freedom','dutie','America',])"
   ]
  },
  {
   "cell_type": "code",
   "execution_count": 12,
   "metadata": {},
   "outputs": [
    {
     "name": "stderr",
     "output_type": "stream",
     "text": [
      "Building ngram index...\n"
     ]
    },
    {
     "name": "stdout",
     "output_type": "stream",
     "text": [
      "laid by her , and said unto Cain , Where art thou , and said , Go to ,\n",
      "I will not do it for ten ' s sons ; we dreamed each man according to\n",
      "their generatio the firstborn said unto Laban , Because I said , Nay ,\n",
      "but Sarah shall her name be . , duke Elah , duke Shobal , and Akan .\n",
      "and looked upon my affliction . Bashemath Ishmael ' s blood , but Isra\n",
      "for as a prince hast thou found of all the cattle in the valley , and\n",
      "the wo The\n"
     ]
    },
    {
     "data": {
      "text/plain": [
       "\"laid by her , and said unto Cain , Where art thou , and said , Go to ,\\nI will not do it for ten ' s sons ; we dreamed each man according to\\ntheir generatio the firstborn said unto Laban , Because I said , Nay ,\\nbut Sarah shall her name be . , duke Elah , duke Shobal , and Akan .\\nand looked upon my affliction . Bashemath Ishmael ' s blood , but Isra\\nfor as a prince hast thou found of all the cattle in the valley , and\\nthe wo The\""
      ]
     },
     "execution_count": 12,
     "metadata": {},
     "output_type": "execute_result"
    }
   ],
   "source": [
    "text3.generate()"
   ]
  },
  {
   "cell_type": "code",
   "execution_count": 13,
   "metadata": {},
   "outputs": [
    {
     "name": "stderr",
     "output_type": "stream",
     "text": [
      "Building ngram index...\n"
     ]
    },
    {
     "name": "stdout",
     "output_type": "stream",
     "text": [
      "long , from one to the top - mast , and no coffin and went out a sea\n",
      "captain -- this peaking of the whales . , so as to preserve all his\n",
      "might had in former years abounding with them , they toil with their\n",
      "lances , strange tales of Southern whaling . at once the bravest\n",
      "Indians he was , after in vain strove to pierce the profundity . ?\n",
      "then ?\" a levelled flame of pale , And give no chance , watch him ;\n",
      "though the line , it is to be gainsaid . have been\n"
     ]
    },
    {
     "data": {
      "text/plain": [
       "'long , from one to the top - mast , and no coffin and went out a sea\\ncaptain -- this peaking of the whales . , so as to preserve all his\\nmight had in former years abounding with them , they toil with their\\nlances , strange tales of Southern whaling . at once the bravest\\nIndians he was , after in vain strove to pierce the profundity . ?\\nthen ?\" a levelled flame of pale , And give no chance , watch him ;\\nthough the line , it is to be gainsaid . have been'"
      ]
     },
     "execution_count": 13,
     "metadata": {},
     "output_type": "execute_result"
    }
   ],
   "source": [
    "text1.generate()"
   ]
  },
  {
   "cell_type": "code",
   "execution_count": 14,
   "metadata": {},
   "outputs": [
    {
     "data": {
      "text/plain": [
       "44764"
      ]
     },
     "execution_count": 14,
     "metadata": {},
     "output_type": "execute_result"
    }
   ],
   "source": [
    "len(text3)"
   ]
  },
  {
   "cell_type": "code",
   "execution_count": 15,
   "metadata": {},
   "outputs": [
    {
     "data": {
      "text/plain": [
       "2789"
      ]
     },
     "execution_count": 15,
     "metadata": {},
     "output_type": "execute_result"
    }
   ],
   "source": [
    "len(sorted(set(text3)))"
   ]
  },
  {
   "cell_type": "code",
   "execution_count": 16,
   "metadata": {},
   "outputs": [
    {
     "data": {
      "text/plain": [
       "16.050197203298673"
      ]
     },
     "execution_count": 16,
     "metadata": {},
     "output_type": "execute_result"
    }
   ],
   "source": [
    "from __future__ import division\n",
    "len(text3)/len(set(text3))"
   ]
  },
  {
   "cell_type": "code",
   "execution_count": 17,
   "metadata": {},
   "outputs": [
    {
     "data": {
      "text/plain": [
       "5"
      ]
     },
     "execution_count": 17,
     "metadata": {},
     "output_type": "execute_result"
    }
   ],
   "source": [
    "text3.count(\"smote\")"
   ]
  },
  {
   "cell_type": "code",
   "execution_count": 18,
   "metadata": {},
   "outputs": [
    {
     "data": {
      "text/plain": [
       "1.457806031353621"
      ]
     },
     "execution_count": 18,
     "metadata": {},
     "output_type": "execute_result"
    }
   ],
   "source": [
    "100 * text4.count(\"a\")/len(text4)"
   ]
  },
  {
   "cell_type": "code",
   "execution_count": 19,
   "metadata": {},
   "outputs": [
    {
     "data": {
      "text/plain": [
       "704"
      ]
     },
     "execution_count": 19,
     "metadata": {},
     "output_type": "execute_result"
    }
   ],
   "source": [
    "text5.count('lol')"
   ]
  },
  {
   "cell_type": "code",
   "execution_count": 20,
   "metadata": {},
   "outputs": [
    {
     "data": {
      "text/plain": [
       "1.5640968673628082"
      ]
     },
     "execution_count": 20,
     "metadata": {},
     "output_type": "execute_result"
    }
   ],
   "source": [
    "100 * text5.count(\"lol\")/len(text5)"
   ]
  },
  {
   "cell_type": "code",
   "execution_count": 21,
   "metadata": {},
   "outputs": [],
   "source": [
    "def lexical_diversity(text):\n",
    "    return len(text)/len(text)\n",
    "def percentage(char,text):\n",
    "    return 100 * text.count(char)/len(text)"
   ]
  },
  {
   "cell_type": "code",
   "execution_count": 22,
   "metadata": {},
   "outputs": [
    {
     "data": {
      "text/plain": [
       "1.5640968673628082"
      ]
     },
     "execution_count": 22,
     "metadata": {},
     "output_type": "execute_result"
    }
   ],
   "source": [
    "percentage('lol',text5)"
   ]
  },
  {
   "cell_type": "code",
   "execution_count": 23,
   "metadata": {},
   "outputs": [
    {
     "data": {
      "text/plain": [
       "1.457806031353621"
      ]
     },
     "execution_count": 23,
     "metadata": {},
     "output_type": "execute_result"
    }
   ],
   "source": [
    "percentage('a',text4)"
   ]
  },
  {
   "cell_type": "code",
   "execution_count": 24,
   "metadata": {},
   "outputs": [
    {
     "data": {
      "text/plain": [
       "['Call', 'me', 'Ishmael', '.']"
      ]
     },
     "execution_count": 24,
     "metadata": {},
     "output_type": "execute_result"
    }
   ],
   "source": [
    "sent1"
   ]
  },
  {
   "cell_type": "code",
   "execution_count": 25,
   "metadata": {},
   "outputs": [
    {
     "data": {
      "text/plain": [
       "4"
      ]
     },
     "execution_count": 25,
     "metadata": {},
     "output_type": "execute_result"
    }
   ],
   "source": [
    "len(sent1)"
   ]
  },
  {
   "cell_type": "code",
   "execution_count": 26,
   "metadata": {},
   "outputs": [
    {
     "data": {
      "text/plain": [
       "1.0"
      ]
     },
     "execution_count": 26,
     "metadata": {},
     "output_type": "execute_result"
    }
   ],
   "source": [
    "lexical_diversity(sent1)"
   ]
  },
  {
   "cell_type": "code",
   "execution_count": 27,
   "metadata": {},
   "outputs": [
    {
     "data": {
      "text/plain": [
       "1.0"
      ]
     },
     "execution_count": 27,
     "metadata": {},
     "output_type": "execute_result"
    }
   ],
   "source": [
    "lexical_diversity(sent2)"
   ]
  },
  {
   "cell_type": "code",
   "execution_count": 28,
   "metadata": {},
   "outputs": [
    {
     "data": {
      "text/plain": [
       "1.0"
      ]
     },
     "execution_count": 28,
     "metadata": {},
     "output_type": "execute_result"
    }
   ],
   "source": [
    "lexical_diversity(sent3)"
   ]
  },
  {
   "cell_type": "code",
   "execution_count": 29,
   "metadata": {},
   "outputs": [
    {
     "data": {
      "text/plain": [
       "1.0"
      ]
     },
     "execution_count": 29,
     "metadata": {},
     "output_type": "execute_result"
    }
   ],
   "source": [
    "x = \"my  name name is Puneet = sharma i m doing pd_dai\"\n",
    "lst = []\n",
    "lst.extend(x)\n",
    "lexical_diversity(lst)"
   ]
  },
  {
   "cell_type": "code",
   "execution_count": 30,
   "metadata": {},
   "outputs": [
    {
     "data": {
      "text/plain": [
       "1.0"
      ]
     },
     "execution_count": 30,
     "metadata": {},
     "output_type": "execute_result"
    }
   ],
   "source": [
    "\n",
    "\n",
    "\n",
    "n = sent1+sent2+sent3\n",
    "lexical_diversity(n)"
   ]
  },
  {
   "cell_type": "markdown",
   "metadata": {},
   "source": [
    "* __note__ we can use list comprihesion in combination with stings internal fuction as filters to create the word vocablury for NLP"
   ]
  },
  {
   "cell_type": "code",
   "execution_count": 32,
   "metadata": {},
   "outputs": [
    {
     "name": "stdout",
     "output_type": "stream",
     "text": [
      "<Text: Moby Dick by Herman Melville 1851>\n"
     ]
    }
   ],
   "source": [
    "print(text1)"
   ]
  },
  {
   "cell_type": "code",
   "execution_count": 39,
   "metadata": {},
   "outputs": [
    {
     "data": {
      "text/plain": [
       "['capping',\n",
       " 'infesting',\n",
       " 'sighting',\n",
       " 'watching',\n",
       " 'dismasting',\n",
       " 'essaying',\n",
       " 'viewing',\n",
       " 'stringy',\n",
       " 'Capting',\n",
       " 'entangling',\n",
       " 'cutting',\n",
       " 'exultingly',\n",
       " 'selecting',\n",
       " 'Dinting',\n",
       " 'springs',\n",
       " 'treating',\n",
       " 'befriending',\n",
       " 'crouching',\n",
       " 'mistifying',\n",
       " 'stingy',\n",
       " 'shadings',\n",
       " 'consecrating',\n",
       " 'clearings',\n",
       " 'everlasting',\n",
       " 'alluding',\n",
       " 'arching',\n",
       " 'tidings',\n",
       " 'hesitatingly',\n",
       " 'tricking',\n",
       " 'depicting',\n",
       " 'clenching',\n",
       " 'hintings',\n",
       " 'voyagings',\n",
       " 'Placing',\n",
       " 'owning',\n",
       " 'Welding',\n",
       " 'intermixingly',\n",
       " 'Extending',\n",
       " 'unloitering',\n",
       " 'wring',\n",
       " 'thrilling',\n",
       " 'piling',\n",
       " 'unthinkingly',\n",
       " 'rehearsing',\n",
       " 'wrestlings',\n",
       " 'reckoning',\n",
       " 'Lowering',\n",
       " 'parchingly',\n",
       " 'strandings',\n",
       " 'hitching',\n",
       " 'sneering',\n",
       " 'performing',\n",
       " 'appalling',\n",
       " 'anything',\n",
       " 'unextinguished',\n",
       " 'sprawling',\n",
       " 'moaning',\n",
       " 'lathering',\n",
       " 'shaking',\n",
       " 'throbbings',\n",
       " 'Dying',\n",
       " 'Hoveringly',\n",
       " 'dwelling',\n",
       " 'housekeeping',\n",
       " 'scuttling',\n",
       " 'Sailing',\n",
       " 'exceeding',\n",
       " 'opposing',\n",
       " 'excluding',\n",
       " 'constituting',\n",
       " 'gurgling',\n",
       " 'plungingly',\n",
       " 'needing',\n",
       " 'outreaching',\n",
       " 'circumnavigating',\n",
       " 'loosening',\n",
       " 'binding',\n",
       " 'piping',\n",
       " 'anointing',\n",
       " 'undressing',\n",
       " 'searching',\n",
       " 'varying',\n",
       " 'festooning',\n",
       " 'Anything',\n",
       " 'Considering',\n",
       " 'rivallingly',\n",
       " 'using',\n",
       " 'retracing',\n",
       " 'pacing',\n",
       " 'surmisings',\n",
       " 'comprising',\n",
       " 'rebelling',\n",
       " 'remonstrating',\n",
       " 'migrating',\n",
       " 'wrapping',\n",
       " 'ravening',\n",
       " 'reaching',\n",
       " 'worshipping',\n",
       " 'Keeping',\n",
       " 'sheering',\n",
       " 'pumping',\n",
       " 'enveloping',\n",
       " 'projecting',\n",
       " 'groupings',\n",
       " 'gaining',\n",
       " 'bowings',\n",
       " 'Throwing',\n",
       " 'smackingly',\n",
       " 'enjoying',\n",
       " 'ruminating',\n",
       " 'overlording',\n",
       " 'warringly',\n",
       " 'jeeringly',\n",
       " 'Chartering',\n",
       " 'Meddling',\n",
       " 'preceding',\n",
       " 'unflattering',\n",
       " 'sparing',\n",
       " 'mongering',\n",
       " 'representing',\n",
       " 'thrusting',\n",
       " 'beholding',\n",
       " 'milling',\n",
       " 'embattling',\n",
       " 'edging',\n",
       " 'splintering',\n",
       " 'rejecting',\n",
       " 'forthing',\n",
       " 'spiralling',\n",
       " 'arboring',\n",
       " 'Remembering',\n",
       " 'offspring',\n",
       " 'Clearing',\n",
       " 'fancying',\n",
       " 'protesting',\n",
       " 'receiving',\n",
       " 'clustering',\n",
       " 'gasping',\n",
       " 'Stepping',\n",
       " 'bethinking',\n",
       " 'counteracting',\n",
       " 'pervading',\n",
       " 'tarnishing',\n",
       " 'recrossing',\n",
       " 'knowingly',\n",
       " 'enhancing',\n",
       " 'pitchpoling',\n",
       " 'whistling',\n",
       " 'hustings',\n",
       " 'unsuspecting',\n",
       " 'spilling',\n",
       " 'honing',\n",
       " 'rowing',\n",
       " 'foreboding',\n",
       " 'invokingly',\n",
       " 'sketching',\n",
       " 'composing',\n",
       " 'thinkings',\n",
       " 'impaling',\n",
       " 'enduring',\n",
       " 'unsignifying',\n",
       " 'everything',\n",
       " 'glimmering',\n",
       " 'dancing',\n",
       " 'sapling',\n",
       " 'warping',\n",
       " 'undecreasing',\n",
       " 'clingest',\n",
       " 'bubblingly',\n",
       " 'shifting',\n",
       " 'unsetting',\n",
       " 'predestinating',\n",
       " 'belaying',\n",
       " 'unchanging',\n",
       " 'carving',\n",
       " 'painstaking',\n",
       " 'capsizing',\n",
       " 'whaleboning',\n",
       " 'shocking',\n",
       " 'mingled',\n",
       " 'proceedings',\n",
       " 'shouldering',\n",
       " 'Something',\n",
       " 'marling',\n",
       " 'enlightening',\n",
       " 'driving',\n",
       " 'Availing',\n",
       " 'knocking',\n",
       " 'burstingly',\n",
       " 'unfearing',\n",
       " 'thing',\n",
       " 'stultifying',\n",
       " 'insulting',\n",
       " 'Standing',\n",
       " 'pouring',\n",
       " 'roosting',\n",
       " 'snoozing',\n",
       " 'furnishing',\n",
       " 'forswearing',\n",
       " 'Unerringly',\n",
       " 'foreshadowing',\n",
       " 'caulking',\n",
       " 'foundering',\n",
       " 'unblinkingly',\n",
       " 'pursuing',\n",
       " 'flowering',\n",
       " 'working',\n",
       " 'sobbings',\n",
       " 'gazing',\n",
       " 'Flying',\n",
       " 'king',\n",
       " 'comforting',\n",
       " 'facilitating',\n",
       " 'sterning',\n",
       " 'unerring',\n",
       " 'affording',\n",
       " 'exhilarating',\n",
       " 'pitching',\n",
       " 'snortings',\n",
       " 'incommoding',\n",
       " 'overburdening',\n",
       " 'hinting',\n",
       " 'courting',\n",
       " 'bespattering',\n",
       " 'pudding',\n",
       " 'flitting',\n",
       " 'gorings',\n",
       " 'adjusting',\n",
       " 'enlisting',\n",
       " 'seizings',\n",
       " 'proving',\n",
       " 'keeping',\n",
       " 'draggingly',\n",
       " 'tramping',\n",
       " 'replacing',\n",
       " 'reefing',\n",
       " 'saplings',\n",
       " 'begging',\n",
       " 'Securing',\n",
       " 'hinges',\n",
       " 'adopting',\n",
       " 'panting',\n",
       " 'merging',\n",
       " 'spinning',\n",
       " 'tapping',\n",
       " 'curvetting',\n",
       " 'connecting',\n",
       " 'continuing',\n",
       " 'Walking',\n",
       " 'unreasoning',\n",
       " 'tingling',\n",
       " 'unthinking',\n",
       " 'remembering',\n",
       " 'staring',\n",
       " 'borrowing',\n",
       " 'leaking',\n",
       " 'moving',\n",
       " 'stooping',\n",
       " 'rumbling',\n",
       " 'feelings',\n",
       " 'blinding',\n",
       " 'emptying',\n",
       " 'growing',\n",
       " 'obtruding',\n",
       " 'Entering',\n",
       " 'unretracing',\n",
       " 'railing',\n",
       " 'suspending',\n",
       " 'surveying',\n",
       " 'freebooting',\n",
       " 'mimicking',\n",
       " 'strainings',\n",
       " 'intensifying',\n",
       " 'retarding',\n",
       " 'tossings',\n",
       " 'bamboozingly',\n",
       " 'resuming',\n",
       " 'swayings',\n",
       " 'cheering',\n",
       " 'ingloriously',\n",
       " 'agonizing',\n",
       " 'perceiving',\n",
       " 'slewing',\n",
       " 'addressing',\n",
       " 'participating',\n",
       " 'peddling',\n",
       " 'following',\n",
       " 'bringing',\n",
       " 'makings',\n",
       " 'leaping',\n",
       " 'retiring',\n",
       " 'daring',\n",
       " 'changing',\n",
       " 'twigging',\n",
       " 'single',\n",
       " 'tugging',\n",
       " 'allowing',\n",
       " 'ramming',\n",
       " 'coercing',\n",
       " 'resorting',\n",
       " 'suspecting',\n",
       " 'pronouncing',\n",
       " 'missing',\n",
       " 'goggling',\n",
       " 'Stammering',\n",
       " 'cruising',\n",
       " 'decanting',\n",
       " 'adorning',\n",
       " 'whisperingly',\n",
       " 'dividing',\n",
       " 'lunging',\n",
       " 'beating',\n",
       " 'Floating',\n",
       " 'unloading',\n",
       " 'listening',\n",
       " 'gushing',\n",
       " 'conducting',\n",
       " 'Accordingly',\n",
       " 'scanning',\n",
       " 'unfurling',\n",
       " 'dumpling',\n",
       " 'curling',\n",
       " 'screaming',\n",
       " 'jerkingly',\n",
       " 'comparing',\n",
       " 'generalizing',\n",
       " 'racing',\n",
       " 'waiting',\n",
       " 'rippling',\n",
       " 'rigging',\n",
       " 'bantering',\n",
       " 'deriding',\n",
       " 'curdling',\n",
       " 'flogging',\n",
       " 'Sing',\n",
       " 'lifting',\n",
       " 'obeying',\n",
       " 'sinewing',\n",
       " 'hastening',\n",
       " 'jeering',\n",
       " 'officiating',\n",
       " 'melting',\n",
       " 'remarking',\n",
       " 'slantings',\n",
       " 'condescending',\n",
       " 'Rising',\n",
       " 'sitting',\n",
       " 'murmuring',\n",
       " 'securing',\n",
       " 'Swimming',\n",
       " 'worming',\n",
       " 'stripping',\n",
       " 'trembling',\n",
       " 'kicking',\n",
       " 'farthingale',\n",
       " 'interfusing',\n",
       " 'tingles',\n",
       " 'cleansing',\n",
       " 'interlacing',\n",
       " 'budding',\n",
       " 'panellings',\n",
       " 'shunning',\n",
       " 'blisteringly',\n",
       " 'glorying',\n",
       " 'rioting',\n",
       " 'offing',\n",
       " 'joining',\n",
       " 'Folding',\n",
       " 'nestling',\n",
       " 'farings',\n",
       " 'protecting',\n",
       " 'feasting',\n",
       " 'molesting',\n",
       " 'chopping',\n",
       " 'revealing',\n",
       " 'interpreting',\n",
       " 'stubbing',\n",
       " 'dawning',\n",
       " 'fleeting',\n",
       " 'blubbering',\n",
       " 'heeling',\n",
       " 'resolving',\n",
       " 'flaming',\n",
       " 'brushing',\n",
       " 'flying',\n",
       " 'unmurmuringly',\n",
       " 'fixing',\n",
       " 'trimming',\n",
       " 'reminding',\n",
       " 'absorbing',\n",
       " 'approvingly',\n",
       " 'quivering',\n",
       " 'rounding',\n",
       " 'bawling',\n",
       " 'telling',\n",
       " 'sling',\n",
       " 'climbing',\n",
       " 'mutinying',\n",
       " 'roaring',\n",
       " 'confining',\n",
       " 'humming',\n",
       " 'banding',\n",
       " 'skimming',\n",
       " 'believing',\n",
       " 'sporting',\n",
       " 'establishing',\n",
       " 'dropping',\n",
       " 'slantingly',\n",
       " 'regulating',\n",
       " 'Pudding',\n",
       " 'touching',\n",
       " 'churning',\n",
       " 'bouncing',\n",
       " 'flutterings',\n",
       " 'underling',\n",
       " 'winking',\n",
       " 'Looking',\n",
       " 'fattening',\n",
       " 'cobbling',\n",
       " 'Crossing',\n",
       " 'groping',\n",
       " 'eyeing',\n",
       " 'inglorious',\n",
       " 'subsiding',\n",
       " 'refining',\n",
       " 'taking',\n",
       " 'rattling',\n",
       " 'loungingly',\n",
       " 'presaging',\n",
       " 'tensing',\n",
       " 'disheartening',\n",
       " 'marching',\n",
       " 'writing',\n",
       " 'weltering',\n",
       " 'Wellington',\n",
       " 'rocking',\n",
       " 'overawing',\n",
       " 'removing',\n",
       " 'pleadings',\n",
       " 'weathering',\n",
       " 'tattooings',\n",
       " 'suffusingly',\n",
       " 'evening',\n",
       " 'unyielding',\n",
       " 'flourishing',\n",
       " 'filling',\n",
       " 'Giving',\n",
       " 'Quitting',\n",
       " 'presenting',\n",
       " 'radiating',\n",
       " 'intervening',\n",
       " 'Heading',\n",
       " 'contending',\n",
       " 'overflowing',\n",
       " 'inculcating',\n",
       " 'According',\n",
       " 'seizing',\n",
       " 'strings',\n",
       " 'erring',\n",
       " 'squaring',\n",
       " 'contemplating',\n",
       " 'wriggling',\n",
       " 'sounding',\n",
       " 'speeding',\n",
       " 'disputing',\n",
       " 'whizzings',\n",
       " 'roundingly',\n",
       " 'operating',\n",
       " 'Coming',\n",
       " 'undulating',\n",
       " 'backing',\n",
       " 'kingdoms',\n",
       " 'blazing',\n",
       " 'accordingly',\n",
       " 'engineering',\n",
       " 'reigning',\n",
       " 'whispering',\n",
       " 'nursing',\n",
       " 'filliping',\n",
       " 'balancing',\n",
       " 'tearingly',\n",
       " 'calculating',\n",
       " 'gleamings',\n",
       " 'Pushing',\n",
       " 'circling',\n",
       " 'talking',\n",
       " 'inwreathing',\n",
       " 'stifling',\n",
       " 'forking',\n",
       " 'trotting',\n",
       " 'sweating',\n",
       " 'imparting',\n",
       " 'bartering',\n",
       " 'overruling',\n",
       " 'redeeming',\n",
       " 'charging',\n",
       " 'exhausting',\n",
       " 'wrinkling',\n",
       " 'striking',\n",
       " 'upholding',\n",
       " 'lobtailing',\n",
       " 'intertwistings',\n",
       " 'Bring',\n",
       " 'creepingly',\n",
       " 'boxing',\n",
       " 'contingencies',\n",
       " 'staving',\n",
       " 'ringleader',\n",
       " 'singularly',\n",
       " 'coasting',\n",
       " 'Returning',\n",
       " 'voyaging',\n",
       " 'shingled',\n",
       " 'ploughing',\n",
       " 'tumbling',\n",
       " 'quitting',\n",
       " 'deprecating',\n",
       " 'fooling',\n",
       " 'baling',\n",
       " 'overgrowing',\n",
       " 'refusing',\n",
       " 'exchanging',\n",
       " 'screwing',\n",
       " 'corresponding',\n",
       " 'fetching',\n",
       " 'shambling',\n",
       " 'trappings',\n",
       " 'browsing',\n",
       " 'threading',\n",
       " 'perishing',\n",
       " 'straining',\n",
       " 'covering',\n",
       " 'howlings',\n",
       " 'Striking',\n",
       " 'swaying',\n",
       " 'morning',\n",
       " 'overtaking',\n",
       " 'having',\n",
       " 'existing',\n",
       " 'lingo',\n",
       " 'bounding',\n",
       " 'movingly',\n",
       " 'bordering',\n",
       " 'disappearing',\n",
       " 'inkling',\n",
       " 'disposing',\n",
       " 'mixing',\n",
       " 'devoting',\n",
       " 'bagging',\n",
       " 'forerunning',\n",
       " 'extending',\n",
       " 'weakling',\n",
       " 'impelling',\n",
       " 'discharging',\n",
       " 'shaping',\n",
       " 'fumbling',\n",
       " 'outspreadingly',\n",
       " 'ramblings',\n",
       " 'reserving',\n",
       " 'Improving',\n",
       " 'evincing',\n",
       " 'palavering',\n",
       " 'trending',\n",
       " 'paying',\n",
       " 'unwaning',\n",
       " 'shiningly',\n",
       " 'coiling',\n",
       " 'intersecting',\n",
       " 'consuming',\n",
       " 'persuading',\n",
       " 'gingerly',\n",
       " 'assailing',\n",
       " 'bedevilling',\n",
       " 'surroundingly',\n",
       " 'digesting',\n",
       " 'tilting',\n",
       " 'picking',\n",
       " 'wrenching',\n",
       " 'deadreckoning',\n",
       " 'circumventing',\n",
       " 'providing',\n",
       " 'lacings',\n",
       " 'shivering',\n",
       " 'longings',\n",
       " 'scrapings',\n",
       " 'hurling',\n",
       " 'vowing',\n",
       " 'foreseeing',\n",
       " 'struggling',\n",
       " 'renouncing',\n",
       " 'herrings',\n",
       " 'looming',\n",
       " 'suffusing',\n",
       " 'Wrapping',\n",
       " 'shoaling',\n",
       " 'administering',\n",
       " 'banteringly',\n",
       " 'settling',\n",
       " 'tying',\n",
       " 'placing',\n",
       " 'pleasuring',\n",
       " 'suffering',\n",
       " 'drawings',\n",
       " 'permitting',\n",
       " 'plying',\n",
       " 'reforming',\n",
       " 'breaching',\n",
       " 'Winding',\n",
       " 'fronting',\n",
       " 'striding',\n",
       " 'throbbing',\n",
       " 'arguing',\n",
       " 'serving',\n",
       " 'determining',\n",
       " 'swimming',\n",
       " 'butchering',\n",
       " 'throwing',\n",
       " 'soothingly',\n",
       " 'pausing',\n",
       " 'committing',\n",
       " 'oilpainting',\n",
       " 'unwinding',\n",
       " 'braiding',\n",
       " 'sewing',\n",
       " 'overlapping',\n",
       " 'snatching',\n",
       " 'alternating',\n",
       " 'admitting',\n",
       " 'issuing',\n",
       " 'supposing',\n",
       " 'nothing',\n",
       " 'Espying',\n",
       " 'popping',\n",
       " 'wings',\n",
       " 'bristling',\n",
       " 'abiding',\n",
       " 'beseeching',\n",
       " 'callings',\n",
       " 'Despairing',\n",
       " 'clapping',\n",
       " 'capturing',\n",
       " 'strikingly',\n",
       " 'hinge',\n",
       " 'shading',\n",
       " 'Finding',\n",
       " 'unwillingness',\n",
       " 'unresting',\n",
       " 'feathering',\n",
       " 'bunting',\n",
       " 'clings',\n",
       " 'whaling',\n",
       " 'growlingly',\n",
       " 'tantalizing',\n",
       " 'Kingdom',\n",
       " 'flashings',\n",
       " 'protruding',\n",
       " 'shudderingly',\n",
       " 'ingenious',\n",
       " 'unmisgiving',\n",
       " 'willingly',\n",
       " 'regardings',\n",
       " 'engraving',\n",
       " 'dazzlingly',\n",
       " 'undiscriminating',\n",
       " 'unfailing',\n",
       " 'diverting',\n",
       " 'uncorking',\n",
       " 'purposing',\n",
       " 'spring',\n",
       " 'rescuing',\n",
       " 'gamming',\n",
       " 'dreaming',\n",
       " 'unrelenting',\n",
       " 'magnetizing',\n",
       " 'burying',\n",
       " 'consulting',\n",
       " 'looking',\n",
       " 'constrainings',\n",
       " 'Glancing',\n",
       " 'pecking',\n",
       " 'expending',\n",
       " 'persisting',\n",
       " 'tucking',\n",
       " 'animating',\n",
       " 'puffing',\n",
       " 'abounding',\n",
       " 'cheating',\n",
       " 'scalding',\n",
       " 'dictating',\n",
       " 'showing',\n",
       " 'foamingly',\n",
       " 'waving',\n",
       " 'breeding',\n",
       " 'clearing',\n",
       " 'parcelling',\n",
       " 'lovings',\n",
       " 'sweatings',\n",
       " 'brimming',\n",
       " 'ordering',\n",
       " 'ceiling',\n",
       " 'hauling',\n",
       " 'fastenings',\n",
       " 'winged',\n",
       " 'anticipatingly',\n",
       " 'raving',\n",
       " 'vibrating',\n",
       " 'stiffening',\n",
       " 'upraising',\n",
       " 'pruning',\n",
       " 'making',\n",
       " 'enjoining',\n",
       " 'wailings',\n",
       " 'observing',\n",
       " 'hooking',\n",
       " 'Comparing',\n",
       " 'mistaking',\n",
       " 'deadening',\n",
       " 'gibbering',\n",
       " 'Leading',\n",
       " 'exulting',\n",
       " 'repelling',\n",
       " 'exasperating',\n",
       " 'withdrawing',\n",
       " 'enticing',\n",
       " 'approving',\n",
       " 'ripening',\n",
       " 'flailings',\n",
       " 'smoking',\n",
       " 'chatting',\n",
       " 'upbraidings',\n",
       " 'flourishings',\n",
       " 'inlaying',\n",
       " 'breathing',\n",
       " 'vivifying',\n",
       " 'drowning',\n",
       " 'describing',\n",
       " 'halving',\n",
       " 'collaring',\n",
       " 'pulling',\n",
       " 'forefinger',\n",
       " 'twitching',\n",
       " 'smiling',\n",
       " 'contingent',\n",
       " 'resembling',\n",
       " 'unerringly',\n",
       " 'attending',\n",
       " 'declining',\n",
       " 'Starting',\n",
       " 'exhaling',\n",
       " 'crying',\n",
       " 'accelerating',\n",
       " 'wincing',\n",
       " 'completing',\n",
       " 'upbraiding',\n",
       " 'wing',\n",
       " 'breakfasting',\n",
       " 'ordaining',\n",
       " 'straggling',\n",
       " 'chipping',\n",
       " 'harboring',\n",
       " 'drooping',\n",
       " 'flingers',\n",
       " 'favouring',\n",
       " 'unsuffusing',\n",
       " 'intercedings',\n",
       " 'visiting',\n",
       " 'setting',\n",
       " 'inspecting',\n",
       " 'bidding',\n",
       " 'mouldings',\n",
       " 'sprinkling',\n",
       " 'thinking',\n",
       " 'hearing',\n",
       " 'crushing',\n",
       " 'interblending',\n",
       " 'freshening',\n",
       " 'clutching',\n",
       " 'whelmings',\n",
       " 'pushing',\n",
       " 'beckoning',\n",
       " 'countersinking',\n",
       " 'menacing',\n",
       " 'lining',\n",
       " 'wonderingly',\n",
       " 'strutting',\n",
       " 'imposing',\n",
       " 'christenings',\n",
       " 'hootings',\n",
       " 'Unhinge',\n",
       " 'fading',\n",
       " 'gurglings',\n",
       " 'interlacings',\n",
       " 'Watching',\n",
       " 'unassuming',\n",
       " 'procuring',\n",
       " 'jinglers',\n",
       " 'playing',\n",
       " 'nailing',\n",
       " 'unconquering',\n",
       " 'Being',\n",
       " 'mastering',\n",
       " 'Lightning',\n",
       " 'featuring',\n",
       " 'Issuing',\n",
       " 'Pulling',\n",
       " 'mincing',\n",
       " 'lying',\n",
       " 'Spring',\n",
       " 'Handling',\n",
       " 'careening',\n",
       " 'scheming',\n",
       " 'buttoning',\n",
       " 'dismembering',\n",
       " 'laying',\n",
       " 'unhealing',\n",
       " 'prating',\n",
       " 'scraping',\n",
       " 'presiding',\n",
       " 'kingdom',\n",
       " 'gloating',\n",
       " 'crowding',\n",
       " 'preserving',\n",
       " 'dissembling',\n",
       " 'howling',\n",
       " 'destroying',\n",
       " 'ascending',\n",
       " 'Fanning',\n",
       " 'harpstring',\n",
       " 'gaspings',\n",
       " 'seemingly',\n",
       " 'wandering',\n",
       " 'interflowing',\n",
       " 'smothering',\n",
       " 'unrolling',\n",
       " 'wavingly',\n",
       " 'disentangling',\n",
       " 'smiting',\n",
       " 'controlling',\n",
       " 'swelling',\n",
       " 'flattering',\n",
       " 'stirrings',\n",
       " 'causing',\n",
       " 'napping',\n",
       " 'creaking',\n",
       " 'jabbering',\n",
       " 'nothingness',\n",
       " 'depending',\n",
       " 'transferring',\n",
       " 'Gliding',\n",
       " 'coming',\n",
       " 'Pressing',\n",
       " 'adjoining',\n",
       " 'branding',\n",
       " 'Seeing',\n",
       " 'Peering',\n",
       " 'winding',\n",
       " 'tending',\n",
       " 'pretending',\n",
       " 'staggeringly',\n",
       " 'concluding',\n",
       " 'bolting',\n",
       " 'smacking',\n",
       " 'Unwittingly',\n",
       " 'bursting',\n",
       " 'witnessing',\n",
       " 'demanding',\n",
       " 'cruisings',\n",
       " 'engendering',\n",
       " 'lording',\n",
       " 'motioning',\n",
       " 'biting',\n",
       " 'exploding',\n",
       " 'boarding',\n",
       " 'seething',\n",
       " 'bitingly',\n",
       " 'dressing',\n",
       " 'dumplings',\n",
       " 'Running',\n",
       " 'stings',\n",
       " 'crossing',\n",
       " 'disturbing',\n",
       " 'satirizing',\n",
       " 'coyings',\n",
       " 'doubting',\n",
       " 'capsizings',\n",
       " 'magnifying',\n",
       " 'tattooing',\n",
       " 'Leaning',\n",
       " 'cymballing',\n",
       " 'rearing',\n",
       " 'confounding',\n",
       " 'deepening',\n",
       " 'consisting',\n",
       " 'seasoning',\n",
       " 'charmingly',\n",
       " 'drugging',\n",
       " 'expandingly',\n",
       " 'bearing',\n",
       " 'belonging',\n",
       " 'goadings',\n",
       " 'managing',\n",
       " 'Steering',\n",
       " 'reeling',\n",
       " 'sucklings',\n",
       " 'fasting',\n",
       " 'preluding',\n",
       " 'becoming',\n",
       " 'Shaking',\n",
       " 'skulking',\n",
       " 'unlacing',\n",
       " 'shoving',\n",
       " 'forbidding',\n",
       " 'soothing',\n",
       " 'snuffling',\n",
       " 'inventing',\n",
       " 'investing',\n",
       " 'losing',\n",
       " 'reclining',\n",
       " 'inducing',\n",
       " 'teachings',\n",
       " 'smuggling',\n",
       " 'pegging',\n",
       " 'concerning',\n",
       " 'interesting',\n",
       " 'weeping',\n",
       " 'scorchingly',\n",
       " 'inspectingly',\n",
       " 'engaging',\n",
       " 'convalescing',\n",
       " 'mounting',\n",
       " 'guarding',\n",
       " 'gnashing',\n",
       " 'poring',\n",
       " 'trifling',\n",
       " 'herring',\n",
       " 'soundings',\n",
       " 'slacking',\n",
       " 'longing',\n",
       " 'streaming',\n",
       " 'Charing',\n",
       " 'peeringly',\n",
       " 'engrossing',\n",
       " 'inhaling',\n",
       " 'divings',\n",
       " 'being',\n",
       " 'walking',\n",
       " 'fringed',\n",
       " 'beings',\n",
       " 'inviting',\n",
       " 'pricking',\n",
       " 'ignoring',\n",
       " 'tinkering',\n",
       " 'roving',\n",
       " 'swarming',\n",
       " 'brings',\n",
       " 'cunningly',\n",
       " 'smelling',\n",
       " 'grating',\n",
       " 'skylarking',\n",
       " 'creating',\n",
       " 'scorching',\n",
       " 'unrecking',\n",
       " 'string',\n",
       " 'fitting',\n",
       " 'booming',\n",
       " 'something',\n",
       " 'attaching',\n",
       " 'dripping',\n",
       " 'gaping',\n",
       " 'engravings',\n",
       " 'bumping',\n",
       " 'yielding',\n",
       " 'meeting',\n",
       " 'lighting',\n",
       " 'tauntings',\n",
       " 'slaughtering',\n",
       " 'goring',\n",
       " 'yawning',\n",
       " 'seeing',\n",
       " 'foundling',\n",
       " 'directing',\n",
       " 'muttering',\n",
       " 'bundling',\n",
       " 'shudderings',\n",
       " 'untagging',\n",
       " 'assuaging',\n",
       " 'arising',\n",
       " 'jingling',\n",
       " 'Closing',\n",
       " 'spoiling',\n",
       " 'overscorning',\n",
       " 'clattering',\n",
       " 'grappling',\n",
       " 'dodging',\n",
       " 'Setting',\n",
       " 'meaning',\n",
       " 'launching',\n",
       " 'resting',\n",
       " 'rings',\n",
       " 'prolongingly',\n",
       " ...]"
      ]
     },
     "execution_count": 39,
     "metadata": {},
     "output_type": "execute_result"
    }
   ],
   "source": [
    "[w for w in set(text1) if 'ing' in w]"
   ]
  },
  {
   "cell_type": "code",
   "execution_count": 45,
   "metadata": {},
   "outputs": [
    {
     "data": {
      "text/plain": [
       "['FreqDist',\n",
       " 'Text',\n",
       " '__builtins__',\n",
       " '__cached__',\n",
       " '__doc__',\n",
       " '__file__',\n",
       " '__loader__',\n",
       " '__name__',\n",
       " '__package__',\n",
       " '__spec__',\n",
       " 'bigrams',\n",
       " 'genesis',\n",
       " 'gutenberg',\n",
       " 'inaugural',\n",
       " 'nps_chat',\n",
       " 'sent1',\n",
       " 'sent2',\n",
       " 'sent3',\n",
       " 'sent4',\n",
       " 'sent5',\n",
       " 'sent6',\n",
       " 'sent7',\n",
       " 'sent8',\n",
       " 'sent9',\n",
       " 'sents',\n",
       " 'text1',\n",
       " 'text2',\n",
       " 'text3',\n",
       " 'text4',\n",
       " 'text5',\n",
       " 'text6',\n",
       " 'text7',\n",
       " 'text8',\n",
       " 'text9',\n",
       " 'texts',\n",
       " 'treebank',\n",
       " 'webtext',\n",
       " 'wordnet']"
      ]
     },
     "execution_count": 45,
     "metadata": {},
     "output_type": "execute_result"
    }
   ],
   "source": [
    "\n",
    "dir(nltk.book)"
   ]
  },
  {
   "cell_type": "code",
   "execution_count": 46,
   "metadata": {},
   "outputs": [
    {
     "ename": "NameError",
     "evalue": "name 'babelize_shell' is not defined",
     "output_type": "error",
     "traceback": [
      "\u001b[0;31m---------------------------------------------------------------------------\u001b[0m",
      "\u001b[0;31mNameError\u001b[0m                                 Traceback (most recent call last)",
      "\u001b[1;32m/home/dai/PUNEET_GIT/CDAC-PG-DAI-Puneet-/NLP/nlp.ipynb Cell 35\u001b[0m line \u001b[0;36m1\n\u001b[0;32m----> <a href='vscode-notebook-cell:/home/dai/PUNEET_GIT/CDAC-PG-DAI-Puneet-/NLP/nlp.ipynb#X51sZmlsZQ%3D%3D?line=0'>1</a>\u001b[0m babelize_shell()\n",
      "\u001b[0;31mNameError\u001b[0m: name 'babelize_shell' is not defined"
     ]
    }
   ],
   "source": [
    "babelize_shell()"
   ]
  },
  {
   "cell_type": "code",
   "execution_count": null,
   "metadata": {},
   "outputs": [],
   "source": []
  },
  {
   "cell_type": "code",
   "execution_count": null,
   "metadata": {},
   "outputs": [],
   "source": []
  }
 ],
 "metadata": {
  "kernelspec": {
   "display_name": "base",
   "language": "python",
   "name": "python3"
  },
  "language_info": {
   "codemirror_mode": {
    "name": "ipython",
    "version": 3
   },
   "file_extension": ".py",
   "mimetype": "text/x-python",
   "name": "python",
   "nbconvert_exporter": "python",
   "pygments_lexer": "ipython3",
   "version": "3.11.5"
  },
  "orig_nbformat": 4
 },
 "nbformat": 4,
 "nbformat_minor": 2
}
