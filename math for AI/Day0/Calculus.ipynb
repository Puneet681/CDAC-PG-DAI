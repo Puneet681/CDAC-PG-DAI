{
 "cells": [
  {
   "cell_type": "markdown",
   "metadata": {},
   "source": [
    "#### Limits "
   ]
  },
  {
   "cell_type": "code",
<<<<<<< HEAD
   "execution_count": 37,
=======
   "execution_count": null,
>>>>>>> cece704621fde465001ce400b56ab7a8a28b3fa1
   "metadata": {},
   "outputs": [],
   "source": [
    "import numpy as np\n",
    "from sympy import limit,sqrt,pprint\n",
    "from sympy.abc import x,y"
   ]
  },
  {
   "cell_type": "code",
<<<<<<< HEAD
   "execution_count": 38,
=======
   "execution_count": null,
>>>>>>> cece704621fde465001ce400b56ab7a8a28b3fa1
   "metadata": {},
   "outputs": [],
   "source": [
    "# https://www.whitman.edu/mathematics/calculus_online/section04.07.html\n",
    "# https://www.mathsisfun.com/calculus/derivatives-rules.html"
   ]
  },
  {
   "cell_type": "code",
<<<<<<< HEAD
   "execution_count": 39,
   "metadata": {},
   "outputs": [
    {
     "name": "stdout",
     "output_type": "stream",
     "text": [
      "Limit of \n",
      " 2         \n",
      "x  + x - 12\n",
      "───────────\n",
      "   x - 3   \n",
      "at x=0 is  7\n"
     ]
    }
   ],
=======
   "execution_count": null,
   "metadata": {},
   "outputs": [],
>>>>>>> cece704621fde465001ce400b56ab7a8a28b3fa1
   "source": [
    "expression = (x**2 + x - 12)/(x-3)\n",
    "result = limit(expression,x,3)\n",
    "print(\"Limit of \")\n",
    "pprint(expression)\n",
    "print(\"at x=0 is \",result)"
   ]
  },
  {
   "cell_type": "code",
<<<<<<< HEAD
   "execution_count": 40,
   "metadata": {},
   "outputs": [
    {
     "name": "stdout",
     "output_type": "stream",
     "text": [
      "Limit of \n",
      "  _______    \n",
      "╲╱ x + 8  - 3\n",
      "─────────────\n",
      "    x - 1    \n",
      "at x=1 is  1/6\n"
     ]
    }
   ],
=======
   "execution_count": null,
   "metadata": {},
   "outputs": [],
>>>>>>> cece704621fde465001ce400b56ab7a8a28b3fa1
   "source": [
    "expression = (sqrt(x+8) - 3)/(x-1)\n",
    "result = limit(expression,x,1)\n",
    "print(\"Limit of \")\n",
    "pprint(expression)\n",
    "print(\"at x=1 is \",result)"
   ]
  },
  {
   "cell_type": "markdown",
   "metadata": {},
   "source": [
    "#### Continuity of Function "
   ]
  },
  {
   "cell_type": "markdown",
   "metadata": {},
   "source": [
    "#### Differentation"
   ]
  },
  {
   "cell_type": "code",
<<<<<<< HEAD
   "execution_count": 41,
=======
   "execution_count": null,
>>>>>>> cece704621fde465001ce400b56ab7a8a28b3fa1
   "metadata": {},
   "outputs": [],
   "source": [
    "from sympy import diff, pprint\n",
    "from sympy.abc import x"
   ]
  },
  {
   "cell_type": "code",
<<<<<<< HEAD
   "execution_count": 42,
   "metadata": {},
   "outputs": [
    {
     "name": "stdout",
     "output_type": "stream",
     "text": [
      "Limit of \n",
      " 2\n",
      "x \n",
      "at x=1 is  2*x\n"
     ]
    }
   ],
=======
   "execution_count": null,
   "metadata": {},
   "outputs": [],
>>>>>>> cece704621fde465001ce400b56ab7a8a28b3fa1
   "source": [
    "expression = x**2\n",
    "result = diff(expression,x,1) # differentation function\n",
    "print(\"Limit of \")\n",
    "pprint(expression)\n",
    "print(\"at x=1 is \",result)"
   ]
  },
  {
   "cell_type": "code",
<<<<<<< HEAD
   "execution_count": 43,
   "metadata": {},
   "outputs": [
    {
     "name": "stdout",
     "output_type": "stream",
     "text": [
      "Expression \n",
      "   __________\n",
      "  ╱        2 \n",
      "╲╱  169 - x  \n",
      "Answer  -x/sqrt(169 - x**2)\n"
     ]
    }
   ],
=======
   "execution_count": null,
   "metadata": {},
   "outputs": [],
>>>>>>> cece704621fde465001ce400b56ab7a8a28b3fa1
   "source": [
    "expression = sqrt(169-x**2)\n",
    "result = diff(expression,x,1) # differentation function\n",
    "print(\"Expression \")\n",
    "pprint(expression)\n",
    "print(\"Answer \",result)"
   ]
  },
  {
   "cell_type": "code",
<<<<<<< HEAD
   "execution_count": 44,
   "metadata": {},
   "outputs": [
    {
     "name": "stdout",
     "output_type": "stream",
     "text": [
      "Expression \n",
      "          2\n",
      "80 - 4.9⋅x \n",
      "Answer  -9.8*x\n"
     ]
    }
   ],
=======
   "execution_count": null,
   "metadata": {},
   "outputs": [],
>>>>>>> cece704621fde465001ce400b56ab7a8a28b3fa1
   "source": [
    "expression = (80-4.9*x**2)\n",
    "result = diff(expression,x,1) # differentation function\n",
    "print(\"Expression \")\n",
    "pprint(expression)\n",
    "print(\"Answer \",result)"
   ]
  },
  {
   "cell_type": "code",
<<<<<<< HEAD
   "execution_count": 45,
   "metadata": {},
   "outputs": [
    {
     "name": "stdout",
     "output_type": "stream",
     "text": [
      "Expression \n",
      " 2   1\n",
      "x  - ─\n",
      "     x\n",
      "Answer  2*x + x**(-2)\n"
     ]
    }
   ],
=======
   "execution_count": null,
   "metadata": {},
   "outputs": [],
>>>>>>> cece704621fde465001ce400b56ab7a8a28b3fa1
   "source": [
    "expression = (x**2-(1/x))\n",
    "result = diff(expression,x,1) # differentation function\n",
    "print(\"Expression \")\n",
    "pprint(expression)\n",
    "print(\"Answer \",result)"
   ]
  },
  {
   "cell_type": "code",
<<<<<<< HEAD
   "execution_count": 46,
   "metadata": {},
   "outputs": [
    {
     "name": "stdout",
     "output_type": "stream",
     "text": [
      "Expression \n",
      " 3 ⎛ 3           ⎞\n",
      "x ⋅⎝x  - 5⋅x + 10⎠\n",
      "Answer  x**3*(3*x**2 - 5) + 3*x**2*(x**3 - 5*x + 10)\n"
     ]
    }
   ],
=======
   "execution_count": null,
   "metadata": {},
   "outputs": [],
>>>>>>> cece704621fde465001ce400b56ab7a8a28b3fa1
   "source": [
    "# x3(x3−5x+10)\n",
    "    \n",
    "expression = (x**3*(x**3-5*x+10))\n",
    "result = diff(expression,x,1) # differentation function\n",
    "print(\"Expression \")\n",
    "pprint(expression)\n",
    "print(\"Answer \",result)"
   ]
  },
  {
   "cell_type": "code",
<<<<<<< HEAD
   "execution_count": 50,
   "metadata": {},
   "outputs": [
    {
     "name": "stdout",
     "output_type": "stream",
     "text": [
      "extremum at  [-I, I]\n",
      "2 - 2*I\n",
      "2 + 2*I\n"
     ]
    }
   ],
=======
   "execution_count": null,
   "metadata": {},
   "outputs": [],
>>>>>>> cece704621fde465001ce400b56ab7a8a28b3fa1
   "source": [
    "from sympy.solvers import solve\n",
    "\n",
    "expr = 2+3*x+x**3\n",
    "d1 = diff(expr,x)\n",
    "soln = solve(d1,x)\n",
    "print(\"extremum at \",soln)\n",
    "print(expr.subs([(x,soln[0])]))\n",
    "print(expr.subs([(x,soln[1])]))"
   ]
  },
  {
   "cell_type": "code",
<<<<<<< HEAD
   "execution_count": 53,
   "metadata": {},
   "outputs": [
    {
     "name": "stdout",
     "output_type": "stream",
     "text": [
      "extremum at  [2, 4]\n",
      "20\n",
      "16\n"
     ]
    }
   ],
=======
   "execution_count": null,
   "metadata": {},
   "outputs": [],
>>>>>>> cece704621fde465001ce400b56ab7a8a28b3fa1
   "source": [
    "from sympy.solvers import solve\n",
    "\n",
    "expr = x**3-9*x**2+24*x\n",
    "d1 = diff(expr,x)\n",
    "soln = solve(d1,x)\n",
    "print(\"extremum at \",soln)\n",
    "print(expr.subs([(x,soln[0])]))\n",
    "print(expr.subs([(x,soln[1])]))"
   ]
  },
  {
   "cell_type": "code",
<<<<<<< HEAD
   "execution_count": 54,
   "metadata": {},
   "outputs": [
    {
     "name": "stdout",
     "output_type": "stream",
     "text": [
      "extremum at  [-1, 0, 1]\n",
      "2\n",
      "3\n"
     ]
    }
   ],
=======
   "execution_count": null,
   "metadata": {},
   "outputs": [],
>>>>>>> cece704621fde465001ce400b56ab7a8a28b3fa1
   "source": [
    "from sympy.solvers import solve\n",
    "\n",
    "expr = x**4-2*x**2+3\n",
    "d1 = diff(expr,x)\n",
    "soln = solve(d1,x)\n",
    "print(\"extremum at \",soln)\n",
    "print(expr.subs([(x,soln[0])]))\n",
    "print(expr.subs([(x,soln[1])]))"
   ]
  },
  {
   "cell_type": "code",
<<<<<<< HEAD
   "execution_count": 55,
   "metadata": {},
   "outputs": [
    {
     "name": "stdout",
     "output_type": "stream",
     "text": [
      "extremum at  [0, 1]\n",
      "0\n",
      "-1\n"
     ]
    }
   ],
=======
   "execution_count": null,
   "metadata": {},
   "outputs": [],
>>>>>>> cece704621fde465001ce400b56ab7a8a28b3fa1
   "source": [
    "from sympy.solvers import solve\n",
    "\n",
    "expr = 3*x**4-4*x**3\n",
    "d1 = diff(expr,x)\n",
    "soln = solve(d1,x)\n",
    "print(\"extremum at \",soln)\n",
    "print(expr.subs([(x,soln[0])]))\n",
    "print(expr.subs([(x,soln[1])]))"
   ]
  },
  {
   "cell_type": "code",
<<<<<<< HEAD
   "execution_count": 61,
   "metadata": {},
   "outputs": [
    {
     "name": "stdout",
     "output_type": "stream",
     "text": [
      "extremum at  [-sqrt(2)*3**(3/4)/6 - sqrt(2)*3**(3/4)*I/6, -sqrt(2)*3**(3/4)/6 + sqrt(2)*3**(3/4)*I/6, sqrt(2)*3**(3/4)/6 - sqrt(2)*3**(3/4)*I/6, sqrt(2)*3**(3/4)/6 + sqrt(2)*3**(3/4)*I/6]\n",
      "-1/(-sqrt(2)*3**(3/4)/6 - sqrt(2)*3**(3/4)*I/6)**2 + 3*(-sqrt(2)*3**(3/4)/6 - sqrt(2)*3**(3/4)*I/6)**2\n",
      "-1/(-sqrt(2)*3**(3/4)/6 + sqrt(2)*3**(3/4)*I/6)**2 + 3*(-sqrt(2)*3**(3/4)/6 + sqrt(2)*3**(3/4)*I/6)**2\n"
     ]
    }
   ],
=======
   "execution_count": null,
   "metadata": {},
   "outputs": [],
>>>>>>> cece704621fde465001ce400b56ab7a8a28b3fa1
   "source": [
    "from sympy.solvers import solve\n",
    "\n",
    "expr = 3*x**2-1/x**2\n",
    "d1 = diff(expr,x)\n",
    "soln = solve(d1,x)\n",
    "print(\"extremum at \",soln)\n",
    "print(expr.subs([(x,soln[0])]))\n",
    "print(expr.subs([(x,soln[1])]))"
   ]
  },
  {
   "cell_type": "code",
<<<<<<< HEAD
   "execution_count": 67,
   "metadata": {},
   "outputs": [
    {
     "name": "stdout",
     "output_type": "stream",
     "text": [
      "extremum at  [2, 4]\n",
      "maxina at  2 ; max value =  20\n",
      "minima at  4 ; min value =  16\n"
     ]
    }
   ],
=======
   "execution_count": null,
   "metadata": {},
   "outputs": [],
>>>>>>> cece704621fde465001ce400b56ab7a8a28b3fa1
   "source": [
    "from sympy.solvers import solve\n",
    "\n",
    "expr = x**3-9*x**2+24*x\n",
    "d1 = diff(expr,x)\n",
    "soln = solve(d1,x)\n",
    "print(\"extremum at \",soln)\n",
    "d2 = diff(d1,x)\n",
    "for i in soln:\n",
    "    if d2.subs([(x,i)])>0:\n",
    "        print('minima at ',i,\"; min value = \",expr.subs([(x,i)]))\n",
    "    elif d2.subs([(x,i)])<0:\n",
    "        print('maxina at ',i,\"; max value = \",expr.subs([(x,i)]))\n",
    "    else:\n",
    "        print('no extremum')"
   ]
  },
  {
   "cell_type": "code",
<<<<<<< HEAD
   "execution_count": 68,
   "metadata": {},
   "outputs": [
    {
     "name": "stdout",
     "output_type": "stream",
     "text": [
      "extremum at  [-sqrt(2)*3**(3/4)/6 - sqrt(2)*3**(3/4)*I/6, -sqrt(2)*3**(3/4)/6 + sqrt(2)*3**(3/4)*I/6, sqrt(2)*3**(3/4)/6 - sqrt(2)*3**(3/4)*I/6, sqrt(2)*3**(3/4)/6 + sqrt(2)*3**(3/4)*I/6]\n",
      "minima at  -sqrt(2)*3**(3/4)/6 - sqrt(2)*3**(3/4)*I/6 ; min value =  -1/(-sqrt(2)*3**(3/4)/6 - sqrt(2)*3**(3/4)*I/6)**2 + 3*(-sqrt(2)*3**(3/4)/6 - sqrt(2)*3**(3/4)*I/6)**2\n",
      "minima at  -sqrt(2)*3**(3/4)/6 + sqrt(2)*3**(3/4)*I/6 ; min value =  -1/(-sqrt(2)*3**(3/4)/6 + sqrt(2)*3**(3/4)*I/6)**2 + 3*(-sqrt(2)*3**(3/4)/6 + sqrt(2)*3**(3/4)*I/6)**2\n",
      "minima at  sqrt(2)*3**(3/4)/6 - sqrt(2)*3**(3/4)*I/6 ; min value =  -1/(sqrt(2)*3**(3/4)/6 - sqrt(2)*3**(3/4)*I/6)**2 + 3*(sqrt(2)*3**(3/4)/6 - sqrt(2)*3**(3/4)*I/6)**2\n",
      "minima at  sqrt(2)*3**(3/4)/6 + sqrt(2)*3**(3/4)*I/6 ; min value =  -1/(sqrt(2)*3**(3/4)/6 + sqrt(2)*3**(3/4)*I/6)**2 + 3*(sqrt(2)*3**(3/4)/6 + sqrt(2)*3**(3/4)*I/6)**2\n"
     ]
    }
   ],
=======
   "execution_count": null,
   "metadata": {},
   "outputs": [],
>>>>>>> cece704621fde465001ce400b56ab7a8a28b3fa1
   "source": [
    "from sympy.solvers import solve\n",
    "\n",
    "expr = 3*x**2-1/x**2\n",
    "d1 = diff(expr,x)\n",
    "soln = solve(d1,x)\n",
    "print(\"extremum at \",soln)\n",
    "d2 = diff(d1,x)\n",
    "for i in soln:\n",
    "    if d2.subs([(x,i)])>0:\n",
    "        print('minima at ',i,\"; min value = \",expr.subs([(x,i)]))\n",
    "    elif d2.subs([(x,i)])<0:\n",
    "        print('maxina at ',i,\"; max value = \",expr.subs([(x,i)]))\n",
    "    else:\n",
    "        print('no extremum')"
   ]
  },
  {
   "cell_type": "code",
<<<<<<< HEAD
   "execution_count": 69,
   "metadata": {},
   "outputs": [
    {
     "name": "stdout",
     "output_type": "stream",
     "text": [
      "extremum at  [0, 1]\n",
      "no extremum\n",
      "minima at  1 ; min value =  -1\n"
     ]
    }
   ],
=======
   "execution_count": null,
   "metadata": {},
   "outputs": [],
>>>>>>> cece704621fde465001ce400b56ab7a8a28b3fa1
   "source": [
    "from sympy.solvers import solve\n",
    "\n",
    "expr = 3*x**4-4*x**3\n",
    "d1 = diff(expr,x)\n",
    "soln = solve(d1,x)\n",
    "print(\"extremum at \",soln)\n",
    "d2 = diff(d1,x)\n",
    "for i in soln:\n",
    "    if d2.subs([(x,i)])>0:\n",
    "        print('minima at ',i,\"; min value = \",expr.subs([(x,i)]))\n",
    "    elif d2.subs([(x,i)])<0:\n",
    "        print('maxina at ',i,\"; max value = \",expr.subs([(x,i)]))\n",
    "    else:\n",
    "        print('no extremum')"
   ]
  },
  {
   "cell_type": "code",
<<<<<<< HEAD
   "execution_count": 70,
   "metadata": {},
   "outputs": [
    {
     "name": "stdout",
     "output_type": "stream",
     "text": [
      "no extremum\n",
      "minima at  1 ; min value =  -1\n"
     ]
    }
   ],
=======
   "execution_count": null,
   "metadata": {},
   "outputs": [],
>>>>>>> cece704621fde465001ce400b56ab7a8a28b3fa1
   "source": [
    "from sympy.solvers import solve\n",
    "\n",
    "expr = 3*x**4-4*x**3\n",
    "d1 = diff(expr,x)\n",
    "soln = solve(d1,x)\n",
    "for i in soln:\n",
    "    if d2.subs([(x,i)])>0:\n",
    "        print('minima at ',i,\"; min value = \",expr.subs([(x,i)]))\n",
    "    elif d2.subs([(x,i)])<0:\n",
    "        print('maxina at ',i,\"; max value = \",expr.subs([(x,i)]))\n",
    "    else:\n",
    "        print('no extremum')"
   ]
  },
  {
   "cell_type": "code",
   "execution_count": null,
   "metadata": {},
   "outputs": [],
<<<<<<< HEAD
=======
   "source": [
    "import numpy.linalg as la\n",
    "import numpy as np\n"
   ]
  },
  {
   "cell_type": "markdown",
   "metadata": {},
   "source": [
    "##### Least Square Error"
   ]
  },
  {
   "cell_type": "code",
   "execution_count": null,
   "metadata": {},
   "outputs": [],
   "source": [
    "xi = np.array([4,6,7,8,1,9])\n",
    "yi = np.array([17,23,26,29,8,32])\n",
    "\n",
    "n = len(xi)\n",
    "sxi = xi.sum()\n",
    "syi = yi.sum()\n",
    "sxi2 = np.sum(xi*xi)\n",
    "sxiyi = np.sum(xi*yi)\n",
    "\n",
    "a = np.array([[n,sxi],\n",
    "             [sxi,sxi2]])\n",
    "b = np.array([syi,sxiyi])\n",
    "             \n",
    "print(\"Solution : \\n \",la.solve(a,b))"
   ]
  },
  {
   "cell_type": "code",
   "execution_count": null,
   "metadata": {},
   "outputs": [],
   "source": [
    "import pandas as pd\n",
    "import matplotlib.pyplot as plt"
   ]
  },
  {
   "cell_type": "code",
   "execution_count": null,
   "metadata": {},
   "outputs": [],
   "source": [
    "pizza = pd.read_csv('pizza.csv')\n",
    "pizza"
   ]
  },
  {
   "cell_type": "code",
   "execution_count": null,
   "metadata": {},
   "outputs": [],
   "source": [
    "# Y should be dependant and X should be Independant\n",
    "plt.scatter(pizza['Promote'],pizza['Sales'])\n",
    "plt.xlabel(\"Promotiomal Expendature\")\n",
    "plt.ylabel(\"Sales\")"
   ]
  },
  {
   "cell_type": "code",
   "execution_count": null,
   "metadata": {},
   "outputs": [],
   "source": [
    "xi = pizza['Promote']\n",
    "yi = pizza['Sales']"
   ]
  },
  {
   "cell_type": "code",
   "execution_count": null,
   "metadata": {},
   "outputs": [],
   "source": [
    "n = len(xi)\n",
    "sxi = xi.sum()\n",
    "syi = yi.sum()\n",
    "sxi2 = np.sum(xi*xi)\n",
    "sxiyi = np.sum(xi*yi)\n",
    "\n",
    "a = np.array([[n,sxi],\n",
    "             [sxi,sxi2]]) # n b0 + sxi b1 = sxyi\n",
    "b = np.array([syi,sxiyi]) # sxi b0 + sxi2 b1 = sxiyi\n",
    "             \n",
    "print(\"Solution : \\n \",la.solve(a,b))"
   ]
  },
  {
   "cell_type": "code",
   "execution_count": null,
   "metadata": {},
   "outputs": [],
   "source": [
    "la.solve(np.array([[len(xi),xi.sum()],[xi.sum(),np.sum(xi*xi)]]),np.array([yi.sum(),np.sum(xi*yi)]))"
   ]
  },
  {
   "cell_type": "code",
   "execution_count": null,
   "metadata": {},
   "outputs": [],
   "source": [
    "insurance = pd.read_csv('Insure_auto.csv')\n",
    "insurance"
   ]
  },
  {
   "cell_type": "code",
   "execution_count": null,
   "metadata": {},
   "outputs": [],
   "source": [
    "x1 = insurance['Home']\n",
    "x2 = insurance['Automobile']\n",
    "y = insurance['Operating_Cost']\n",
    "\n",
    "n = len(x1)\n",
    "sx1 = np.sum(x1)\n",
    "sx2 = np.sum(x2)\n",
    "sy = np.sum(y)\n",
    "sx1x2 = np.sum(x1*x2)\n",
    "sx1x1 = np.sum(x1**2)\n",
    "sx2x2 = np.sum(x2**2)\n",
    "sx1y = np.sum(x1*y)\n",
    "sx2y = np.sum(x2*y)\n",
    "\n",
    "a = np.array([[n , sx1 , sx2],\n",
    "              [sx1 , sx1x1 , sx1x2],\n",
    "              [sx2 , sx1x2 , sx2x2]])\n",
    "b = np.array([sy , sx1y , sx2y ])\n",
    "\n",
    "print(\"Solution : \\n \",la.solve(a,b))"
   ]
  },
  {
   "cell_type": "code",
   "execution_count": null,
   "metadata": {},
   "outputs": [],
   "source": [
    "import seaborn as sns\n",
    "import plotly as pt"
   ]
  },
  {
   "cell_type": "code",
   "execution_count": null,
   "metadata": {},
   "outputs": [],
   "source": [
    "# creating 3d plot using matplotlib\n",
    "# in python\n",
    "\n",
    "# for creating a responsive plot\n",
    "# %matplotlib widget\n",
    "\n",
    "# importing required libraries\n",
    "from mpl_toolkits.mplot3d import Axes3D\n",
    "import matplotlib.pyplot as plt\n",
    "\n",
    "# creating random dataset\n",
    "%matplotlib widget\n",
    "# creating figure\n",
    "fig = plt.figure()\n",
    "ax = Axes3D(fig)\n",
    "\n",
    "figg = plt.figure()\n",
    "ax = figg.add_subplot(111, projection='3d')\n",
    "# creating the plot\n",
    "plot_geeks = ax.scatter(insurance['Home'], insurance['Automobile'], insurance['Operating_Cost'], color='green')\n",
    "\n",
    "# setting title and labels\n",
    "ax.set_title(\"3D plot\")\n",
    "ax.set_xlabel('x-axis')\n",
    "ax.set_ylabel('y-axis')\n",
    "ax.set_zlabel('z-axis')\n",
    "\n",
    "# displaying the plot\n",
    "plt.show()\n"
   ]
  },
  {
   "cell_type": "code",
   "execution_count": null,
   "metadata": {},
   "outputs": [],
   "source": [
    "insurance"
   ]
  },
  {
   "cell_type": "markdown",
   "metadata": {},
   "source": []
  },
  {
   "cell_type": "code",
   "execution_count": null,
   "metadata": {},
   "outputs": [],
>>>>>>> cece704621fde465001ce400b56ab7a8a28b3fa1
   "source": []
  }
 ],
 "metadata": {
  "kernelspec": {
   "display_name": "base",
   "language": "python",
   "name": "python3"
  },
  "language_info": {
   "codemirror_mode": {
    "name": "ipython",
    "version": 3
   },
   "file_extension": ".py",
   "mimetype": "text/x-python",
   "name": "python",
   "nbconvert_exporter": "python",
   "pygments_lexer": "ipython3",
<<<<<<< HEAD
   "version": "3.11.4"
=======
   "version": "3.11.5"
>>>>>>> cece704621fde465001ce400b56ab7a8a28b3fa1
  },
  "orig_nbformat": 4
 },
 "nbformat": 4,
 "nbformat_minor": 2
}
