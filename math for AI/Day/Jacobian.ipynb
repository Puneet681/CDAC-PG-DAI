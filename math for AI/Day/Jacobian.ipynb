{
 "cells": [
  {
   "cell_type": "markdown",
   "metadata": {},
   "source": [
    "### __Jacobian__"
   ]
  },
  {
   "cell_type": "code",
   "execution_count": 1,
   "metadata": {},
   "outputs": [],
   "source": [
    "from sympy.abc import x, y, z\n",
    "from sympy import exp, Matrix, pprint , sin"
   ]
  },
  {
   "cell_type": "code",
   "execution_count": 3,
   "metadata": {},
   "outputs": [
    {
     "name": "stdout",
     "output_type": "stream",
     "text": [
      "⎡   1       0     0   ⎤\n",
      "⎢                     ⎥\n",
      "⎢   0       0     5   ⎥\n",
      "⎢                     ⎥\n",
      "⎢   0      8⋅y    -2  ⎥\n",
      "⎢                     ⎥\n",
      "⎣z⋅cos(x)   0   sin(x)⎦\n"
     ]
    }
   ],
   "source": [
    "# EX:-\n",
    "f = Matrix([x, 5*z , 4*(y**2)-2*z, z*sin(x)])\n",
    "variables = Matrix([x,y,z])\n",
    "pprint(f.jacobian(variables))"
   ]
  },
  {
   "cell_type": "code",
   "execution_count": 4,
   "metadata": {},
   "outputs": [],
   "source": [
    "import numpy as np\n",
    "from scipy.optimize import minimize"
   ]
  },
  {
   "cell_type": "code",
   "execution_count": 11,
   "metadata": {},
   "outputs": [
    {
     "name": "stdout",
     "output_type": "stream",
     "text": [
      "objective :  4.166666666666666\n",
      "[ 1.66666667  0.83333333 -0.83333333]\n"
     ]
    }
   ],
   "source": [
    "def objective(x):\n",
    "    return x[0]**2 + x[1]**2 + x[2]**2\n",
    "\n",
    "def constraint(x):\n",
    "    return 2*x[0] + x[1] -x[2] -5\n",
    "\n",
    "x0 = np.array([0,0,0])\n",
    "\n",
    "bounds = ((-10,10),(-10,10), (-10,10))\n",
    "constraints = [{'type':'eq','fun':constraint}]\n",
    "\n",
    "solution = minimize(objective , x0 , method= 'SLSQP',bounds=bounds , constraints=constraints)\n",
    "\n",
    "x = solution.x\n",
    "\n",
    "print(\"objective : \", objective(x))\n",
    "print(solution.x)"
   ]
  },
  {
   "cell_type": "code",
   "execution_count": 10,
   "metadata": {},
   "outputs": [
    {
     "name": "stdout",
     "output_type": "stream",
     "text": [
      "Objective: 4.166666666666666\n",
      "Solution: [ 1.66666667  0.83333333 -0.83333333]\n"
     ]
    }
   ],
   "source": [
    "def objective(x):\n",
    "    return x[0]**2 + x[1]**2 + x[2]**2\n",
    "\n",
    "def constraint(x):\n",
    "    return 2*x[0] + x[1] - x[2] - 5\n",
    "\n",
    "# initial guesses\n",
    "x0 = np.array([0,0,0])\n",
    "\n",
    "# optimize\n",
    "bounds = ((-10,10), (-10,10), (-10,10))\n",
    "constraints = [{\"type\":\"eq\", \"fun\":constraint}]\n",
    "solution = minimize(objective, x0, method='SLSQP',\n",
    "                    bounds=bounds, constraints=constraints)\n",
    "x = solution.x\n",
    "\n",
    "# show solution\n",
    "print('Objective:', objective(x))\n",
    "print('Solution:', x)"
   ]
  },
  {
   "cell_type": "code",
   "execution_count": null,
   "metadata": {},
   "outputs": [],
   "source": []
  }
 ],
 "metadata": {
  "kernelspec": {
   "display_name": "base",
   "language": "python",
   "name": "python3"
  },
  "language_info": {
   "codemirror_mode": {
    "name": "ipython",
    "version": 3
   },
   "file_extension": ".py",
   "mimetype": "text/x-python",
   "name": "python",
   "nbconvert_exporter": "python",
   "pygments_lexer": "ipython3",
   "version": "3.11.5"
  },
  "orig_nbformat": 4
 },
 "nbformat": 4,
 "nbformat_minor": 2
}
