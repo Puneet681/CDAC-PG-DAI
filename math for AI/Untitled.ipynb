{
 "cells": [
  {
   "cell_type": "code",
   "execution_count": 1,
   "id": "5ee5325a",
   "metadata": {},
   "outputs": [],
   "source": [
    "import numpy as np\n",
    "from numpy import linalg as la \n",
    "from sklearn.decomposition import PCA"
   ]
  },
  {
   "cell_type": "markdown",
   "id": "df22410a",
   "metadata": {},
   "source": [
    "### Single Value Decomposition"
   ]
  },
  {
   "cell_type": "code",
   "execution_count": 2,
   "id": "f289bee5",
   "metadata": {},
   "outputs": [
    {
     "name": "stdout",
     "output_type": "stream",
     "text": [
      "Shape :  (5, 5)\n",
      "U : \n",
      " [[-0.54225536  0.06499573  0.82161708  0.10574661 -0.12448979]\n",
      " [-0.10181247 -0.59346055 -0.11255162  0.78812338  0.06026999]\n",
      " [-0.52495325  0.05938171 -0.21296861 -0.11574223  0.81372354]\n",
      " [-0.64487038  0.07040626 -0.50874368 -0.05990271 -0.56282918]\n",
      " [-0.06449519 -0.79692967  0.09000966 -0.59219473 -0.04412631]]\n",
      "U Shape :\n",
      " (5, 5)\n",
      "S:\n",
      " [17.91837086 15.17137188  3.56400204  1.98422815  0.34955567]\n",
      "VT:\n",
      " [[-4.64617132e-01 -7.00859862e-02 -7.35093538e-01 -4.84391665e-01\n",
      "  -6.49698348e-02]\n",
      " [ 2.15065094e-02 -7.59987964e-01  9.87971197e-02  2.54473982e-02\n",
      "  -6.41519543e-01]\n",
      " [-8.68508563e-01  6.30714767e-02  2.84008516e-01  3.98865659e-01\n",
      "  -4.42743085e-02]\n",
      " [ 7.99553843e-04 -6.01345670e-01 -2.23484573e-01  3.32683813e-01\n",
      "   6.91201036e-01]\n",
      " [-1.71349432e-01 -2.27841223e-01  5.65040200e-01 -7.03523142e-01\n",
      "   3.23283947e-01]]\n",
      "VT Shape :\n",
      " (5, 5)\n"
     ]
    },
    {
     "data": {
      "text/plain": [
       "array([[-5.47704021e+00,  2.90525283e+00, -5.56039026e-02,\n",
       "        -1.96073316e-01,  3.20607035e-16],\n",
       "       [ 7.24789656e+00, -2.61731466e-01,  1.68935626e+00,\n",
       "        -1.59898341e-01,  3.20607035e-16],\n",
       "       [-5.22762970e+00, -6.82671247e-01,  1.89162817e-01,\n",
       "         8.06266183e-01,  3.20607035e-16],\n",
       "       [-6.65621724e+00, -2.03172957e+00, -4.09987936e-01,\n",
       "        -5.27974287e-01,  3.20607035e-16],\n",
       "       [ 1.01129906e+01,  7.08794554e-02, -1.41292724e+00,\n",
       "         7.76797608e-02,  3.20607035e-16]])"
      ]
     },
     "execution_count": 2,
     "metadata": {},
     "output_type": "execute_result"
    }
   ],
   "source": [
    "a = np.array([[2,0,8,6,0],\n",
    "             [1,6,0,1,7],\n",
    "             [5,0,7,4,0],\n",
    "             [7,0,8,5,0],\n",
    "             [0,10,0,0,7]])\n",
    "\n",
    "print(\"Shape : \",a.shape)\n",
    "U,S,VT = la.svd(a)\n",
    "#factors of given array \n",
    "print(\"U : \\n\",U)\n",
    "print(\"U Shape :\\n\",U.shape)\n",
    "print(\"S:\\n\",S)\n",
    "print(\"VT:\\n\",VT)\n",
    "print(\"VT Shape :\\n\",VT.shape)\n",
    "\n",
    "pca = PCA()\n",
    "pca.fit_transform(a)"
   ]
  },
  {
   "cell_type": "markdown",
   "id": "41d8a039",
   "metadata": {},
   "source": [
    "### Variance Covariance Matrix "
   ]
  },
  {
   "cell_type": "code",
   "execution_count": 3,
   "id": "f3ae15ee",
   "metadata": {},
   "outputs": [
    {
     "name": "stdout",
     "output_type": "stream",
     "text": [
      "\n",
      "Q1----------------\n",
      "\n",
      "[[2 5 7 8]\n",
      " [9 7 5 2]]\n",
      "[[ 5.25   -5.625 ]\n",
      " [-5.625   6.6875]]\n",
      "\n",
      "Q2----------------\n",
      "\n",
      "[[ 2  5  7  8]\n",
      " [ 3 10 18 24]]\n",
      "[[ 5.25   17.875 ]\n",
      " [17.875  63.1875]]\n"
     ]
    }
   ],
   "source": [
    "print(\"\\nQ1----------------\\n\")\n",
    "x = np.array([2,5,7,8])\n",
    "y = np.array([9,7,5,2,])\n",
    "data = np.stack((x,y) , axis=0)\n",
    "print(data)\n",
    "print(np.cov(data , ddof=0))\n",
    "\n",
    "print(\"\\nQ2----------------\\n\")\n",
    "x = np.array([2,5,7,8])\n",
    "y = np.array([3,10,18,24])\n",
    "data = np.stack((x,y) , axis=0)\n",
    "print(data)\n",
    "print(np.cov(data , ddof=0))"
   ]
  },
  {
   "cell_type": "code",
   "execution_count": null,
   "id": "923dfa7b",
   "metadata": {},
   "outputs": [],
   "source": []
  }
 ],
 "metadata": {
  "kernelspec": {
   "display_name": "Python 3 (ipykernel)",
   "language": "python",
   "name": "python3"
  },
  "language_info": {
   "codemirror_mode": {
    "name": "ipython",
    "version": 3
   },
   "file_extension": ".py",
   "mimetype": "text/x-python",
   "name": "python",
   "nbconvert_exporter": "python",
   "pygments_lexer": "ipython3",
   "version": "3.11.4"
  }
 },
 "nbformat": 4,
 "nbformat_minor": 5
}
