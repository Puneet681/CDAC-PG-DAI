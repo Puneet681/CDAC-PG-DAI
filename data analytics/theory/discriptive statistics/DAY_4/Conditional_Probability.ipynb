{
 "cells": [
  {
   "cell_type": "code",
   "execution_count": 24,
   "metadata": {},
   "outputs": [],
   "source": [
    "import pandas as pd\n",
    "import numpy as np\n",
    "import matplotlib.pyplot as plt"
   ]
  },
  {
   "cell_type": "code",
   "execution_count": 25,
   "id": "7b045ac9",
   "metadata": {},
   "outputs": [
    {
     "data": {
      "text/html": [
       "<div>\n",
       "<style scoped>\n",
       "    .dataframe tbody tr th:only-of-type {\n",
       "        vertical-align: middle;\n",
       "    }\n",
       "\n",
       "    .dataframe tbody tr th {\n",
       "        vertical-align: top;\n",
       "    }\n",
       "\n",
       "    .dataframe thead th {\n",
       "        text-align: right;\n",
       "    }\n",
       "</style>\n",
       "<table border=\"1\" class=\"dataframe\">\n",
       "  <thead>\n",
       "    <tr style=\"text-align: right;\">\n",
       "      <th></th>\n",
       "      <th>Gender</th>\n",
       "      <th>Age</th>\n",
       "    </tr>\n",
       "  </thead>\n",
       "  <tbody>\n",
       "    <tr>\n",
       "      <th>0</th>\n",
       "      <td>Male</td>\n",
       "      <td>20</td>\n",
       "    </tr>\n",
       "    <tr>\n",
       "      <th>1</th>\n",
       "      <td>Female</td>\n",
       "      <td>30</td>\n",
       "    </tr>\n",
       "    <tr>\n",
       "      <th>2</th>\n",
       "      <td>Male</td>\n",
       "      <td>45</td>\n",
       "    </tr>\n",
       "    <tr>\n",
       "      <th>3</th>\n",
       "      <td>Female</td>\n",
       "      <td>18</td>\n",
       "    </tr>\n",
       "    <tr>\n",
       "      <th>4</th>\n",
       "      <td>Male</td>\n",
       "      <td>28</td>\n",
       "    </tr>\n",
       "    <tr>\n",
       "      <th>5</th>\n",
       "      <td>Female</td>\n",
       "      <td>33</td>\n",
       "    </tr>\n",
       "    <tr>\n",
       "      <th>6</th>\n",
       "      <td>Male</td>\n",
       "      <td>28</td>\n",
       "    </tr>\n",
       "  </tbody>\n",
       "</table>\n",
       "</div>"
      ],
      "text/plain": [
       "   Gender  Age\n",
       "0    Male   20\n",
       "1  Female   30\n",
       "2    Male   45\n",
       "3  Female   18\n",
       "4    Male   28\n",
       "5  Female   33\n",
       "6    Male   28"
      ]
     },
     "execution_count": 25,
     "metadata": {},
     "output_type": "execute_result"
    }
   ],
   "source": [
    "df = pd.DataFrame({\n",
    "    'Gender' : ['Male','Female','Male','Female','Male','Female','Male'],\n",
    "    'Age' : [20,30,45,18,28,33,28]\n",
    "})\n",
    "df"
   ]
  },
  {
   "cell_type": "code",
   "execution_count": 40,
   "id": "d58c14c8",
   "metadata": {},
   "outputs": [
    {
     "name": "stdout",
     "output_type": "stream",
     "text": [
      "0.3333333333333333\n"
     ]
    }
   ],
   "source": [
    "# probabaility of a and b\n",
    "P_a_and_b = len(df[(df['Gender']=='Female') & (df['Age']>30)])/len(df)  # b = gender and a = age\n",
    "# probability of b\n",
    "p_b = len(df[df['Gender']=='Female'])/len(df)\n",
    "\n",
    "# probability of b given that a is true\n",
    "p_a_given_b = P_a_and_b / p_b\n",
    "\n",
    "print(p_a_given_b)"
   ]
  },
  {
   "cell_type": "code",
   "execution_count": 49,
   "id": "d17dc0b6",
   "metadata": {},
   "outputs": [
    {
     "name": "stdout",
     "output_type": "stream",
     "text": [
      "<pandas.core.groupby.generic.DataFrameGroupBy object at 0x7f9fdcb95f10>\n"
     ]
    }
   ],
   "source": [
    "grouped_df = df.groupby('Gender')"
   ]
  },
  {
   "cell_type": "code",
   "execution_count": 42,
   "id": "f0488a62",
   "metadata": {},
   "outputs": [
    {
     "data": {
      "text/plain": [
       "7"
      ]
     },
     "execution_count": 42,
     "metadata": {},
     "output_type": "execute_result"
    }
   ],
   "source": [
    "grouped_df['Age'].apply(lambda x: (x>30)).count() # counts both true (1) and false (0) "
   ]
  },
  {
   "cell_type": "code",
   "execution_count": 43,
   "id": "ba884305",
   "metadata": {},
   "outputs": [
    {
     "data": {
      "text/plain": [
       "2"
      ]
     },
     "execution_count": 43,
     "metadata": {},
     "output_type": "execute_result"
    }
   ],
   "source": [
    "grouped_df['Age'].apply(lambda x: (x>30)).sum() # Sums only True (1)'s not (0)'s "
   ]
  },
  {
   "cell_type": "code",
   "execution_count": 44,
   "id": "7c8d5929",
   "metadata": {},
   "outputs": [],
   "source": [
    "# count of peoples over 30\n",
    "over_30_count = grouped_df['Age'].apply(lambda x: (x>30).sum())\n"
   ]
  },
  {
   "cell_type": "code",
   "execution_count": 45,
   "id": "819a52ef",
   "metadata": {},
   "outputs": [],
   "source": [
    "# count of total people\n",
    "total_count = grouped_df['Age'].count()"
   ]
  },
  {
   "cell_type": "code",
   "execution_count": 46,
   "id": "4dea3861",
   "metadata": {},
   "outputs": [],
   "source": [
    "# conditionl probability of B given A\n",
    "conditional_probabelities = over_30_count / total_count\n"
   ]
  },
  {
   "cell_type": "code",
   "execution_count": 47,
   "id": "2d94bcde",
   "metadata": {},
   "outputs": [
    {
     "data": {
      "image/png": "[encoded data removed]",
      "text/plain": [
       "<Figure size 640x480 with 1 Axes>"
      ]
     },
     "metadata": {},
     "output_type": "display_data"
    }
   ],
   "source": [
    "# bar plot of conditional probability\n",
    "plt.bar(conditional_probabelities.index,conditional_probabelities)\n",
    "plt.xlabel('Gender')\n",
    "plt.ylabel('Probability')\n",
    "plt.title('Probability of age over 30')\n",
    "plt.show()"
   ]
  },
  {
   "cell_type": "code",
   "execution_count": 48,
   "id": "3fa68909",
   "metadata": {},
   "outputs": [
    {
     "name": "stdout",
     "output_type": "stream",
     "text": [
      "0.5\n"
     ]
    }
   ],
   "source": [
    "# probabaility of a and b\n",
    "P_a_and_b = len(df[(df['Gender']=='Female') & (df['Age']>30)])/len(df)  # B = gender and a= age\n",
    "\n",
    "# probability of b\n",
    "p_a = len(df[df['Age']> 30])/len(df)\n",
    "\n",
    "# probability of b given that a is true\n",
    "p_a_given_b = P_a_and_b / p_a\n",
    "\n",
    "print(p_a_given_b)"
   ]
  },
  {
   "cell_type": "markdown",
   "id": "e619bbce",
   "metadata": {},
   "source": [
    "###############################################################################"
   ]
  },
  {
   "cell_type": "code",
   "execution_count": 23,
   "id": "dedd7b46",
   "metadata": {},
   "outputs": [],
   "source": [
    "from numpy import random"
   ]
  },
  {
   "cell_type": "code",
   "execution_count": 24,
   "id": "72f80b76",
   "metadata": {},
   "outputs": [],
   "source": [
    "random.seed(0) #Ensure that everytime we run random it will generate same random numbers if we add seed"
   ]
  },
  {
   "cell_type": "code",
   "execution_count": 25,
   "id": "70741bbb",
   "metadata": {},
   "outputs": [],
   "source": [
    "totals = {20:0,30:0,40:0,50:0,60:0,70:0} # toatal no. of people in each age group\n",
    "\n",
    "purchases = {20:0,30:0,40:0,50:0,60:0,70:0} # purchases made by people\n",
    "totalPurchase = 0\n"
   ]
  },
  {
   "cell_type": "code",
   "execution_count": 53,
   "id": "1ab87ad6",
   "metadata": {},
   "outputs": [
    {
     "name": "stdout",
     "output_type": "stream",
     "text": [
      "Age :  {20: 16804, 30: 16594, 40: 16663, 50: 16697, 60: 16433, 70: 16809}\n",
      "Purchases :  {20: 3350, 30: 4906, 40: 6582, 50: 8298, 60: 9943, 70: 11823}\n",
      "44902\n"
     ]
    }
   ],
   "source": [
    "totals = {20:0,30:0,40:0,50:0,60:0,70:0} # toatal no. of people in each age group\n",
    "\n",
    "purchases = {20:0,30:0,40:0,50:0,60:0,70:0} # purchases made by people\n",
    "totalPurchase = 0\n",
    "\n",
    "for _ in range(100000):\n",
    "    ageDecade = random.choice([20,30,40,50,60,70])\n",
    "    # Select One of These\n",
    "\n",
    "    purchaseProbability = float(ageDecade)/100.0 #lesser the age lesser The probability\n",
    "    totals[ageDecade] += 1\n",
    "\n",
    "    # Generate a random number between 0 and 1 and compare it with the above number\n",
    "    # Example: suppose earlier ageDecade was 30, so the purchase probability = 0.3\n",
    "\n",
    "    if (random.random() < purchaseProbability):\n",
    "        totalPurchase += 1 \n",
    "        purchases[ageDecade] += 1\n",
    "    \n",
    "print(\"Age : \",totals)\n",
    "print(\"Purchases : \",purchases)\n",
    "print(totalPurchase)\n"
   ]
  },
  {
   "cell_type": "code",
   "execution_count": null,
   "id": "e7cfbd6c",
   "metadata": {},
   "outputs": [],
   "source": []
  },
  {
   "cell_type": "code",
   "execution_count": 54,
   "id": "ff1f8eeb",
   "metadata": {},
   "outputs": [
    {
     "name": "stdout",
     "output_type": "stream",
     "text": [
      "P(purchase|30s) : 0.2956490297697963\n"
     ]
    }
   ],
   "source": [
    "PEF = float(purchases[30])/float(totals[30])\n",
    "print('P(purchase|30s) : '+str(PEF))\n"
   ]
  },
  {
   "cell_type": "code",
   "execution_count": 55,
   "id": "ed6ef484",
   "metadata": {},
   "outputs": [
    {
     "name": "stdout",
     "output_type": "stream",
     "text": [
      "P(30's) : 0.16594\n"
     ]
    }
   ],
   "source": [
    "PF = float(totals[30])/100000.0\n",
    "print(\"P(30's) : \"+ str(PF))"
   ]
  },
  {
   "cell_type": "code",
   "execution_count": 56,
   "id": "06426c56",
   "metadata": {},
   "outputs": [
    {
     "name": "stdout",
     "output_type": "stream",
     "text": [
      "P(all) : 0.44902\n"
     ]
    }
   ],
   "source": [
    "PE = float(totalPurchase)/100000\n",
    "print(\"P(all) : \"+ str(PE))"
   ]
  },
  {
   "cell_type": "code",
   "execution_count": 57,
   "id": "63a5330b",
   "metadata": {},
   "outputs": [
    {
     "name": "stdout",
     "output_type": "stream",
     "text": [
      "P(30's , Purchases): 0.04906\n"
     ]
    }
   ],
   "source": [
    "print(\"P(30's , Purchases): \"+ str(float(purchases[30])/100000))"
   ]
  },
  {
   "cell_type": "code",
   "execution_count": 58,
   "id": "38ab711c",
   "metadata": {},
   "outputs": [
    {
     "name": "stdout",
     "output_type": "stream",
     "text": [
      "P(30's)P(Purchases): 0.0745103788\n"
     ]
    }
   ],
   "source": [
    "print(\"P(30's)P(Purchases): \"+ str(PE*PF))"
   ]
  },
  {
   "cell_type": "markdown",
   "id": "0c4d3613",
   "metadata": {},
   "source": [
    "## practice code"
   ]
  },
  {
   "cell_type": "code",
   "execution_count": 93,
   "id": "40b11350",
   "metadata": {},
   "outputs": [
    {
     "name": "stdout",
     "output_type": "stream",
     "text": [
      "Age :  {20: 1683, 30: 1653, 40: 1683, 50: 1654, 60: 1658, 70: 1669}\n",
      "Purchases :  {20: 857, 30: 886, 40: 853, 50: 811, 60: 852, 70: 858}\n",
      "5117\n"
     ]
    }
   ],
   "source": [
    "totals = {20:0,30:0,40:0,50:0,60:0,70:0} # toatal no. of people in each age group\n",
    "\n",
    "purchases = {20:0,30:0,40:0,50:0,60:0,70:0} # purchases made by people\n",
    "totalPurchase = 0\n",
    "\n",
    "totalPurchase = 0\n",
    "for _ in range(10000):\n",
    "    ageDecade = random.choice([20,30,40,50,60,70]) # Select random age group\n",
    "\n",
    "    purchaseProbability = float(ageDecade)/100.0 #lesser the age lesser The probability\n",
    "    totals[ageDecade] += 1\n",
    "\n",
    "    # Generate a random number between 0 and 1 and compare it with the above number\n",
    "    # Example: suppose earlier ageDecade was 30, so the purchase probability = 0.3\n",
    "    if (random.random() < 0.5): \n",
    "    #print(random.random())\n",
    "        totalPurchase += 1 \n",
    "        purchases[ageDecade] += 1\n",
    "    \n",
    "print(\"Age : \",totals)\n",
    "print(\"Purchases : \",purchases)\n",
    "print(totalPurchase)\n"
   ]
  },
  {
   "cell_type": "code",
   "execution_count": null,
   "id": "b2c73223",
   "metadata": {},
   "outputs": [
    {
     "name": "stdout",
     "output_type": "stream",
     "text": [
      "P(purchase|30s) : 0.6969715070784303\n",
      "P(30's) : 0.16741\n",
      "P(all) : 0.55006\n",
      "P(30's , Purchases): 0.11668\n",
      "P(30's)P(Purchases): 0.0920855446\n"
     ]
    }
   ],
   "source": [
    "PEF = float(purchases[30])/float(totals[30])\n",
    "print('P(purchase|30s) : '+str(PEF))\n",
    "\n",
    "PF = float(totals[30])/100000.0\n",
    "print(\"P(30's) : \"+ str(PF))\n",
    "PE = float(totalPurchase)/100000\n",
    "print(\"P(all) : \"+ str(PE))\n",
    "print(\"P(30's , Purchases): \"+ str(float(purchases[30])/100000))\n",
    "print(\"P(30's)P(Purchases): \"+ str(PE*PF))"
   ]
  },
  {
   "cell_type": "code",
   "execution_count": null,
   "id": "96058890",
   "metadata": {},
   "outputs": [],
   "source": []
  },
  {
   "cell_type": "markdown",
   "id": "cbb0ece7",
   "metadata": {},
   "source": []
  }
 ],
 "metadata": {
  "kernelspec": {
   "display_name": "base",
   "language": "python",
   "name": "python3"
  },
  "language_info": {
   "codemirror_mode": {
    "name": "ipython",
    "version": 3
   },
   "file_extension": ".py",
   "mimetype": "text/x-python",
   "name": "python",
   "nbconvert_exporter": "python",
   "pygments_lexer": "ipython3",
   "version": "3.11.5"
  }
 },
 "nbformat": 4,
 "nbformat_minor": 5
}
