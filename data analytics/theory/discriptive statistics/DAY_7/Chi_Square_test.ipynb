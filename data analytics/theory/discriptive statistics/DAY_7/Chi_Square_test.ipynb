{
 "cells": [
  {
   "cell_type": "markdown",
   "metadata": {},
   "source": [
    "### __Chi-Squared goodness of fit__"
   ]
  },
  {
   "cell_type": "markdown",
   "metadata": {},
   "source": [
    "here we use satas.chisquare\n",
    "primarilly used fro cunducting a chi-square goodness-of-fit test, which compress observed frequencies with expected frequincies under a specified theoratical distribution"
   ]
  },
  {
   "cell_type": "code",
   "execution_count": 47,
   "metadata": {},
   "outputs": [],
   "source": [
    "import numpy as np\n",
    "import pandas as pd\n",
    "import scipy.stats as stats"
   ]
  },
  {
   "cell_type": "markdown",
   "metadata": {},
   "source": [
    "fake demografic data for U.S and Minnesota state and walk through Chi-Square goodness of fit test to weather they are diffrent:"
   ]
  },
  {
   "cell_type": "code",
   "execution_count": 48,
   "metadata": {},
   "outputs": [
    {
     "data": {
      "text/html": [
       "<div>\n",
       "<style scoped>\n",
       "    .dataframe tbody tr th:only-of-type {\n",
       "        vertical-align: middle;\n",
       "    }\n",
       "\n",
       "    .dataframe tbody tr th {\n",
       "        vertical-align: top;\n",
       "    }\n",
       "\n",
       "    .dataframe thead th {\n",
       "        text-align: right;\n",
       "    }\n",
       "</style>\n",
       "<table border=\"1\" class=\"dataframe\">\n",
       "  <thead>\n",
       "    <tr style=\"text-align: right;\">\n",
       "      <th></th>\n",
       "      <th>0</th>\n",
       "    </tr>\n",
       "  </thead>\n",
       "  <tbody>\n",
       "    <tr>\n",
       "      <th>12381</th>\n",
       "      <td>White</td>\n",
       "    </tr>\n",
       "    <tr>\n",
       "      <th>126814</th>\n",
       "      <td>hispanic</td>\n",
       "    </tr>\n",
       "    <tr>\n",
       "      <th>110118</th>\n",
       "      <td>hispanic</td>\n",
       "    </tr>\n",
       "    <tr>\n",
       "      <th>84645</th>\n",
       "      <td>White</td>\n",
       "    </tr>\n",
       "    <tr>\n",
       "      <th>35856</th>\n",
       "      <td>White</td>\n",
       "    </tr>\n",
       "  </tbody>\n",
       "</table>\n",
       "</div>"
      ],
      "text/plain": [
       "               0\n",
       "12381      White\n",
       "126814  hispanic\n",
       "110118  hispanic\n",
       "84645      White\n",
       "35856      White"
      ]
     },
     "execution_count": 48,
     "metadata": {},
     "output_type": "execute_result"
    }
   ],
   "source": [
    "national = pd.DataFrame(['White']*100000+['hispanic']*60000+\\\n",
    "                        ['black']*50000+['asian']*15000 + ['other']*35000)\n",
    "national.sample(5)"
   ]
  },
  {
   "cell_type": "code",
   "execution_count": 49,
   "metadata": {},
   "outputs": [
    {
     "data": {
      "text/html": [
       "<div>\n",
       "<style scoped>\n",
       "    .dataframe tbody tr th:only-of-type {\n",
       "        vertical-align: middle;\n",
       "    }\n",
       "\n",
       "    .dataframe tbody tr th {\n",
       "        vertical-align: top;\n",
       "    }\n",
       "\n",
       "    .dataframe thead th {\n",
       "        text-align: right;\n",
       "    }\n",
       "</style>\n",
       "<table border=\"1\" class=\"dataframe\">\n",
       "  <thead>\n",
       "    <tr style=\"text-align: right;\">\n",
       "      <th></th>\n",
       "      <th>0</th>\n",
       "    </tr>\n",
       "  </thead>\n",
       "  <tbody>\n",
       "    <tr>\n",
       "      <th>775</th>\n",
       "      <td>hispanic</td>\n",
       "    </tr>\n",
       "    <tr>\n",
       "      <th>496</th>\n",
       "      <td>White</td>\n",
       "    </tr>\n",
       "    <tr>\n",
       "      <th>134</th>\n",
       "      <td>White</td>\n",
       "    </tr>\n",
       "    <tr>\n",
       "      <th>914</th>\n",
       "      <td>black</td>\n",
       "    </tr>\n",
       "    <tr>\n",
       "      <th>1021</th>\n",
       "      <td>black</td>\n",
       "    </tr>\n",
       "  </tbody>\n",
       "</table>\n",
       "</div>"
      ],
      "text/plain": [
       "             0\n",
       "775   hispanic\n",
       "496      White\n",
       "134      White\n",
       "914      black\n",
       "1021     black"
      ]
     },
     "execution_count": 49,
     "metadata": {},
     "output_type": "execute_result"
    }
   ],
   "source": [
    "minnesota = pd.DataFrame(['White']*600+['hispanic']*300+\\\n",
    "                        ['black']*250+['asian']*75 + ['other']*150)\n",
    "minnesota.sample(5)"
   ]
  },
  {
   "cell_type": "markdown",
   "metadata": {},
   "source": [
    "* create frequincy table(crosstable) for both datasets using pd.crosstab.\n",
    "* national_table and minnesota_table stores the counts of each demographic catagory"
   ]
  },
  {
   "cell_type": "code",
   "execution_count": 50,
   "metadata": {},
   "outputs": [
    {
     "name": "stdout",
     "output_type": "stream",
     "text": [
      "            0\n",
      "0       White\n",
      "1       White\n",
      "2       White\n",
      "3       White\n",
      "4       White\n",
      "...       ...\n",
      "259995  other\n",
      "259996  other\n",
      "259997  other\n",
      "259998  other\n",
      "259999  other\n",
      "\n",
      "[260000 rows x 1 columns]\n",
      "col_0      count\n",
      "0               \n",
      "White     100000\n",
      "asian      15000\n",
      "black      50000\n",
      "hispanic   60000\n",
      "other      35000\n"
     ]
    }
   ],
   "source": [
    "national_table = pd.crosstab(index =  national[0],columns = 'count')\n",
    "minnesota_table = pd.crosstab(index =  minnesota[0],columns = 'count')\n",
    "\n",
    "print(national)\n",
    "print(national_table)"
   ]
  },
  {
   "cell_type": "code",
   "execution_count": 51,
   "metadata": {},
   "outputs": [
    {
     "name": "stdout",
     "output_type": "stream",
     "text": [
      "          0\n",
      "0     White\n",
      "1     White\n",
      "2     White\n",
      "3     White\n",
      "4     White\n",
      "...     ...\n",
      "1370  other\n",
      "1371  other\n",
      "1372  other\n",
      "1373  other\n",
      "1374  other\n",
      "\n",
      "[1375 rows x 1 columns]\n",
      "col_0     count\n",
      "0              \n",
      "White       600\n",
      "asian        75\n",
      "black       250\n",
      "hispanic    300\n",
      "other       150\n"
     ]
    }
   ],
   "source": [
    "print(minnesota)\n",
    "print(minnesota_table)"
   ]
  },
  {
   "cell_type": "code",
   "execution_count": 52,
   "metadata": {},
   "outputs": [],
   "source": [
    "observed = minnesota_table\n",
    "national_ratio = national_table/len(national) # get population ratios"
   ]
  },
  {
   "cell_type": "markdown",
   "metadata": {},
   "source": [
    "calculate the expected counts by multiplying the polpulation ratios in the national dataset by number of observations in the Minnesota dataset."
   ]
  },
  {
   "cell_type": "code",
   "execution_count": 53,
   "metadata": {},
   "outputs": [],
   "source": [
    "expected = national_ratio * len(minnesota) # get expected count"
   ]
  },
  {
   "cell_type": "markdown",
   "metadata": {},
   "source": [
    "calculate the chi-squared statistics by comparing the obdesrved and expected counts and summing the squared diffrences, normalized by the expected counts. "
   ]
  },
  {
   "cell_type": "code",
   "execution_count": 54,
   "metadata": {},
   "outputs": [
    {
     "name": "stdout",
     "output_type": "stream",
     "text": [
      "Calculated Observed value\n"
     ]
    },
    {
     "data": {
      "text/plain": [
       "col_0\n",
       "count    18.194805\n",
       "dtype: float64"
      ]
     },
     "execution_count": 54,
     "metadata": {},
     "output_type": "execute_result"
    }
   ],
   "source": [
    "chi_squared_stat = (((observed-expected)**2)/expected).sum()\n",
    "print('Calculated Observed value')\n",
    "chi_squared_stat"
   ]
  },
  {
   "cell_type": "markdown",
   "metadata": {},
   "source": [
    "find the critical value for a 95% confidence interval with DF = 4"
   ]
  },
  {
   "cell_type": "code",
   "execution_count": 55,
   "metadata": {},
   "outputs": [
    {
     "name": "stdout",
     "output_type": "stream",
     "text": [
      "critical value\n"
     ]
    },
    {
     "data": {
      "text/plain": [
       "9.487729036781154"
      ]
     },
     "execution_count": 55,
     "metadata": {},
     "output_type": "execute_result"
    }
   ],
   "source": [
    "crit = stats.chi2.ppf(q=0.95, # find the critical value for 95% confidence\n",
    "                      df = 4) # Df = number of variable catagories -1\n",
    "\n",
    "print('critical value')\n",
    "crit"
   ]
  },
  {
   "cell_type": "markdown",
   "metadata": {},
   "source": [
    "calculate the p-value based on the chi-squared statistics and degrees of freedom"
   ]
  },
  {
   "cell_type": "code",
   "execution_count": 56,
   "metadata": {},
   "outputs": [
    {
     "name": "stdout",
     "output_type": "stream",
     "text": [
      "p-value\n"
     ]
    },
    {
     "data": {
      "text/plain": [
       "array([0.00113047])"
      ]
     },
     "execution_count": 56,
     "metadata": {},
     "output_type": "execute_result"
    }
   ],
   "source": [
    "p_value = 1- stats.chi2.cdf(x=chi_squared_stat, # finds the p-value\n",
    "                            df = 4)\n",
    "print('p-value')\n",
    "p_value"
   ]
  },
  {
   "cell_type": "markdown",
   "metadata": {},
   "source": [
    "* since our chi-squared statistics exceeeds the critical value, w'd reject the null hypothesis that the two distributions are same\n",
    "* you can carryout a chi=squared goodness of fit test automatically using scipy fuction scipy.stats.chisquare():"
   ]
  },
  {
   "cell_type": "code",
   "execution_count": 57,
   "metadata": {},
   "outputs": [
    {
     "data": {
      "text/plain": [
       "Power_divergenceResult(statistic=array([18.19480519]), pvalue=array([0.00113047]))"
      ]
     },
     "execution_count": 57,
     "metadata": {},
     "output_type": "execute_result"
    }
   ],
   "source": [
    "stats.chisquare(f_obs=observed,f_exp=expected)"
   ]
  },
  {
   "cell_type": "markdown",
   "metadata": {},
   "source": [
    "the test results agree with the values we calculated above"
   ]
  },
  {
   "cell_type": "markdown",
   "metadata": {},
   "source": [
    "### __Chi-squared contengency__"
   ]
  },
  {
   "cell_type": "markdown",
   "metadata": {},
   "source": [
    "* here we use chi2_contengency\n",
    "* __Purpose__:- it is ised for cunducting a chi-square test of independence or association between two categorical variables by analizing a contengency table (AKA two-way table)"
   ]
  },
  {
   "cell_type": "code",
   "execution_count": 1,
   "metadata": {},
   "outputs": [],
   "source": [
    "import pandas as pd \n",
    "import numpy as np\n",
    "import matplotlib.pyplot as plt\n",
    "import seaborn as sns\n",
    "import warnings as ws \n",
    "from scipy.stats import chi2_contingency"
   ]
  },
  {
   "cell_type": "code",
   "execution_count": 2,
   "metadata": {},
   "outputs": [
    {
     "data": {
      "text/html": [
       "<div>\n",
       "<style scoped>\n",
       "    .dataframe tbody tr th:only-of-type {\n",
       "        vertical-align: middle;\n",
       "    }\n",
       "\n",
       "    .dataframe tbody tr th {\n",
       "        vertical-align: top;\n",
       "    }\n",
       "\n",
       "    .dataframe thead th {\n",
       "        text-align: right;\n",
       "    }\n",
       "</style>\n",
       "<table border=\"1\" class=\"dataframe\">\n",
       "  <thead>\n",
       "    <tr style=\"text-align: right;\">\n",
       "      <th></th>\n",
       "      <th>age</th>\n",
       "      <th>anaemia</th>\n",
       "      <th>creatinine_phosphokinase</th>\n",
       "      <th>diabetes</th>\n",
       "      <th>ejection_fraction</th>\n",
       "      <th>high_blood_pressure</th>\n",
       "      <th>platelets</th>\n",
       "      <th>serum_creatinine</th>\n",
       "      <th>serum_sodium</th>\n",
       "      <th>sex</th>\n",
       "      <th>smoking</th>\n",
       "      <th>time</th>\n",
       "      <th>DEATH_EVENT</th>\n",
       "    </tr>\n",
       "  </thead>\n",
       "  <tbody>\n",
       "    <tr>\n",
       "      <th>274</th>\n",
       "      <td>60.0</td>\n",
       "      <td>1</td>\n",
       "      <td>257</td>\n",
       "      <td>1</td>\n",
       "      <td>30</td>\n",
       "      <td>0</td>\n",
       "      <td>150000.0</td>\n",
       "      <td>1.0</td>\n",
       "      <td>137</td>\n",
       "      <td>1</td>\n",
       "      <td>1</td>\n",
       "      <td>245</td>\n",
       "      <td>0</td>\n",
       "    </tr>\n",
       "    <tr>\n",
       "      <th>174</th>\n",
       "      <td>65.0</td>\n",
       "      <td>0</td>\n",
       "      <td>198</td>\n",
       "      <td>1</td>\n",
       "      <td>35</td>\n",
       "      <td>1</td>\n",
       "      <td>281000.0</td>\n",
       "      <td>0.9</td>\n",
       "      <td>137</td>\n",
       "      <td>1</td>\n",
       "      <td>1</td>\n",
       "      <td>146</td>\n",
       "      <td>0</td>\n",
       "    </tr>\n",
       "    <tr>\n",
       "      <th>102</th>\n",
       "      <td>80.0</td>\n",
       "      <td>0</td>\n",
       "      <td>898</td>\n",
       "      <td>0</td>\n",
       "      <td>25</td>\n",
       "      <td>0</td>\n",
       "      <td>149000.0</td>\n",
       "      <td>1.1</td>\n",
       "      <td>144</td>\n",
       "      <td>1</td>\n",
       "      <td>1</td>\n",
       "      <td>87</td>\n",
       "      <td>0</td>\n",
       "    </tr>\n",
       "    <tr>\n",
       "      <th>23</th>\n",
       "      <td>53.0</td>\n",
       "      <td>0</td>\n",
       "      <td>63</td>\n",
       "      <td>1</td>\n",
       "      <td>60</td>\n",
       "      <td>0</td>\n",
       "      <td>368000.0</td>\n",
       "      <td>0.8</td>\n",
       "      <td>135</td>\n",
       "      <td>1</td>\n",
       "      <td>0</td>\n",
       "      <td>22</td>\n",
       "      <td>0</td>\n",
       "    </tr>\n",
       "    <tr>\n",
       "      <th>238</th>\n",
       "      <td>65.0</td>\n",
       "      <td>1</td>\n",
       "      <td>720</td>\n",
       "      <td>1</td>\n",
       "      <td>40</td>\n",
       "      <td>0</td>\n",
       "      <td>257000.0</td>\n",
       "      <td>1.0</td>\n",
       "      <td>136</td>\n",
       "      <td>0</td>\n",
       "      <td>0</td>\n",
       "      <td>210</td>\n",
       "      <td>0</td>\n",
       "    </tr>\n",
       "  </tbody>\n",
       "</table>\n",
       "</div>"
      ],
      "text/plain": [
       "      age  anaemia  creatinine_phosphokinase  diabetes  ejection_fraction  \\\n",
       "274  60.0        1                       257         1                 30   \n",
       "174  65.0        0                       198         1                 35   \n",
       "102  80.0        0                       898         0                 25   \n",
       "23   53.0        0                        63         1                 60   \n",
       "238  65.0        1                       720         1                 40   \n",
       "\n",
       "     high_blood_pressure  platelets  serum_creatinine  serum_sodium  sex  \\\n",
       "274                    0   150000.0               1.0           137    1   \n",
       "174                    1   281000.0               0.9           137    1   \n",
       "102                    0   149000.0               1.1           144    1   \n",
       "23                     0   368000.0               0.8           135    1   \n",
       "238                    0   257000.0               1.0           136    0   \n",
       "\n",
       "     smoking  time  DEATH_EVENT  \n",
       "274        1   245            0  \n",
       "174        1   146            0  \n",
       "102        1    87            0  \n",
       "23         0    22            0  \n",
       "238        0   210            0  "
      ]
     },
     "execution_count": 2,
     "metadata": {},
     "output_type": "execute_result"
    }
   ],
   "source": [
    "df = pd.read_csv(\"heart_failure_clinical_records_dataset.csv\")\n",
    "df.sample(5)"
   ]
  },
  {
   "cell_type": "code",
   "execution_count": 5,
   "metadata": {},
   "outputs": [
    {
     "name": "stdout",
     "output_type": "stream",
     "text": [
      "Aginst Age\n",
      "Chi2ContingencyResult(statistic=1.042175485287005, pvalue=0.3073160508415107, dof=1, expected_freq=array([[115.4180602,  54.5819398],\n",
      "       [ 87.5819398,  41.4180602]]))\n"
     ]
    }
   ],
   "source": [
    "print('Aginst Age')\n",
    "print(chi2_contingency(pd.crosstab(index=df['anaemia'], columns = df['DEATH_EVENT'])))"
   ]
  },
  {
   "cell_type": "code",
   "execution_count": 6,
   "metadata": {},
   "outputs": [
    {
     "name": "stdout",
     "output_type": "stream",
     "text": [
      "Aginst Diabetes\n",
      "Chi2ContingencyResult(statistic=0.0, pvalue=1.0, dof=1, expected_freq=array([[118.13377926,  55.86622074],\n",
      "       [ 84.86622074,  40.13377926]]))\n"
     ]
    }
   ],
   "source": [
    "print('Aginst Diabetes')\n",
    "print(chi2_contingency(pd.crosstab(index=df['diabetes'], columns = df['DEATH_EVENT'])))"
   ]
  },
  {
   "cell_type": "code",
   "execution_count": 7,
   "metadata": {},
   "outputs": [
    {
     "name": "stdout",
     "output_type": "stream",
     "text": [
      "Aginst High Blood Pressure\n",
      "Chi2ContingencyResult(statistic=1.5434607612967581, pvalue=0.21410341199416902, dof=1, expected_freq=array([[131.71237458,  62.28762542],\n",
      "       [ 71.28762542,  33.71237458]]))\n"
     ]
    }
   ],
   "source": [
    "print('Aginst High Blood Pressure')\n",
    "print(chi2_contingency(pd.crosstab(index=df['high_blood_pressure'], columns = df['DEATH_EVENT'])))"
   ]
  },
  {
   "cell_type": "code",
   "execution_count": 8,
   "metadata": {},
   "outputs": [
    {
     "name": "stdout",
     "output_type": "stream",
     "text": [
      "Againts sex\n",
      "Chi2ContingencyResult(statistic=0.0, pvalue=1.0, dof=1, expected_freq=array([[ 71.28762542,  33.71237458],\n",
      "       [131.71237458,  62.28762542]]))\n"
     ]
    }
   ],
   "source": [
    "print('Againts sex')\n",
    "print(chi2_contingency(pd.crosstab(index=df['sex'], columns = df['DEATH_EVENT'])))"
   ]
  },
  {
   "cell_type": "markdown",
   "metadata": {},
   "source": [
    "the only column categorical that has relationship with Death Event is age, thta we can also see in the graph below"
   ]
  },
  {
   "cell_type": "code",
   "execution_count": 9,
   "metadata": {},
   "outputs": [
    {
     "data": {
      "image/png": "[encoded data removed]",
      "text/plain": [
       "<Figure size 2000x600 with 1 Axes>"
      ]
     },
     "metadata": {},
     "output_type": "display_data"
    }
   ],
   "source": [
    "plt.figure(figsize=(20,6))\n",
    "title = plt.title('Survival and Deaths by Age',fontsize=20)\n",
    "title.set_position([0.5,1.15])\n",
    "ax = sns.countplot(x='age',hue=\"DEATH_EVENT\",data=df)\n",
    "ax.set_xlabel('Age')\n",
    "ax.set_ylabel('Count')\n",
    "a = ax.set_xticklabels(ax.get_xticklabels(),rotation=0,horizontalalignment='center')\n",
    "plt.show()"
   ]
  },
  {
   "cell_type": "code",
   "execution_count": null,
   "metadata": {},
   "outputs": [],
   "source": []
  },
  {
   "cell_type": "code",
   "execution_count": null,
   "metadata": {},
   "outputs": [],
   "source": []
  },
  {
   "cell_type": "code",
   "execution_count": null,
   "metadata": {},
   "outputs": [],
   "source": []
  }
 ],
 "metadata": {
  "kernelspec": {
   "display_name": "base",
   "language": "python",
   "name": "python3"
  },
  "language_info": {
   "codemirror_mode": {
    "name": "ipython",
    "version": 3
   },
   "file_extension": ".py",
   "mimetype": "text/x-python",
   "name": "python",
   "nbconvert_exporter": "python",
   "pygments_lexer": "ipython3",
   "version": "3.11.5"
  }
 },
 "nbformat": 4,
 "nbformat_minor": 2
}
