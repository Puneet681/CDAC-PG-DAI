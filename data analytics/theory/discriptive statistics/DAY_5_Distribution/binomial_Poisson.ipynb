{
 "cells": [
  {
   "cell_type": "markdown",
   "metadata": {},
   "source": [
    "#### Binomial Distribution\n",
    "* No of Trials : n\n",
    "* Nof of Success : x or k\n",
    "* probability of sucess of single trail : p"
   ]
  },
  {
   "cell_type": "markdown",
   "metadata": {},
   "source": [
    "###### Hospital records show that of patients suffering from a specific condition, 75% die of it. What will the probability that six randomly selected patients four will recover "
   ]
  },
  {
   "cell_type": "code",
   "execution_count": 1,
   "metadata": {},
   "outputs": [
    {
     "name": "stdout",
     "output_type": "stream",
     "text": [
      "0.03295898437499997\n"
     ]
    }
   ],
   "source": [
    "p = 0.25\n",
    "n = 6\n",
    "x = 4 \n",
    "\n",
    "from scipy.stats import binom\n",
    "\n",
    "# nCx * p**x*(1-p)**(n-x)\n",
    "probab = binom.pmf(k=4,n=6,p=0.25)\n",
    "print(probab)"
   ]
  },
  {
   "cell_type": "markdown",
   "metadata": {},
   "source": [
    "###### A blindfolded masksman finds that on the average he hits the target '4' times out of '5' If he fires '4' shots ,what is probability of \n",
    "* (a) more than 2 hits\n",
    "* (b) atlest 3 misses"
   ]
  },
  {
   "cell_type": "code",
   "execution_count": 8,
   "metadata": {},
   "outputs": [
    {
     "name": "stdout",
     "output_type": "stream",
     "text": [
      "0.4352000000000001\n"
     ]
    }
   ],
   "source": [
    "probab = binom.pmf(k=4,n=4,p=0.80) + binom.pmf(k=3,n=4,p=0.20) # more than 2 so 3 or 4 \n",
    "print(probab)"
   ]
  },
  {
   "cell_type": "code",
   "execution_count": 3,
   "metadata": {},
   "outputs": [
    {
     "name": "stdout",
     "output_type": "stream",
     "text": [
      "0.027199999999999974\n",
      "0.025599999999999984\n"
     ]
    }
   ],
   "source": [
    "from scipy.special import comb\n",
    "n = 4\n",
    "k = 1\n",
    "p = 0.80\n",
    "probab = binom.pmf(k=1,n=4,p=0.80) + binom.pmf(k=0,n=4,p=0.80) \n",
    "probab1 = comb(n,k)*(p**k)*((1-p)**(n-k))\n",
    "print(probab)\n",
    "print(probab1)"
   ]
  },
  {
   "cell_type": "code",
   "execution_count": 4,
   "metadata": {},
   "outputs": [
    {
     "name": "stdout",
     "output_type": "stream",
     "text": [
      "0.02719999999999998\n"
     ]
    }
   ],
   "source": [
    "probab = binom.cdf(k=1,n=4,p=0.80) \n",
    "print(probab)"
   ]
  },
  {
   "cell_type": "markdown",
   "metadata": {},
   "source": [
    "#### Poisson distribution"
   ]
  },
  {
   "cell_type": "code",
   "execution_count": 5,
   "metadata": {},
   "outputs": [],
   "source": [
    "import numpy as np"
   ]
  },
  {
   "cell_type": "code",
   "execution_count": 6,
   "metadata": {},
   "outputs": [
    {
     "name": "stdout",
     "output_type": "stream",
     "text": [
      "Probability of Selling some policies :  0.04978706836786394\n"
     ]
    }
   ],
   "source": [
    "from scipy.stats import poisson\n",
    "l = 3 # lambda\n",
    "\n",
    "print('Probability of Selling some policies : ',poisson.pmf(k=0,mu=l))"
   ]
  },
  {
   "cell_type": "code",
   "execution_count": 7,
   "metadata": {},
   "outputs": [
    {
     "name": "stdout",
     "output_type": "stream",
     "text": [
      "Probability of Selling 2 or more policies but less than 5 policies :  [0.22404181 0.22404181 0.16803136]\n"
     ]
    }
   ],
   "source": [
    "print('Probability of Selling 2 or more policies but less than 5 policies : ',poisson.pmf(k=[2,3,4],mu=l))"
   ]
  },
  {
   "cell_type": "code",
   "execution_count": 9,
   "metadata": {},
   "outputs": [
    {
     "name": "stdout",
     "output_type": "stream",
     "text": [
      "Probability on a given day ,he will sell one policy:  0.3292869816564159\n"
     ]
    }
   ],
   "source": [
    "# Assuming per week there are 5 working days \n",
    "print('Probability on a given day ,he will sell one policy: ',poisson.pmf(k=1,mu=3/5))"
   ]
  },
  {
   "cell_type": "code",
   "execution_count": 13,
   "metadata": {},
   "outputs": [
    {
     "name": "stdout",
     "output_type": "stream",
     "text": [
      "Probability on a given day ,he will sell one policy:  0.22404180765538775\n"
     ]
    }
   ],
   "source": [
    "# Interesting !!! it will NOT be 100 %\n",
    "print('Probability on a given day ,he will sell one policy: ',poisson.pmf(k=3,mu=l))"
   ]
  }
 ],
 "metadata": {
  "kernelspec": {
   "display_name": "base",
   "language": "python",
   "name": "python3"
  },
  "language_info": {
   "codemirror_mode": {
    "name": "ipython",
    "version": 3
   },
   "file_extension": ".py",
   "mimetype": "text/x-python",
   "name": "python",
   "nbconvert_exporter": "python",
   "pygments_lexer": "ipython3",
   "version": "3.11.5"
  },
  "orig_nbformat": 4
 },
 "nbformat": 4,
 "nbformat_minor": 2
}
