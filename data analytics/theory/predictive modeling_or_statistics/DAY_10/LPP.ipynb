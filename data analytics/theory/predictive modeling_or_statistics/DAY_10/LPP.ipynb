{
 "cells": [
  {
   "cell_type": "markdown",
   "metadata": {},
   "source": [
    "## Linear Programming Problems"
   ]
  },
  {
   "cell_type": "markdown",
   "metadata": {},
   "source": [
    "#### Example 1"
   ]
  },
  {
   "cell_type": "markdown",
   "metadata": {},
   "source": [
    "We want tot manufacture case of type A and B How many cars of each type to manufacture per day ? \n",
    "suppose we have three resources R1,R2,R3 that are needed to manufacture cars.\n",
    "* Car A needs 3 units of R1 ,5 units of R2 and 1.5 units of R3\n",
    "* Car B needs 4 units of R1,6 units of R2 and 3 units of R3\n",
    "* Maximum availability of resources per day is: R1 = 30, R2 = 60, R3 = 21 \n",
    "* Each Car A sale contributes 30,000 to the profits,Car B sale contributes 45,000 to the profits\n",
    "How many cars of each type should we manufacture each day"
   ]
  },
  {
   "cell_type": "code",
   "execution_count": 1,
   "metadata": {},
   "outputs": [],
   "source": [
    "# ! pip install pulp"
   ]
  },
  {
   "cell_type": "code",
   "execution_count": 2,
   "metadata": {},
   "outputs": [],
   "source": [
    "from pulp import *"
   ]
  },
  {
   "cell_type": "code",
   "execution_count": 6,
   "metadata": {},
   "outputs": [
    {
     "name": "stdout",
     "output_type": "stream",
     "text": [
      "Welcome to the CBC MILP Solver \n",
      "Version: 2.10.3 \n",
      "Build Date: Dec 15 2019 \n",
      "\n",
      "command line - /home/dai/anaconda3/lib/python3.11/site-packages/pulp/solverdir/cbc/linux/64/cbc /tmp/5c0fdfbf581047368c6c6863c20d883b-pulp.mps max timeMode elapsed branch printingOptions all solution /tmp/5c0fdfbf581047368c6c6863c20d883b-pulp.sol (default strategy 1)\n",
      "At line 2 NAME          MODEL\n",
      "At line 3 ROWS\n",
      "At line 9 COLUMNS\n",
      "At line 24 RHS\n",
      "At line 29 BOUNDS\n",
      "At line 32 ENDATA\n",
      "Problem MODEL has 4 rows, 2 columns and 8 elements\n",
      "Coin0008I MODEL read with 0 errors\n",
      "Option for timeMode changed from cpu to elapsed\n",
      "Continuous objective value is 330000 - 0.00 seconds\n",
      "Cgl0004I processed model has 4 rows, 2 columns (2 integer (0 of which binary)) and 8 elements\n",
      "Cutoff increment increased from 1e-05 to 15000\n",
      "Cbc0012I Integer solution of -330000 found by DiveCoefficient after 0 iterations and 0 nodes (0.00 seconds)\n",
      "Cbc0001I Search completed - best objective -330000, took 0 iterations and 0 nodes (0.00 seconds)\n",
      "Cbc0035I Maximum depth 0, 0 variables fixed on reduced cost\n",
      "Cuts at root node changed objective from -330000 to -330000\n",
      "Probing was tried 0 times and created 0 cuts of which 0 were active after adding rounds of cuts (0.000 seconds)\n",
      "Gomory was tried 0 times and created 0 cuts of which 0 were active after adding rounds of cuts (0.000 seconds)\n",
      "Knapsack was tried 0 times and created 0 cuts of which 0 were active after adding rounds of cuts (0.000 seconds)\n",
      "Clique was tried 0 times and created 0 cuts of which 0 were active after adding rounds of cuts (0.000 seconds)\n",
      "MixedIntegerRounding2 was tried 0 times and created 0 cuts of which 0 were active after adding rounds of cuts (0.000 seconds)\n",
      "FlowCover was tried 0 times and created 0 cuts of which 0 were active after adding rounds of cuts (0.000 seconds)\n",
      "TwoMirCuts was tried 0 times and created 0 cuts of which 0 were active after adding rounds of cuts (0.000 seconds)\n",
      "ZeroHalf was tried 0 times and created 0 cuts of which 0 were active after adding rounds of cuts (0.000 seconds)\n",
      "\n",
      "Result - Optimal solution found\n",
      "\n",
      "Objective value:                330000.00000000\n",
      "Enumerated nodes:               0\n",
      "Total iterations:               0\n",
      "Time (CPU seconds):             0.00\n",
      "Time (Wallclock seconds):       0.00\n",
      "\n",
      "Option for printingOptions changed from normal to all\n",
      "Total time (CPU seconds):       0.00   (Wallclock seconds):       0.00\n",
      "\n",
      "Production of Car A = 2.0\n",
      "Production of Car B = 6.0\n",
      "330000.0\n"
     ]
    },
    {
     "name": "stderr",
     "output_type": "stream",
     "text": [
      "/home/dai/anaconda3/lib/python3.11/site-packages/pulp/pulp.py:1352: UserWarning: Spaces are not permitted in the name. Converted to '_'\n",
      "  warnings.warn(\"Spaces are not permitted in the name. Converted to '_'\")\n"
     ]
    }
   ],
   "source": [
    "import pulp\n",
    "model = pulp.LpProblem(\"Profit Maximising Problem\",pulp.LpMaximize)\n",
    "\n",
    "A = pulp.LpVariable('A',lowBound=0,cat='Integer') \n",
    "B = pulp.LpVariable('B',lowBound=0,cat='Integer')\n",
    "\n",
    "#Objective Function\n",
    "model += 30000 * A + 45000 * B,'Profit'\n",
    "\n",
    "#Main Constraints\n",
    "model += 3*A + 4*B <= 30 \n",
    "model += 5*A + 6*B <= 60\n",
    "model += 1.5*A + 3*B <= 21\n",
    "\n",
    "# Additional Constriants \n",
    "\n",
    "# What - if Analysis \n",
    "# what if we want to manufacture at least 5 cars per day \n",
    "# Add one more constrant \n",
    "\n",
    "#model += A >= 5 \n",
    "\n",
    "# some more different constrant \n",
    "#odel += A >= B\n",
    "model += A <= B\n",
    "\n",
    "# (basically model += constaints  )\n",
    "\n",
    "# Solve our Problem\n",
    "model.solve()\n",
    "pulp.LpStatus[model.status]\n",
    "\n",
    "# Print Decision variable \n",
    "print(f\"Production of Car A = {A.varValue}\")\n",
    "print(f\"Production of Car B = {B.varValue}\")\n",
    "\n",
    "# Print our objective function\n",
    "print(pulp.value(model.objective))"
   ]
  },
  {
   "cell_type": "markdown",
   "metadata": {},
   "source": [
    "#### Example 2"
   ]
  },
  {
   "cell_type": "markdown",
   "metadata": {},
   "source": []
  },
  {
   "cell_type": "code",
   "execution_count": 12,
   "metadata": {},
   "outputs": [
    {
     "name": "stdout",
     "output_type": "stream",
     "text": [
      "Welcome to the CBC MILP Solver \n",
      "Version: 2.10.3 \n",
      "Build Date: Dec 15 2019 \n",
      "\n",
      "command line - /home/dai/anaconda3/lib/python3.11/site-packages/pulp/solverdir/cbc/linux/64/cbc /tmp/b47054720b5a4017a496fbb5aed657f1-pulp.mps max timeMode elapsed branch printingOptions all solution /tmp/b47054720b5a4017a496fbb5aed657f1-pulp.sol (default strategy 1)\n",
      "At line 2 NAME          MODEL\n",
      "At line 3 ROWS\n",
      "At line 10 COLUMNS\n",
      "At line 31 RHS\n",
      "At line 37 BOUNDS\n",
      "At line 41 ENDATA\n",
      "Problem MODEL has 5 rows, 3 columns and 11 elements\n",
      "Coin0008I MODEL read with 0 errors\n",
      "Option for timeMode changed from cpu to elapsed\n",
      "Continuous objective value is 595 - 0.00 seconds\n",
      "Cgl0004I processed model has 3 rows, 3 columns (3 integer (0 of which binary)) and 9 elements\n",
      "Cutoff increment increased from 1e-05 to 4.9999\n",
      "Cbc0012I Integer solution of -595 found by DiveCoefficient after 0 iterations and 0 nodes (0.00 seconds)\n",
      "Cbc0001I Search completed - best objective -595, took 0 iterations and 0 nodes (0.00 seconds)\n",
      "Cbc0035I Maximum depth 0, 0 variables fixed on reduced cost\n",
      "Cuts at root node changed objective from -595 to -595\n",
      "Probing was tried 0 times and created 0 cuts of which 0 were active after adding rounds of cuts (0.000 seconds)\n",
      "Gomory was tried 0 times and created 0 cuts of which 0 were active after adding rounds of cuts (0.000 seconds)\n",
      "Knapsack was tried 0 times and created 0 cuts of which 0 were active after adding rounds of cuts (0.000 seconds)\n",
      "Clique was tried 0 times and created 0 cuts of which 0 were active after adding rounds of cuts (0.000 seconds)\n",
      "MixedIntegerRounding2 was tried 0 times and created 0 cuts of which 0 were active after adding rounds of cuts (0.000 seconds)\n",
      "FlowCover was tried 0 times and created 0 cuts of which 0 were active after adding rounds of cuts (0.000 seconds)\n",
      "TwoMirCuts was tried 0 times and created 0 cuts of which 0 were active after adding rounds of cuts (0.000 seconds)\n",
      "ZeroHalf was tried 0 times and created 0 cuts of which 0 were active after adding rounds of cuts (0.000 seconds)\n",
      "\n",
      "Result - Optimal solution found\n",
      "\n",
      "Objective value:                595.00000000\n",
      "Enumerated nodes:               0\n",
      "Total iterations:               0\n",
      "Time (CPU seconds):             0.00\n",
      "Time (Wallclock seconds):       0.00\n",
      "\n",
      "Option for printingOptions changed from normal to all\n",
      "Total time (CPU seconds):       0.01   (Wallclock seconds):       0.01\n",
      "\n",
      "Production of BookCase = 1.0\n",
      "Production of Chairs = 17.0\n",
      "Production of Table = 1.0\n",
      "595.0\n"
     ]
    }
   ],
   "source": [
    "model = LpProblem(\"Profit Maximising Problem\",LpMaximize)\n",
    "\n",
    "A = LpVariable('Table',0,None,LpInteger) \n",
    "B = LpVariable('Chairs',0,None,LpInteger)\n",
    "C = LpVariable('BookCase',0,None,LpInteger)\n",
    "\n",
    "#Objective Function\n",
    "model += 40 * A + 30 * B + 45 * C,'Profit'\n",
    "\n",
    "#Main Constraints\n",
    "model += 2*A + 1*B + 5*C <= 60 # Hours\n",
    "model += 0.8*A + 0.6*B + 1.0*C <= 16 # Hours\n",
    "model += 30*A + 20*B + 30*C <= 400 # Board-feet\n",
    "\n",
    "# Additional Constriants \n",
    "model += A >= 1,'Chairs'\n",
    "model += C >= 1,'BookCases'\n",
    "\n",
    "# Solve our Problem\n",
    "model.solve()\n",
    "\n",
    "# Print Decision variable \n",
    "for i in model.variables():\n",
    "    print(f\"Production of {i.name} = {i.varValue}\")\n",
    "\n",
    "# Print our objective function\n",
    "print(pulp.value(model.objective))"
   ]
  },
  {
   "cell_type": "code",
   "execution_count": null,
   "metadata": {},
   "outputs": [],
   "source": []
  }
 ],
 "metadata": {
  "kernelspec": {
   "display_name": "base",
   "language": "python",
   "name": "python3"
  },
  "language_info": {
   "codemirror_mode": {
    "name": "ipython",
    "version": 3
   },
   "file_extension": ".py",
   "mimetype": "text/x-python",
   "name": "python",
   "nbconvert_exporter": "python",
   "pygments_lexer": "ipython3",
   "version": "3.11.5"
  }
 },
 "nbformat": 4,
 "nbformat_minor": 2
}
