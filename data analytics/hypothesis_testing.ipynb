{
 "cells": [
  {
   "cell_type": "markdown",
   "metadata": {},
   "source": [
    "## __Hypothesis Testing__"
   ]
  },
  {
   "cell_type": "markdown",
   "metadata": {},
   "source": [
    "### __Z-test : -__ \n",
    "#### __Used When sample size is ```More Than 30```.__"
   ]
  },
  {
   "cell_type": "markdown",
   "metadata": {},
   "source": [
    "* __One Sample-Z-test__ :- Compares the Sample mean to population mean.\n",
    "    * __Null-Hypo__ :- Sample mean is equale to Population Mean\n",
    "    * __Alt-Hypo__ :- Sample mean is not equale to Population Mean\n",
    "    * __solution__ :- \n",
    "        * ```p-value < ⍺ value``` (significance level) ---> we ```Reject``` the Null-Hypothesys\n",
    "        * ```p-value > ⍺ value``` (significance level) ---> we ```fail Reject``` the Null-Hypothesys\n",
    "    * __One Sample Z-test Sintax and example : -__"
   ]
  },
  {
   "cell_type": "code",
   "execution_count": 5,
   "metadata": {},
   "outputs": [
    {
     "data": {
      "text/plain": [
       "(1.5976240527147705, 0.1101266701438426)"
      ]
     },
     "execution_count": 5,
     "metadata": {},
     "output_type": "execute_result"
    }
   ],
   "source": [
    "from statsmodels.stats.weightstats import ztest as ztest\n",
    "\n",
    "#enter IQ levels for 20 patients\n",
    "data = [88, 92, 94, 94, 96, 97, 97, 97, 99, 99,\n",
    "        105, 109, 109, 109, 110, 112, 112, 113, 114, 115]\n",
    "\n",
    "#perform one sample z-test\n",
    "ztest(data, value=100)\n",
    "\n",
    "(1.5976240527147705, 0.1101266701438426)\n",
    "#<<--->>T-Stat<<--------->>P-value<<---->>"
   ]
  },
  {
   "cell_type": "markdown",
   "metadata": {},
   "source": [
    "* __Two Sample-Z-test__ :- Compares the means of two samples.\n",
    "    * __Null-Hypo__ :- their is no diffrence between two samples.\n",
    "    * __Alt-Hypo__ :- their is diffrence between two samples.\n",
    "    * __solution__ :- \n",
    "        * ```p-value < ⍺ value``` (significance level) ---> we ```Reject``` the Null-Hypothesys\n",
    "        * ```p-value > ⍺ value``` (significance level) ---> we ```fail Reject``` the Null-Hypothesys\n",
    "    * __Two Sample-Z-test Sintax and example : -__"
   ]
  },
  {
   "cell_type": "code",
   "execution_count": 4,
   "metadata": {},
   "outputs": [
    {
     "data": {
      "text/plain": [
       "(-1.9953236073282115, 0.046007596761332065)"
      ]
     },
     "execution_count": 4,
     "metadata": {},
     "output_type": "execute_result"
    }
   ],
   "source": [
    "from statsmodels.stats.weightstats import ztest as ztest\n",
    "\n",
    "#enter IQ levels for 20 individuals from each city\n",
    "cityA = [82, 84, 85, 89, 91, 91, 92, 94, 99, 99,\n",
    "         105, 109, 109, 109, 110, 112, 112, 113, 114, 114]\n",
    "\n",
    "cityB = [90, 91, 91, 91, 95, 95, 99, 99, 108, 109,\n",
    "         109, 114, 115, 116, 117, 117, 128, 129, 130, 133]\n",
    "\n",
    "#perform two sample z-test\n",
    "ztest(cityA, cityB, value=0) \n",
    "\n",
    "(-1.9953236073282115, 0.046007596761332065)\n",
    "#<<--->>T-Stat<<--------->>P-value<<----->>"
   ]
  },
  {
   "cell_type": "code",
   "execution_count": null,
   "metadata": {},
   "outputs": [],
   "source": []
  }
 ],
 "metadata": {
  "kernelspec": {
   "display_name": "base",
   "language": "python",
   "name": "python3"
  },
  "language_info": {
   "codemirror_mode": {
    "name": "ipython",
    "version": 3
   },
   "file_extension": ".py",
   "mimetype": "text/x-python",
   "name": "python",
   "nbconvert_exporter": "python",
   "pygments_lexer": "ipython3",
   "version": "3.11.5"
  }
 },
 "nbformat": 4,
 "nbformat_minor": 2
}
