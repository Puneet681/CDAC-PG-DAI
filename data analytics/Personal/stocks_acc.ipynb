{
 "cells": [
  {
   "cell_type": "code",
   "execution_count": null,
   "metadata": {},
   "outputs": [],
   "source": [
    "# ! pip install yfinance"
   ]
  },
  {
   "cell_type": "code",
   "execution_count": null,
   "metadata": {},
   "outputs": [],
   "source": [
    "import pandas as pd\n",
    "import numpy as np\n",
    "import matplotlib.pyplot as plt\n",
    "import seaborn as sns\n",
    "import yfinance as yf\n",
    "import pandas as pd "
   ]
  },
  {
   "cell_type": "code",
   "execution_count": null,
   "metadata": {},
   "outputs": [],
   "source": [
    "df = pd.read_excel('MCAP31032023_0.xlsx')\n",
    "sym_comp = df['Symbol']\n",
    "sym_comp.dropna(inplace=True)\n",
    "sym_comp.isna().sum()\n",
    "tickers = []\n",
    "tickers.extend(sym_comp.values)"
   ]
  },
  {
   "cell_type": "code",
   "execution_count": null,
   "metadata": {},
   "outputs": [],
   "source": [
    "tcs_test = pd.read_csv('stocksdata_test.csv')\n",
    "dic = {'year':[],'month':[],'date':[]}\n",
    "lth = len(tcs_test.Date)\n",
    "for i in range(lth):\n",
    "    lst = tcs_test.Date[i].split(sep='-')\n",
    "    dic['date'].append(lst[2])\n",
    "    dic['month'].append(lst[1])\n",
    "    dic['year'].append(lst[0])\n",
    "\n",
    "dft = pd.DataFrame(dic)\n",
    "dft.index\n",
    "tcs_test['Date'] = pd.to_datetime(dft['date'].astype(str)+'-'+dft['month'].astype(str)+'-'+dft['year'].astype(str),dayfirst=True,infer_datetime_format=True) # feature type is not datetime \n",
    "print(tcs_test.info())\n",
    "tcs_test.set_index('Date',inplace=True)\n",
    "print(tcs_test.head())\n",
    "tcs_test.tail()"
   ]
  },
  {
   "cell_type": "code",
   "execution_count": null,
   "metadata": {},
   "outputs": [],
   "source": [
    "# df = yf.download(tickers[1],period='6mo')\n",
    "# f = open('stocksdata.csv','w')\n",
    "# df.to_csv('stocksdata.csv')\n",
    "# f.close()\n",
    "df = pd.read_csv('stocksdata_acc.csv')\n",
    "df"
   ]
  },
  {
   "cell_type": "code",
   "execution_count": null,
   "metadata": {},
   "outputs": [],
   "source": [
    "dic = {'year':[],'month':[],'date':[]}\n",
    "lth = len(df.Date)\n",
    "for i in range(lth):\n",
    "    lst = df.Date[i].split(sep='-')\n",
    "    dic['date'].append(lst[2])\n",
    "    dic['month'].append(lst[1])\n",
    "    dic['year'].append(lst[0])\n"
   ]
  },
  {
   "cell_type": "code",
   "execution_count": null,
   "metadata": {},
   "outputs": [],
   "source": [
    "dft = pd.DataFrame(dic)\n",
    "dft.index"
   ]
  },
  {
   "cell_type": "code",
   "execution_count": null,
   "metadata": {},
   "outputs": [],
   "source": [
    "df['Date'] = pd.to_datetime(dft['date'].astype(str)+'-'+dft['month'].astype(str)+'-'+dft['year'].astype(str),dayfirst=True,infer_datetime_format=True) # feature type is not datetime \n",
    "print(df.info())"
   ]
  },
  {
   "cell_type": "markdown",
   "metadata": {},
   "source": [
    "## __Time_Series_Analysis__"
   ]
  },
  {
   "cell_type": "code",
   "execution_count": null,
   "metadata": {},
   "outputs": [],
   "source": [
    "df.set_index('Date',inplace=True)\n",
    "print(df.head())\n",
    "df.tail()"
   ]
  },
  {
   "cell_type": "code",
   "execution_count": null,
   "metadata": {},
   "outputs": [],
   "source": [
    "plt.figure(figsize=(15,5))\n",
    "sns.lineplot(data=df,x=df.index,y=df['Close'])\n",
    "plt.show()"
   ]
  },
  {
   "cell_type": "code",
   "execution_count": null,
   "metadata": {},
   "outputs": [],
   "source": [
    "# calcaulate the plot of rolling mean and standard deviation\n",
    "df['rollMean'] = df['Close'].rolling(window=20).mean() ## window = 12 parameter shiftes the time by 12 column\n",
    "df['rollStd'] = df['Close'].rolling(window=20).std()"
   ]
  },
  {
   "cell_type": "code",
   "execution_count": null,
   "metadata": {},
   "outputs": [],
   "source": [
    "print(df['rollMean'])\n",
    "print(df['rollStd']) # it will take rolling mean after first 12 values"
   ]
  },
  {
   "cell_type": "code",
   "execution_count": null,
   "metadata": {},
   "outputs": [],
   "source": [
    "df.head(5)"
   ]
  },
  {
   "cell_type": "code",
   "execution_count": null,
   "metadata": {},
   "outputs": [],
   "source": [
    "plt.figure(figsize=(10,5))\n",
    "sns.lineplot(data=df,x=df.index,y=df['Close'])\n",
    "sns.lineplot(data=df,x=df.index,y=df['rollMean'])\n",
    "sns.lineplot(data=df,x=df.index,y=df['rollStd'])\n",
    "plt.show()"
   ]
  },
  {
   "cell_type": "code",
   "execution_count": null,
   "metadata": {},
   "outputs": [],
   "source": [
    "# conclusion : Mean is not stationary , SD is not stationary; so our data is not stationary\n",
    "# Now let us perform the ADF test "
   ]
  },
  {
   "cell_type": "code",
   "execution_count": null,
   "metadata": {},
   "outputs": [],
   "source": [
    "from statsmodels.tsa.stattools import adfuller\n",
    "adfTest = adfuller(df['Close'])\n",
    "adfTest\n",
    "# Interpret these value below by converting into series"
   ]
  },
  {
   "cell_type": "code",
   "execution_count": null,
   "metadata": {},
   "outputs": [],
   "source": [
    "stats = pd.Series(adfTest[0:4],index=['Test Statistics','p-value','#lags used','number of observation'])\n",
    "stats"
   ]
  },
  {
   "cell_type": "code",
   "execution_count": null,
   "metadata": {},
   "outputs": [],
   "source": [
    "for key, values in adfTest[4].items():\n",
    "    print('critically',key,':',values)"
   ]
  },
  {
   "cell_type": "code",
   "execution_count": null,
   "metadata": {},
   "outputs": [],
   "source": [
    "def test_stationary(df,var):\n",
    "    df['rollMean'] = df[var].rolling(window=12).mean() ## window = 12 parameter shiftes the time by 12 column\n",
    "    df['rollStd'] = df[var].rolling(window=12).std()\n",
    "    from statsmodels.tsa.stattools import adfuller\n",
    "    adfTest = adfuller(df[var])\n",
    "    stats = pd.Series(adfTest[0:4],index=['Test Statistics','p-value','#lags used','number of observation'])\n",
    "    print(stats)\n",
    "    for key, values in adfTest[4].items():\n",
    "        print('critically',key,':',values)\n",
    "    plt.figure(figsize=(10,5))\n",
    "    sns.lineplot(data=df,x=df.index,y=var)\n",
    "    sns.lineplot(data=df,x=df.index,y='rollMean')\n",
    "    sns.lineplot(data=df,x=df.index,y='rollStd')\n",
    "    plt.show()"
   ]
  },
  {
   "cell_type": "code",
   "execution_count": null,
   "metadata": {},
   "outputs": [],
   "source": [
    "test_stationary(df,'Close')"
   ]
  },
  {
   "cell_type": "code",
   "execution_count": null,
   "metadata": {},
   "outputs": [],
   "source": [
    "tcs_df = df[['Close']].copy() # double bracket cuz its list within a list\n",
    "tcs_df.head()"
   ]
  },
  {
   "cell_type": "code",
   "execution_count": null,
   "metadata": {},
   "outputs": [],
   "source": [
    "def shift(x):\n",
    "    tcs_df = df[['Close']].copy()\n",
    "    tcs_df['shift'] = tcs_df.Close.shift(x) # create a new column which will contain shifted value from Close \n",
    "    tcs_df['shiftDiff'] = tcs_df['Close'] - tcs_df['shift']\n",
    "    # print(tcs_df.sample(20))\n",
    "    shifted_Data = tcs_df.dropna()\n",
    "    return shifted_Data"
   ]
  },
  {
   "cell_type": "code",
   "execution_count": null,
   "metadata": {},
   "outputs": [],
   "source": [
    "plt.figure(figsize=(10,5))\n",
    "sns.lineplot(data=df,x=df.index,y=df['Close'])\n",
    "sns.lineplot(data=df,x=df.index,y=df['rollMean'])\n",
    "sns.lineplot(data=df,x=df.index,y=df['rollStd'])\n",
    "plt.show()"
   ]
  },
  {
   "cell_type": "code",
   "execution_count": null,
   "metadata": {},
   "outputs": [],
   "source": [
    "shifted_Data = shift(1)\n",
    "test_stationary(shifted_Data,'shiftDiff')\n",
    "\n",
    "# Interpret these value below by converting into series"
   ]
  },
  {
   "cell_type": "markdown",
   "metadata": {},
   "source": [
    "### __ARIMA__"
   ]
  },
  {
   "cell_type": "code",
   "execution_count": null,
   "metadata": {},
   "outputs": [],
   "source": [
    "tcs = df[['Close']].copy(deep=True)\n",
    "tcs['FirstDiff'] = tcs[['Close']].diff(1) # for ARIMA\n",
    "#tcs['FirstDiff'] = tcs[['Close']].diff(12) # for"
   ]
  },
  {
   "cell_type": "code",
   "execution_count": null,
   "metadata": {},
   "outputs": [],
   "source": [
    "print(tcs.head())"
   ]
  },
  {
   "cell_type": "code",
   "execution_count": null,
   "metadata": {},
   "outputs": [],
   "source": [
    "from statsmodels.tsa.arima.model import ARIMA\n",
    "from statsmodels.graphics.tsaplots import plot_acf,plot_pacf"
   ]
  },
  {
   "cell_type": "code",
   "execution_count": null,
   "metadata": {},
   "outputs": [],
   "source": [
    "plot_pacf(tcs['FirstDiff'].dropna(),lags=20)\n",
    "plt.show()"
   ]
  },
  {
   "cell_type": "markdown",
   "metadata": {},
   "source": [
    "* the shaded area is insignificant area\n",
    "* PACF gives us the auto regressive values\n",
    "* frist 'p' is 1 (the axis co-ordinate), whoes value is ~0.31 (the y-axis co-ordinate)\n",
    "* so, significant P values are 1 ,2 ,3, 4, etc  "
   ]
  },
  {
   "cell_type": "code",
   "execution_count": null,
   "metadata": {},
   "outputs": [],
   "source": [
    "plot_acf(tcs['FirstDiff'].dropna(),lags=20)"
   ]
  },
  {
   "cell_type": "code",
   "execution_count": null,
   "metadata": {},
   "outputs": [],
   "source": [
    "tcs.sort_index()"
   ]
  },
  {
   "cell_type": "code",
   "execution_count": null,
   "metadata": {},
   "outputs": [],
   "source": [
    "import itertools\n",
    "p=d=q=range(5)\n",
    "pdq = list(itertools.product(p,d,q))\n",
    "lst = {}\n",
    "for param in pdq:\n",
    "    try:\n",
    "        model_arima = ARIMA(tcs['Close'],order=param)\n",
    "        model_arima_fit = model_arima.fit()\n",
    "        lst[param] = model_arima_fit.aic\n",
    "    except:\n",
    "        continue\n",
    "x = 0\n",
    "pdq = 0\n",
    "for k in lst.keys():\n",
    "    if x > lst[k]:\n",
    "        x = lst[k]\n",
    "        pdq = k"
   ]
  },
  {
   "cell_type": "code",
   "execution_count": null,
   "metadata": {},
   "outputs": [],
   "source": [
    "model = ARIMA(tcs['Close'],order=pdq) # Parameters: p, d, q\n",
    "model_fit = model.fit()\n",
    "# prediction = model_fit.predict(start=test.index[0],end=test.index[-1], freq = None)\n",
    "prediction = model_fit.get_forecast(steps = 30 , exog = df.iloc[-30:]['Close'])\n",
    "tcs['arimaPred'] = prediction\n",
    "print(tcs.tail())\n",
    "\n",
    "# Plot\n",
    "\n",
    "sns.lineplot(data=tcs,x=tcs.index,y='Close')\n",
    "# sns.lineplot(data=tcs,x=tcs.index,y='arimaPred')\n",
    "plt.plot(pd.date_range(start = df.index[-1],periods = 30 , freq = 'd'),prediction.predicted_mean , label = \"test\",color = 'Green')\n",
    "plt.show()\n",
    "\n",
    "# Conclusion: The ARIMA prediction is not good\n",
    "\n"
   ]
  },
  {
   "cell_type": "code",
   "execution_count": null,
   "metadata": {},
   "outputs": [],
   "source": [
    "# test.Date['2022-11-11']"
   ]
  },
  {
   "cell_type": "code",
   "execution_count": null,
   "metadata": {},
   "outputs": [],
   "source": []
  },
  {
   "cell_type": "code",
   "execution_count": null,
   "metadata": {},
   "outputs": [],
   "source": [
    "tcs = df[['Close']].copy(deep=True)\n",
    "print(tcs.head())\n",
    "\n",
    "# Create columns for one month and one year lagged data\n",
    "tcs['firstDiff'] = tcs['Close'].diff()\n",
    "tcs['Diff12'] = tcs['Close'].diff(5) # This will show nulls to start with\n",
    "\n",
    "from statsmodels.tsa.arima.model import ARIMA\n",
    "from statsmodels.tsa.statespace.sarimax import SARIMAX\n",
    "from statsmodels.graphics.tsaplots import plot_acf, plot_pacf\n",
    "\n",
    "plot_pacf(tcs['Diff12'].dropna(),lags=10)\n",
    "plt.show() \n",
    "\n",
    "plot_acf(tcs['Diff12'].dropna(),lags=10)\n",
    "plt.show()"
   ]
  },
  {
   "cell_type": "code",
   "execution_count": 104,
   "metadata": {},
   "outputs": [
    {
     "name": "stderr",
     "output_type": "stream",
     "text": [
      "c:\\Users\\q\\anaconda3\\Lib\\site-packages\\statsmodels\\tsa\\base\\tsa_model.py:473: ValueWarning: A date index has been provided, but it has no associated frequency information and so will be ignored when e.g. forecasting.\n",
      "  self._init_dates(dates, freq)\n",
      "c:\\Users\\q\\anaconda3\\Lib\\site-packages\\statsmodels\\tsa\\base\\tsa_model.py:473: ValueWarning: A date index has been provided, but it has no associated frequency information and so will be ignored when e.g. forecasting.\n",
      "  self._init_dates(dates, freq)\n",
      "c:\\Users\\q\\anaconda3\\Lib\\site-packages\\statsmodels\\base\\model.py:607: ConvergenceWarning: Maximum Likelihood optimization failed to converge. Check mle_retvals\n",
      "  warnings.warn(\"Maximum Likelihood optimization failed to \"\n"
     ]
    },
    {
     "name": "stdout",
     "output_type": "stream",
     "text": [
      "            Close  firstDiff  Diff12  \\\n",
      "Date                                   \n",
      "2023-03-24   3.34      -0.01    0.02   \n",
      "2023-03-27   3.31      -0.03   -0.15   \n",
      "2023-03-28   3.25      -0.06   -0.23   \n",
      "2023-03-29   3.29       0.04   -0.09   \n",
      "2023-03-30   3.29       0.00   -0.06   \n",
      "\n",
      "                                                  sarimaxPred  \n",
      "Date                                                           \n",
      "2023-03-24  <statsmodels.tsa.statespace.mlemodel.Predictio...  \n",
      "2023-03-27  <statsmodels.tsa.statespace.mlemodel.Predictio...  \n",
      "2023-03-28  <statsmodels.tsa.statespace.mlemodel.Predictio...  \n",
      "2023-03-29  <statsmodels.tsa.statespace.mlemodel.Predictio...  \n",
      "2023-03-30  <statsmodels.tsa.statespace.mlemodel.Predictio...  \n"
     ]
    },
    {
     "name": "stderr",
     "output_type": "stream",
     "text": [
      "c:\\Users\\q\\anaconda3\\Lib\\site-packages\\statsmodels\\tsa\\base\\tsa_model.py:836: ValueWarning: No supported index is available. Prediction results will be given with an integer index beginning at `start`.\n",
      "  return get_prediction_index(\n",
      "c:\\Users\\q\\anaconda3\\Lib\\site-packages\\statsmodels\\tsa\\base\\tsa_model.py:836: FutureWarning: No supported index is available. In the next version, calling this method in a model without a supported index will result in an exception.\n",
      "  return get_prediction_index(\n"
     ]
    }
   ],
   "source": [
    "train = tcs[:round(len(tcs)*70/100)] # Take the first 70% data\n",
    "test = tcs[round(len(tcs)*70/100):] # Take the last 30% data, starting from 71%\n",
    "\n",
    "# First ARIMA prediction\n",
    "# model = ARIMA(train['Clorediction = model_fit.predict(start=test.index[0],end=test.index[-1])\n",
    "# tcs['sarimaxPred'] = prediction\n",
    "# print(tcs.tail()),order=(3,1,3)) # Parameters: p, d, q\n",
    "# model_fit = model.fit()\n",
    "# prediction = model_fit.predict(start=test.index[0],end=test.index[-1])\n",
    "# tcs['arimaPred'] = prediction\n",
    "\n",
    "# Now SARIMAX prediction\n",
    "model = SARIMAX(train['Close'],order=pdq , seasonal_order=(1,1,1,20))\n",
    "model_fit = model.fit()\n",
    "# prediction = model_fit.predict(start=test.index[1],end=test.index[-1])\n",
    "prediction = model_fit.get_forecast(steps = 30 , exog = df.iloc[-30:]['Close'])\n",
    "tcs['sarimaxPred'] = prediction\n",
    "print(tcs.tail())\n"
   ]
  },
  {
   "cell_type": "code",
   "execution_count": 105,
   "metadata": {},
   "outputs": [
    {
     "data": {
      "text/html": [
       "<table class=\"simpletable\">\n",
       "<caption>SARIMAX Results</caption>\n",
       "<tr>\n",
       "  <th>Dep. Variable:</th>                 <td>Close</td>              <th>  No. Observations:  </th>   <td>191</td>  \n",
       "</tr>\n",
       "<tr>\n",
       "  <th>Model:</th>           <td>SARIMAX(2, 1, 2)x(1, 2, [1], 20)</td> <th>  Log Likelihood     </th> <td>-57.449</td>\n",
       "</tr>\n",
       "<tr>\n",
       "  <th>Date:</th>                    <td>Tue, 10 Oct 2023</td>         <th>  AIC                </th> <td>128.897</td>\n",
       "</tr>\n",
       "<tr>\n",
       "  <th>Time:</th>                        <td>00:24:35</td>             <th>  BIC                </th> <td>149.972</td>\n",
       "</tr>\n",
       "<tr>\n",
       "  <th>Sample:</th>                          <td>0</td>                <th>  HQIC               </th> <td>137.459</td>\n",
       "</tr>\n",
       "<tr>\n",
       "  <th></th>                              <td> - 191</td>              <th>                     </th>    <td> </td>   \n",
       "</tr>\n",
       "<tr>\n",
       "  <th>Covariance Type:</th>                <td>opg</td>               <th>                     </th>    <td> </td>   \n",
       "</tr>\n",
       "</table>\n",
       "<table class=\"simpletable\">\n",
       "<tr>\n",
       "      <td></td>        <th>coef</th>     <th>std err</th>      <th>z</th>      <th>P>|z|</th>  <th>[0.025</th>    <th>0.975]</th>  \n",
       "</tr>\n",
       "<tr>\n",
       "  <th>ar.L1</th>    <td>    1.6942</td> <td>    0.029</td> <td>   57.657</td> <td> 0.000</td> <td>    1.637</td> <td>    1.752</td>\n",
       "</tr>\n",
       "<tr>\n",
       "  <th>ar.L2</th>    <td>   -0.9561</td> <td>    0.028</td> <td>  -33.704</td> <td> 0.000</td> <td>   -1.012</td> <td>   -0.901</td>\n",
       "</tr>\n",
       "<tr>\n",
       "  <th>ma.L1</th>    <td>   -1.7722</td> <td>    0.172</td> <td>  -10.295</td> <td> 0.000</td> <td>   -2.110</td> <td>   -1.435</td>\n",
       "</tr>\n",
       "<tr>\n",
       "  <th>ma.L2</th>    <td>    0.9955</td> <td>    0.194</td> <td>    5.128</td> <td> 0.000</td> <td>    0.615</td> <td>    1.376</td>\n",
       "</tr>\n",
       "<tr>\n",
       "  <th>ar.S.L20</th> <td>   -0.3717</td> <td>    0.089</td> <td>   -4.197</td> <td> 0.000</td> <td>   -0.545</td> <td>   -0.198</td>\n",
       "</tr>\n",
       "<tr>\n",
       "  <th>ma.S.L20</th> <td>   -0.9992</td> <td>   57.312</td> <td>   -0.017</td> <td> 0.986</td> <td> -113.329</td> <td>  111.331</td>\n",
       "</tr>\n",
       "<tr>\n",
       "  <th>sigma2</th>   <td>    0.0852</td> <td>    4.877</td> <td>    0.017</td> <td> 0.986</td> <td>   -9.474</td> <td>    9.644</td>\n",
       "</tr>\n",
       "</table>\n",
       "<table class=\"simpletable\">\n",
       "<tr>\n",
       "  <th>Ljung-Box (L1) (Q):</th>     <td>0.57</td> <th>  Jarque-Bera (JB):  </th> <td>0.54</td> \n",
       "</tr>\n",
       "<tr>\n",
       "  <th>Prob(Q):</th>                <td>0.45</td> <th>  Prob(JB):          </th> <td>0.76</td> \n",
       "</tr>\n",
       "<tr>\n",
       "  <th>Heteroskedasticity (H):</th> <td>0.59</td> <th>  Skew:              </th> <td>-0.08</td>\n",
       "</tr>\n",
       "<tr>\n",
       "  <th>Prob(H) (two-sided):</th>    <td>0.06</td> <th>  Kurtosis:          </th> <td>2.75</td> \n",
       "</tr>\n",
       "</table><br/><br/>Warnings:<br/>[1] Covariance matrix calculated using the outer product of gradients (complex-step)."
      ],
      "text/latex": [
       "\\begin{center}\n",
       "\\begin{tabular}{lclc}\n",
       "\\toprule\n",
       "\\textbf{Dep. Variable:}          &              Close               & \\textbf{  No. Observations:  } &    191      \\\\\n",
       "\\textbf{Model:}                  & SARIMAX(2, 1, 2)x(1, 2, [1], 20) & \\textbf{  Log Likelihood     } &  -57.449    \\\\\n",
       "\\textbf{Date:}                   &         Tue, 10 Oct 2023         & \\textbf{  AIC                } &  128.897    \\\\\n",
       "\\textbf{Time:}                   &             00:24:35             & \\textbf{  BIC                } &  149.972    \\\\\n",
       "\\textbf{Sample:}                 &                0                 & \\textbf{  HQIC               } &  137.459    \\\\\n",
       "\\textbf{}                        &               - 191              & \\textbf{                     } &             \\\\\n",
       "\\textbf{Covariance Type:}        &               opg                & \\textbf{                     } &             \\\\\n",
       "\\bottomrule\n",
       "\\end{tabular}\n",
       "\\begin{tabular}{lcccccc}\n",
       "                  & \\textbf{coef} & \\textbf{std err} & \\textbf{z} & \\textbf{P$> |$z$|$} & \\textbf{[0.025} & \\textbf{0.975]}  \\\\\n",
       "\\midrule\n",
       "\\textbf{ar.L1}    &       1.6942  &        0.029     &    57.657  &         0.000        &        1.637    &        1.752     \\\\\n",
       "\\textbf{ar.L2}    &      -0.9561  &        0.028     &   -33.704  &         0.000        &       -1.012    &       -0.901     \\\\\n",
       "\\textbf{ma.L1}    &      -1.7722  &        0.172     &   -10.295  &         0.000        &       -2.110    &       -1.435     \\\\\n",
       "\\textbf{ma.L2}    &       0.9955  &        0.194     &     5.128  &         0.000        &        0.615    &        1.376     \\\\\n",
       "\\textbf{ar.S.L20} &      -0.3717  &        0.089     &    -4.197  &         0.000        &       -0.545    &       -0.198     \\\\\n",
       "\\textbf{ma.S.L20} &      -0.9992  &       57.312     &    -0.017  &         0.986        &     -113.329    &      111.331     \\\\\n",
       "\\textbf{sigma2}   &       0.0852  &        4.877     &     0.017  &         0.986        &       -9.474    &        9.644     \\\\\n",
       "\\bottomrule\n",
       "\\end{tabular}\n",
       "\\begin{tabular}{lclc}\n",
       "\\textbf{Ljung-Box (L1) (Q):}     & 0.57 & \\textbf{  Jarque-Bera (JB):  } &  0.54  \\\\\n",
       "\\textbf{Prob(Q):}                & 0.45 & \\textbf{  Prob(JB):          } &  0.76  \\\\\n",
       "\\textbf{Heteroskedasticity (H):} & 0.59 & \\textbf{  Skew:              } & -0.08  \\\\\n",
       "\\textbf{Prob(H) (two-sided):}    & 0.06 & \\textbf{  Kurtosis:          } &  2.75  \\\\\n",
       "\\bottomrule\n",
       "\\end{tabular}\n",
       "%\\caption{SARIMAX Results}\n",
       "\\end{center}\n",
       "\n",
       "Warnings: \\newline\n",
       " [1] Covariance matrix calculated using the outer product of gradients (complex-step)."
      ],
      "text/plain": [
       "<class 'statsmodels.iolib.summary.Summary'>\n",
       "\"\"\"\n",
       "                                      SARIMAX Results                                       \n",
       "============================================================================================\n",
       "Dep. Variable:                                Close   No. Observations:                  191\n",
       "Model:             SARIMAX(2, 1, 2)x(1, 2, [1], 20)   Log Likelihood                 -57.449\n",
       "Date:                              Tue, 10 Oct 2023   AIC                            128.897\n",
       "Time:                                      00:24:35   BIC                            149.972\n",
       "Sample:                                           0   HQIC                           137.459\n",
       "                                              - 191                                         \n",
       "Covariance Type:                                opg                                         \n",
       "==============================================================================\n",
       "                 coef    std err          z      P>|z|      [0.025      0.975]\n",
       "------------------------------------------------------------------------------\n",
       "ar.L1          1.6942      0.029     57.657      0.000       1.637       1.752\n",
       "ar.L2         -0.9561      0.028    -33.704      0.000      -1.012      -0.901\n",
       "ma.L1         -1.7722      0.172    -10.295      0.000      -2.110      -1.435\n",
       "ma.L2          0.9955      0.194      5.128      0.000       0.615       1.376\n",
       "ar.S.L20      -0.3717      0.089     -4.197      0.000      -0.545      -0.198\n",
       "ma.S.L20      -0.9992     57.312     -0.017      0.986    -113.329     111.331\n",
       "sigma2         0.0852      4.877      0.017      0.986      -9.474       9.644\n",
       "===================================================================================\n",
       "Ljung-Box (L1) (Q):                   0.57   Jarque-Bera (JB):                 0.54\n",
       "Prob(Q):                              0.45   Prob(JB):                         0.76\n",
       "Heteroskedasticity (H):               0.59   Skew:                            -0.08\n",
       "Prob(H) (two-sided):                  0.06   Kurtosis:                         2.75\n",
       "===================================================================================\n",
       "\n",
       "Warnings:\n",
       "[1] Covariance matrix calculated using the outer product of gradients (complex-step).\n",
       "\"\"\""
      ]
     },
     "execution_count": 105,
     "metadata": {},
     "output_type": "execute_result"
    }
   ],
   "source": [
    "model_fit.summary()"
   ]
  },
  {
   "cell_type": "code",
   "execution_count": 106,
   "metadata": {},
   "outputs": [
    {
     "data": {
      "text/html": [
       "<div>\n",
       "<style scoped>\n",
       "    .dataframe tbody tr th:only-of-type {\n",
       "        vertical-align: middle;\n",
       "    }\n",
       "\n",
       "    .dataframe tbody tr th {\n",
       "        vertical-align: top;\n",
       "    }\n",
       "\n",
       "    .dataframe thead th {\n",
       "        text-align: right;\n",
       "    }\n",
       "</style>\n",
       "<table border=\"1\" class=\"dataframe\">\n",
       "  <thead>\n",
       "    <tr style=\"text-align: right;\">\n",
       "      <th></th>\n",
       "      <th>Close</th>\n",
       "      <th>firstDiff</th>\n",
       "      <th>Diff12</th>\n",
       "      <th>sarimaxPred</th>\n",
       "    </tr>\n",
       "    <tr>\n",
       "      <th>Date</th>\n",
       "      <th></th>\n",
       "      <th></th>\n",
       "      <th></th>\n",
       "      <th></th>\n",
       "    </tr>\n",
       "  </thead>\n",
       "  <tbody>\n",
       "    <tr>\n",
       "      <th>2022-03-01</th>\n",
       "      <td>8.64</td>\n",
       "      <td>NaN</td>\n",
       "      <td>NaN</td>\n",
       "      <td>&lt;statsmodels.tsa.statespace.mlemodel.Predictio...</td>\n",
       "    </tr>\n",
       "    <tr>\n",
       "      <th>2022-03-02</th>\n",
       "      <td>8.59</td>\n",
       "      <td>-0.050000</td>\n",
       "      <td>NaN</td>\n",
       "      <td>&lt;statsmodels.tsa.statespace.mlemodel.Predictio...</td>\n",
       "    </tr>\n",
       "    <tr>\n",
       "      <th>2022-03-03</th>\n",
       "      <td>8.72</td>\n",
       "      <td>0.130000</td>\n",
       "      <td>NaN</td>\n",
       "      <td>&lt;statsmodels.tsa.statespace.mlemodel.Predictio...</td>\n",
       "    </tr>\n",
       "    <tr>\n",
       "      <th>2022-03-04</th>\n",
       "      <td>8.35</td>\n",
       "      <td>-0.370000</td>\n",
       "      <td>NaN</td>\n",
       "      <td>&lt;statsmodels.tsa.statespace.mlemodel.Predictio...</td>\n",
       "    </tr>\n",
       "    <tr>\n",
       "      <th>2022-03-07</th>\n",
       "      <td>7.99</td>\n",
       "      <td>-0.360001</td>\n",
       "      <td>NaN</td>\n",
       "      <td>&lt;statsmodels.tsa.statespace.mlemodel.Predictio...</td>\n",
       "    </tr>\n",
       "    <tr>\n",
       "      <th>...</th>\n",
       "      <td>...</td>\n",
       "      <td>...</td>\n",
       "      <td>...</td>\n",
       "      <td>...</td>\n",
       "    </tr>\n",
       "    <tr>\n",
       "      <th>2023-03-24</th>\n",
       "      <td>3.34</td>\n",
       "      <td>-0.010000</td>\n",
       "      <td>0.02</td>\n",
       "      <td>&lt;statsmodels.tsa.statespace.mlemodel.Predictio...</td>\n",
       "    </tr>\n",
       "    <tr>\n",
       "      <th>2023-03-27</th>\n",
       "      <td>3.31</td>\n",
       "      <td>-0.030000</td>\n",
       "      <td>-0.15</td>\n",
       "      <td>&lt;statsmodels.tsa.statespace.mlemodel.Predictio...</td>\n",
       "    </tr>\n",
       "    <tr>\n",
       "      <th>2023-03-28</th>\n",
       "      <td>3.25</td>\n",
       "      <td>-0.060000</td>\n",
       "      <td>-0.23</td>\n",
       "      <td>&lt;statsmodels.tsa.statespace.mlemodel.Predictio...</td>\n",
       "    </tr>\n",
       "    <tr>\n",
       "      <th>2023-03-29</th>\n",
       "      <td>3.29</td>\n",
       "      <td>0.040000</td>\n",
       "      <td>-0.09</td>\n",
       "      <td>&lt;statsmodels.tsa.statespace.mlemodel.Predictio...</td>\n",
       "    </tr>\n",
       "    <tr>\n",
       "      <th>2023-03-30</th>\n",
       "      <td>3.29</td>\n",
       "      <td>0.000000</td>\n",
       "      <td>-0.06</td>\n",
       "      <td>&lt;statsmodels.tsa.statespace.mlemodel.Predictio...</td>\n",
       "    </tr>\n",
       "  </tbody>\n",
       "</table>\n",
       "<p>273 rows × 4 columns</p>\n",
       "</div>"
      ],
      "text/plain": [
       "            Close  firstDiff  Diff12  \\\n",
       "Date                                   \n",
       "2022-03-01   8.64        NaN     NaN   \n",
       "2022-03-02   8.59  -0.050000     NaN   \n",
       "2022-03-03   8.72   0.130000     NaN   \n",
       "2022-03-04   8.35  -0.370000     NaN   \n",
       "2022-03-07   7.99  -0.360001     NaN   \n",
       "...           ...        ...     ...   \n",
       "2023-03-24   3.34  -0.010000    0.02   \n",
       "2023-03-27   3.31  -0.030000   -0.15   \n",
       "2023-03-28   3.25  -0.060000   -0.23   \n",
       "2023-03-29   3.29   0.040000   -0.09   \n",
       "2023-03-30   3.29   0.000000   -0.06   \n",
       "\n",
       "                                                  sarimaxPred  \n",
       "Date                                                           \n",
       "2022-03-01  <statsmodels.tsa.statespace.mlemodel.Predictio...  \n",
       "2022-03-02  <statsmodels.tsa.statespace.mlemodel.Predictio...  \n",
       "2022-03-03  <statsmodels.tsa.statespace.mlemodel.Predictio...  \n",
       "2022-03-04  <statsmodels.tsa.statespace.mlemodel.Predictio...  \n",
       "2022-03-07  <statsmodels.tsa.statespace.mlemodel.Predictio...  \n",
       "...                                                       ...  \n",
       "2023-03-24  <statsmodels.tsa.statespace.mlemodel.Predictio...  \n",
       "2023-03-27  <statsmodels.tsa.statespace.mlemodel.Predictio...  \n",
       "2023-03-28  <statsmodels.tsa.statespace.mlemodel.Predictio...  \n",
       "2023-03-29  <statsmodels.tsa.statespace.mlemodel.Predictio...  \n",
       "2023-03-30  <statsmodels.tsa.statespace.mlemodel.Predictio...  \n",
       "\n",
       "[273 rows x 4 columns]"
      ]
     },
     "execution_count": 106,
     "metadata": {},
     "output_type": "execute_result"
    }
   ],
   "source": [
    "tcs"
   ]
  },
  {
   "cell_type": "code",
   "execution_count": 107,
   "metadata": {},
   "outputs": [
    {
     "name": "stdout",
     "output_type": "stream",
     "text": [
      "            Close  firstDiff  Diff12  \\\n",
      "Date                                   \n",
      "2022-03-01   8.64        NaN     NaN   \n",
      "2022-03-02   8.59  -0.050000     NaN   \n",
      "2022-03-03   8.72   0.130000     NaN   \n",
      "2022-03-04   8.35  -0.370000     NaN   \n",
      "2022-03-07   7.99  -0.360001     NaN   \n",
      "\n",
      "                                                  sarimaxPred  \n",
      "Date                                                           \n",
      "2022-03-01  <statsmodels.tsa.statespace.mlemodel.Predictio...  \n",
      "2022-03-02  <statsmodels.tsa.statespace.mlemodel.Predictio...  \n",
      "2022-03-03  <statsmodels.tsa.statespace.mlemodel.Predictio...  \n",
      "2022-03-04  <statsmodels.tsa.statespace.mlemodel.Predictio...  \n",
      "2022-03-07  <statsmodels.tsa.statespace.mlemodel.Predictio...  \n"
     ]
    },
    {
     "data": {
      "image/png": "[encoded data removed]",
      "text/plain": [
       "<Figure size 640x480 with 1 Axes>"
      ]
     },
     "metadata": {},
     "output_type": "display_data"
    }
   ],
   "source": [
    "# Data looks better\n",
    "\n",
    "# Plot\n",
    "tcs.dropna()\n",
    "print(tcs.head())\n",
    "sns.lineplot(data=tcs,x=tcs.index,y='Close')\n",
    "plt.plot(pd.date_range(start = df.index[-1],periods = 30 , freq = 'd'),prediction.predicted_mean , label = \"test\",color = 'Green')\n",
    "# sns.lineplot(data=tcs,x=tcs.index,y='sarimaxPred')\n",
    "# sns.lineplot(data=tcs,x=tcs.index,y='arimaPred')\n",
    "plt.show()"
   ]
  },
  {
   "cell_type": "code",
   "execution_count": 108,
   "metadata": {},
   "outputs": [
    {
     "name": "stdout",
     "output_type": "stream",
     "text": [
      "            Close  firstDiff  Diff12  \\\n",
      "Date                                   \n",
      "2023-03-24   3.34      -0.01    0.02   \n",
      "2023-03-27   3.31      -0.03   -0.15   \n",
      "2023-03-28   3.25      -0.06   -0.23   \n",
      "2023-03-29   3.29       0.04   -0.09   \n",
      "2023-03-30   3.29       0.00   -0.06   \n",
      "\n",
      "                                                  sarimaxPred  \n",
      "Date                                                           \n",
      "2023-03-24  <statsmodels.tsa.statespace.mlemodel.Predictio...  \n",
      "2023-03-27  <statsmodels.tsa.statespace.mlemodel.Predictio...  \n",
      "2023-03-28  <statsmodels.tsa.statespace.mlemodel.Predictio...  \n",
      "2023-03-29  <statsmodels.tsa.statespace.mlemodel.Predictio...  \n",
      "2023-03-30  <statsmodels.tsa.statespace.mlemodel.Predictio...  \n",
      "       Dates\n",
      "0 2023-01-07\n",
      "1 2023-01-08\n",
      "2 2023-01-09\n",
      "3 2023-01-10\n",
      "4 2023-01-11\n",
      "0      0.000000\n",
      "1      8.640000\n",
      "2      8.590000\n",
      "3      8.720000\n",
      "4      8.350000\n",
      "         ...   \n",
      "271    0.930840\n",
      "272    0.933551\n",
      "273    0.587145\n",
      "274    0.602037\n",
      "275    0.608246\n",
      "Name: predicted_mean, Length: 276, dtype: float64\n"
     ]
    },
    {
     "name": "stderr",
     "output_type": "stream",
     "text": [
      "c:\\Users\\q\\anaconda3\\Lib\\site-packages\\statsmodels\\tsa\\base\\tsa_model.py:836: ValueWarning: No supported index is available. Prediction results will be given with an integer index beginning at `start`.\n",
      "  return get_prediction_index(\n",
      "c:\\Users\\q\\anaconda3\\Lib\\site-packages\\statsmodels\\tsa\\base\\tsa_model.py:836: FutureWarning: No supported index is available. In the next version, calling this method in a model without a supported index will result in an exception.\n",
      "  return get_prediction_index(\n"
     ]
    }
   ],
   "source": [
    "# Compared to ARIMA, SARIMAX is much better\n",
    "\n",
    "# Future prediction\n",
    "\n",
    "# First check the last date in our dataset\n",
    "print(tcs.tail())\n",
    "\n",
    "# MS: Month Start frequency\n",
    "# Create a data frame to hold index values from 01.01.61 to 01.12.62\n",
    "futureDate = pd.DataFrame(pd.date_range(start='2023-01-07', end='2023-10-09',freq='D'),columns=['Dates'])\n",
    "# futureDate.set_index('Dates',inplace=True)\n",
    "print(futureDate.head())\n",
    "\n",
    "# Predict and print\n",
    "predict = model_fit.predict(start=futureDate.index[0],end=futureDate.index[-1])\n",
    "print(predict)"
   ]
  },
  {
   "cell_type": "code",
   "execution_count": 109,
   "metadata": {},
   "outputs": [
    {
     "data": {
      "image/png": "[encoded data removed]",
      "text/plain": [
       "<Figure size 1500x600 with 1 Axes>"
      ]
     },
     "metadata": {},
     "output_type": "display_data"
    }
   ],
   "source": [
    "\n",
    "# Plot\n",
    "\n",
    "tcs.dropna()\n",
    "plt.figure(figsize=(15,6))\n",
    "sns.lineplot(data=tcs_test,x=tcs_test.index,y='Close')\n",
    "sns.lineplot(data=tcs,x=tcs.index,y='Close')\n",
    "plt.plot(pd.date_range(start = tcs.index[-1],periods = 30 , freq = 'd'),prediction.predicted_mean , label = \"test\",color = 'Black')\n",
    "# sns.lineplot(data=tcs,x=tcs.index,y='arimaPred')\n",
    "# model_fit.predict(start=futureDate.index[0],end=futureDate.index[-1],step = 30).plot(color='black')\n",
    "plt.show()\n"
   ]
  },
  {
   "cell_type": "code",
   "execution_count": null,
   "metadata": {},
   "outputs": [],
   "source": []
  }
 ],
 "metadata": {
  "kernelspec": {
   "display_name": "base",
   "language": "python",
   "name": "python3"
  },
  "language_info": {
   "codemirror_mode": {
    "name": "ipython",
    "version": 3
   },
   "file_extension": ".py",
   "mimetype": "text/x-python",
   "name": "python",
   "nbconvert_exporter": "python",
   "pygments_lexer": "ipython3",
   "version": "3.11.4"
  }
 },
 "nbformat": 4,
 "nbformat_minor": 2
}
