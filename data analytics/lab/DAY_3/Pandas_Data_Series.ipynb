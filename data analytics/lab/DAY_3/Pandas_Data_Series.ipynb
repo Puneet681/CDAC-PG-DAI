{
 "cells": [
  {
   "cell_type": "code",
   "execution_count": 11,
   "metadata": {},
   "outputs": [],
   "source": [
    "import pandas as pd\n",
    "import numpy as np"
   ]
  },
  {
   "cell_type": "markdown",
   "metadata": {},
   "source": [
    "# __Pandas Data Series__\n",
    "### *__Q.1:- Write a Pandas program to create and display a one-dimensional array-like object containing an array of data using Pandas module.__*\n",
    "### __*Ans:-*__ "
   ]
  },
  {
   "cell_type": "code",
   "execution_count": 12,
   "metadata": {},
   "outputs": [
    {
     "data": {
      "text/plain": [
       "0     10\n",
       "1     20\n",
       "2     13\n",
       "3     52\n",
       "4     15\n",
       "5      5\n",
       "6     12\n",
       "7      5\n",
       "8    155\n",
       "9    554\n",
       "dtype: int64"
      ]
     },
     "execution_count": 12,
     "metadata": {},
     "output_type": "execute_result"
    }
   ],
   "source": [
    "ds = pd.Series([10,20,13,52,15,5,12,5,155,554])\n",
    "ds"
   ]
  },
  {
   "cell_type": "markdown",
   "metadata": {},
   "source": [
    "### *__Q.2:- Write a Pandas program to convert a Panda module Series to Python list and it's type.__*\n",
    "### __*Ans:-*__"
   ]
  },
  {
   "cell_type": "code",
   "execution_count": 13,
   "metadata": {},
   "outputs": [
    {
     "name": "stdout",
     "output_type": "stream",
     "text": [
      "0     10\n",
      "1     20\n",
      "2     13\n",
      "3     52\n",
      "4     15\n",
      "5      5\n",
      "6     12\n",
      "7      5\n",
      "8    155\n",
      "9    554\n",
      "dtype: int64 \n",
      " <class 'pandas.core.series.Series'> \n",
      "\n",
      "[10, 20, 13, 52, 15, 5, 12, 5, 155, 554] \n",
      " <class 'list'>\n"
     ]
    }
   ],
   "source": [
    "ds = pd.Series([10,20,13,52,15,5,12,5,155,554])\n",
    "print(ds,\"\\n\",type(ds),\"\\n\")\n",
    "lst=ds.to_list()\n",
    "print(lst,\"\\n\",type(lst))"
   ]
  },
  {
   "cell_type": "markdown",
   "metadata": {},
   "source": [
    "### *__Q.3:-  Write a Pandas program to add, subtract, multiple and divide two Pandas Series. Sample Series: [2, 4, 6, 8, 10], [1, 3, 5, 7, 9]__*\n",
    "### __*Ans:-*__"
   ]
  },
  {
   "cell_type": "code",
   "execution_count": 14,
   "metadata": {},
   "outputs": [
    {
     "name": "stdout",
     "output_type": "stream",
     "text": [
      "\n",
      "added Series is : \n",
      " 0     3\n",
      "1     7\n",
      "2    11\n",
      "3    15\n",
      "4    19\n",
      "dtype: int64\n",
      "\n",
      "Substracte Series is : \n",
      " 0    1\n",
      "1    1\n",
      "2    1\n",
      "3    1\n",
      "4    1\n",
      "dtype: int64\n",
      "\n",
      "Multiplied Series is : \n",
      " 0     2\n",
      "1    12\n",
      "2    30\n",
      "3    56\n",
      "4    90\n",
      "dtype: int64\n",
      "\n",
      "Divided Series is : \n",
      " 0    2.000000\n",
      "1    1.333333\n",
      "2    1.200000\n",
      "3    1.142857\n",
      "4    1.111111\n",
      "dtype: float64\n"
     ]
    }
   ],
   "source": [
    "ds1 =  pd.Series([2, 4, 6, 8, 10])\n",
    "ds2 = pd.Series([1, 3, 5, 7, 9])\n",
    "dsadd = ds1 + ds2\n",
    "print(\"\\nadded Series is : \\n\",dsadd)\n",
    "dssub = ds1 - ds2\n",
    "print(\"\\nSubstracte Series is : \\n\",dssub)\n",
    "dsmul = ds1 * ds2\n",
    "print(\"\\nMultiplied Series is : \\n\",dsmul)\n",
    "dsdiv = ds1 / ds2\n",
    "print(\"\\nDivided Series is : \\n\",dsdiv)"
   ]
  },
  {
   "cell_type": "markdown",
   "metadata": {},
   "source": [
    "### *__Q.4:-  Write a Pandas program to compare the elements of the two Pandas Series. Sample Series: [2, 4, 6, 8, 10], [1, 3, 5, 7, 10]__*\n",
    "### __*Ans:-*__"
   ]
  },
  {
   "cell_type": "code",
   "execution_count": 15,
   "metadata": {},
   "outputs": [
    {
     "name": "stdout",
     "output_type": "stream",
     "text": [
      "The Comparison of two Data Series is as follows :\n"
     ]
    },
    {
     "data": {
      "text/html": [
       "<div>\n",
       "<style scoped>\n",
       "    .dataframe tbody tr th:only-of-type {\n",
       "        vertical-align: middle;\n",
       "    }\n",
       "\n",
       "    .dataframe tbody tr th {\n",
       "        vertical-align: top;\n",
       "    }\n",
       "\n",
       "    .dataframe thead th {\n",
       "        text-align: right;\n",
       "    }\n",
       "</style>\n",
       "<table border=\"1\" class=\"dataframe\">\n",
       "  <thead>\n",
       "    <tr style=\"text-align: right;\">\n",
       "      <th></th>\n",
       "      <th>self</th>\n",
       "      <th>other</th>\n",
       "    </tr>\n",
       "  </thead>\n",
       "  <tbody>\n",
       "    <tr>\n",
       "      <th>0</th>\n",
       "      <td>2.0</td>\n",
       "      <td>1.0</td>\n",
       "    </tr>\n",
       "    <tr>\n",
       "      <th>1</th>\n",
       "      <td>4.0</td>\n",
       "      <td>3.0</td>\n",
       "    </tr>\n",
       "    <tr>\n",
       "      <th>2</th>\n",
       "      <td>6.0</td>\n",
       "      <td>5.0</td>\n",
       "    </tr>\n",
       "    <tr>\n",
       "      <th>3</th>\n",
       "      <td>8.0</td>\n",
       "      <td>7.0</td>\n",
       "    </tr>\n",
       "  </tbody>\n",
       "</table>\n",
       "</div>"
      ],
      "text/plain": [
       "   self  other\n",
       "0   2.0    1.0\n",
       "1   4.0    3.0\n",
       "2   6.0    5.0\n",
       "3   8.0    7.0"
      ]
     },
     "execution_count": 15,
     "metadata": {},
     "output_type": "execute_result"
    }
   ],
   "source": [
    "ds1 = pd.Series([2, 4, 6, 8, 10])\n",
    "ds2 = pd.Series([1, 3, 5, 7, 10])\n",
    "print(\"The Comparison of two Data Series is as follows :\")\n",
    "ds1.compare(ds2)"
   ]
  },
  {
   "cell_type": "markdown",
   "metadata": {},
   "source": [
    "### *__Q.5:-  Write a Pandas program to convert a dictionary to a Pandas series.__*\n",
    "### __*Ans:-*__"
   ]
  },
  {
   "cell_type": "code",
   "execution_count": 16,
   "metadata": {},
   "outputs": [
    {
     "name": "stdout",
     "output_type": "stream",
     "text": [
      "Conversion of a directry is as follows :\n"
     ]
    },
    {
     "data": {
      "text/plain": [
       "a    100\n",
       "b    200\n",
       "c    300\n",
       "d    400\n",
       "e    800\n",
       "dtype: int64"
      ]
     },
     "execution_count": 16,
     "metadata": {},
     "output_type": "execute_result"
    }
   ],
   "source": [
    "Original_dictionary= {'a': 100, 'b': 200, 'c': 300, 'd': 400, 'e': 800}\n",
    "ds = pd.Series(Original_dictionary)\n",
    "print(\"Conversion of a directry is as follows :\")\n",
    "ds"
   ]
  },
  {
   "cell_type": "markdown",
   "metadata": {},
   "source": [
    "### *__Q.6:-  Write a Pandas program to convert a NumPy array to a Pandas series.__*\n",
    "### __*Ans:-*__"
   ]
  },
  {
   "cell_type": "code",
   "execution_count": 17,
   "metadata": {},
   "outputs": [
    {
     "name": "stdout",
     "output_type": "stream",
     "text": [
      "Conversion of NUmPy Array is as follows : \n"
     ]
    },
    {
     "data": {
      "text/plain": [
       "0    10\n",
       "1    20\n",
       "2    30\n",
       "3    40\n",
       "4    50\n",
       "dtype: int64"
      ]
     },
     "execution_count": 17,
     "metadata": {},
     "output_type": "execute_result"
    }
   ],
   "source": [
    "np_array = np.array([10 ,20 ,30 ,40 ,50])\n",
    "ds = pd.Series(np_array)\n",
    "print(\"Conversion of NUmPy Array is as follows : \")\n",
    "ds\n"
   ]
  },
  {
   "cell_type": "markdown",
   "metadata": {},
   "source": [
    "### *__Q.7:-  Write a Pandas program to change the data type of given a column or a Series.__*\n",
    "### __*Ans:-*__"
   ]
  },
  {
   "cell_type": "code",
   "execution_count": 18,
   "metadata": {},
   "outputs": [
    {
     "name": "stdout",
     "output_type": "stream",
     "text": [
      "0       100\n",
      "1       200\n",
      "2    Python\n",
      "3    300.12\n",
      "4       400\n",
      "dtype: object \n",
      " <class 'pandas.core.series.Series'>\n"
     ]
    },
    {
     "data": {
      "text/plain": [
       "0    100.00\n",
       "1    200.00\n",
       "2       NaN\n",
       "3    300.12\n",
       "4    400.00\n",
       "dtype: float64"
      ]
     },
     "execution_count": 18,
     "metadata": {},
     "output_type": "execute_result"
    }
   ],
   "source": [
    "O_ds = pd.Series(['100','200','Python','300.12','400'])\n",
    "print(O_ds,\"\\n\",type(O_ds))\n",
    "pd.to_numeric(O_ds,'coerce').astype(float)"
   ]
  },
  {
   "cell_type": "markdown",
   "metadata": {},
   "source": [
    "### *__Q.8:-  Write a Pandas program to convert the first column of a DataFrame as a Series.__*\n",
    "### __*Ans:-*__"
   ]
  },
  {
   "cell_type": "code",
   "execution_count": 19,
   "metadata": {},
   "outputs": [
    {
     "name": "stdout",
     "output_type": "stream",
     "text": [
      "0     1\n",
      "1     2\n",
      "2     3\n",
      "3     4\n",
      "4     7\n",
      "5    11\n",
      "Name: col1, dtype: int64\n"
     ]
    },
    {
     "data": {
      "text/plain": [
       "pandas.core.series.Series"
      ]
     },
     "execution_count": 19,
     "metadata": {},
     "output_type": "execute_result"
    }
   ],
   "source": [
    "df = pd.DataFrame({'col1':[1,2,3,4,7,11], 'col2':[4,5,6,7,5,0],'col3':[7,5,8,12,1,11]})\n",
    "ds = df['col1']\n",
    "print(ds)\n",
    "type(ds)"
   ]
  },
  {
   "cell_type": "markdown",
   "metadata": {},
   "source": [
    "### *__Q.9:-  Write a Pandas program to convert a given Series to an array.__*\n",
    "### __*Ans:-*__"
   ]
  },
  {
   "cell_type": "code",
   "execution_count": 20,
   "metadata": {},
   "outputs": [
    {
     "data": {
      "text/plain": [
       "array(['100', '200', 'Python', '300.12', '400'], dtype=object)"
      ]
     },
     "execution_count": 20,
     "metadata": {},
     "output_type": "execute_result"
    }
   ],
   "source": [
    "ds = pd.Series(['100','200','Python','300.12','400'])\n",
    "arr = ds.to_numpy()\n",
    "arr"
   ]
  },
  {
   "cell_type": "markdown",
   "metadata": {},
   "source": [
    "### *__Q.10:-  Write a Pandas program to convert Series of lists to one Series.__*\n",
    "### __*Ans:-*__"
   ]
  },
  {
   "cell_type": "code",
   "execution_count": 21,
   "metadata": {},
   "outputs": [
    {
     "data": {
      "text/plain": [
       "0       100\n",
       "1       200\n",
       "2    Python\n",
       "3    300.12\n",
       "4       400\n",
       "dtype: object"
      ]
     },
     "execution_count": 21,
     "metadata": {},
     "output_type": "execute_result"
    }
   ],
   "source": [
    "ds.apply(pd.Series).stack().reset_index(drop=True)"
   ]
  },
  {
   "cell_type": "markdown",
   "metadata": {},
   "source": [
    "### *__Q.11:-  Write a Pandas program to sort a given Series.__*\n",
    "### __*Ans:-*__"
   ]
  },
  {
   "cell_type": "code",
   "execution_count": 22,
   "metadata": {},
   "outputs": [
    {
     "name": "stdout",
     "output_type": "stream",
     "text": [
      "0       100\n",
      "1       200\n",
      "2    Python\n",
      "3    300.12\n",
      "4       400\n",
      "dtype: object\n",
      "0       100\n",
      "1       200\n",
      "3    300.12\n",
      "4       400\n",
      "2    Python\n",
      "dtype: object\n"
     ]
    }
   ],
   "source": [
    "ds = pd.Series(['100','200','Python','300.12','400'])\n",
    "print(ds)\n",
    "print(ds.sort_values())"
   ]
  },
  {
   "cell_type": "markdown",
   "metadata": {},
   "source": [
    "### *__Q.12:-  Write a Pandas program to add some data to an existing Series.__*\n",
    "### __*Ans:-*__"
   ]
  },
  {
   "cell_type": "code",
   "execution_count": 23,
   "metadata": {},
   "outputs": [
    {
     "data": {
      "text/plain": [
       "0       100\n",
       "1       200\n",
       "2    Python\n",
       "3    300.12\n",
       "4       400\n",
       "0       500\n",
       "dtype: object"
      ]
     },
     "execution_count": 23,
     "metadata": {},
     "output_type": "execute_result"
    }
   ],
   "source": [
    "ds = pd.Series(['100','200','Python','300.12','400'])\n",
    "pd.concat([ds,pd.Series('500')])"
   ]
  },
  {
   "cell_type": "markdown",
   "metadata": {},
   "source": [
    "### *__Q.13:-  Write a Pandas program to create a subset of a given series based on value and condition.__*\n",
    "### __*Ans:-*__"
   ]
  },
  {
   "cell_type": "code",
   "execution_count": 24,
   "metadata": {},
   "outputs": [
    {
     "data": {
      "text/plain": [
       "0    0\n",
       "1    1\n",
       "2    2\n",
       "3    3\n",
       "4    4\n",
       "5    5\n",
       "dtype: int64"
      ]
     },
     "execution_count": 24,
     "metadata": {},
     "output_type": "execute_result"
    }
   ],
   "source": [
    "ds = pd.Series([0,1,2,3,4,5,6,7,8,9,10])\n",
    "cond = ds.values <=5\n",
    "ds[cond]"
   ]
  },
  {
   "cell_type": "markdown",
   "metadata": {},
   "source": [
    "### *__Q.14:-  Write a Pandas program to change the order of index of a given series.__*\n",
    "### __*Ans:-*__"
   ]
  },
  {
   "cell_type": "code",
   "execution_count": 25,
   "metadata": {},
   "outputs": [
    {
     "name": "stdout",
     "output_type": "stream",
     "text": [
      "A    0\n",
      "B    1\n",
      "C    2\n",
      "D    3\n",
      "E    4\n",
      "F    5\n",
      "dtype: int64\n"
     ]
    },
    {
     "data": {
      "text/plain": [
       "B    1\n",
       "A    0\n",
       "D    3\n",
       "C    2\n",
       "E    4\n",
       "F    5\n",
       "dtype: int64"
      ]
     },
     "execution_count": 25,
     "metadata": {},
     "output_type": "execute_result"
    }
   ],
   "source": [
    "ds = pd.Series([0,1,2,3,4,5],index=['A','B','C','D','E','F'])\n",
    "print(ds)\n",
    "ds.reindex(index=['B','A','D','C','E','F'])"
   ]
  },
  {
   "cell_type": "markdown",
   "metadata": {},
   "source": [
    "### *__Q.15:-  Write a Pandas program to create the mean and standard deviation of the data of a given Series.__*\n",
    "### __*Ans:-*__"
   ]
  },
  {
   "cell_type": "code",
   "execution_count": 26,
   "metadata": {},
   "outputs": [
    {
     "name": "stdout",
     "output_type": "stream",
     "text": [
      "0     1\n",
      "1     2\n",
      "2     3\n",
      "3     4\n",
      "4     5\n",
      "5     6\n",
      "6     7\n",
      "7     8\n",
      "8     9\n",
      "9     5\n",
      "10    3\n",
      "dtype: int64\n",
      "Mean pf above date Series is  4.818181818181818\n",
      "Satanded Daviation of Above Data Series is  2.522624895547565\n"
     ]
    }
   ],
   "source": [
    "ds = pd.Series([1,2,3,4,5,6,7,8,9,5,3])\n",
    "print(ds)\n",
    "print(\"Mean pf above date Series is \",ds.mean())\n",
    "print(\"Satanded Daviation of Above Data Series is \",ds.std())\n"
   ]
  },
  {
   "cell_type": "markdown",
   "metadata": {},
   "source": [
    "### *__Q.16:-  Write a Pandas program to get the items of a given series not present in another given series.__*\n",
    "### __*Ans:-*__"
   ]
  },
  {
   "cell_type": "code",
   "execution_count": 27,
   "metadata": {},
   "outputs": [
    {
     "data": {
      "text/plain": [
       "0    1\n",
       "2    3\n",
       "4    5\n",
       "dtype: int64"
      ]
     },
     "execution_count": 27,
     "metadata": {},
     "output_type": "execute_result"
    }
   ],
   "source": [
    "ds1 = pd.Series([1,2,3,4,5])\n",
    "ds2 = pd.Series([2,4,6,8,10])\n",
    "ds1[~ds1.isin(ds2)]"
   ]
  },
  {
   "cell_type": "markdown",
   "metadata": {},
   "source": [
    "### *__Q.17:-  Write a Pandas program to get the items which are not common of two given series.__*\n",
    "### __*Ans:-*__"
   ]
  },
  {
   "cell_type": "code",
   "execution_count": 28,
   "metadata": {},
   "outputs": [
    {
     "data": {
      "text/plain": [
       "1     2\n",
       "3     4\n",
       "5     6\n",
       "6     7\n",
       "8     9\n",
       "10    3\n",
       "dtype: int64"
      ]
     },
     "execution_count": 28,
     "metadata": {},
     "output_type": "execute_result"
    }
   ],
   "source": [
    "ds1 = pd.Series([1,2,3,4,5])\n",
    "ds2 = pd.Series([2,4,6,8,10])\n",
    "dsu = pd.Series(np.union1d(ds1,ds2))\n",
    "dsi = pd.Series(np.intersect1d(ds1,ds2))\n",
    "dsUC = dsu[(~dsu.isin(dsi))]\n",
    "ds[dsUC]"
   ]
  },
  {
   "cell_type": "markdown",
   "metadata": {},
   "source": [
    "### *__Q.18:-  Write a Pandas program to compute the minimum, 25th percentile, median, 75th, and maximum of a given series.__*\n",
    "### __*Ans:-*__"
   ]
  },
  {
   "cell_type": "code",
   "execution_count": 29,
   "metadata": {},
   "outputs": [
    {
     "name": "stdout",
     "output_type": "stream",
     "text": [
      "minimum =  9.87 \n",
      "25th percentile =  47.259696000000005 \n",
      "median =  65.0782427 \n",
      "75th Percentile 79.86806636649999 \n",
      "maximum =  98.7684654\n"
     ]
    }
   ],
   "source": [
    "ds1 = pd.Series([45.984984,65.4984984,98.7684654,98.4654654,97.865132198,13.5764,34.684351,54.684321,49.843513,49.84351654,64.657987,79.79846,79.8646,79.46546,79.878465466,67.94654,9.87,79.879864,47.6846,45.5465])\n",
    "print(\"minimum = \",ds1.min(),\"\\n25th percentile = \",ds1.quantile(0.25),\"\\nmedian = \",ds1.median(),\"\\n75th Percentile\",ds1.quantile(0.75),\"\\nmaximum = \",ds1.max())"
   ]
  },
  {
   "cell_type": "markdown",
   "metadata": {},
   "source": [
    "### *__Q.19:-  Write a Pandas program to calculate the frequency counts of each unique value of a given series.__*\n",
    "### __*Ans:-*__"
   ]
  },
  {
   "cell_type": "code",
   "execution_count": 30,
   "metadata": {},
   "outputs": [
    {
     "data": {
      "text/plain": [
       "4       7\n",
       "8       6\n",
       "1       3\n",
       "5       3\n",
       "7       3\n",
       "6       1\n",
       "25      1\n",
       "6547    1\n",
       "45      1\n",
       "78      1\n",
       "87      1\n",
       "9       1\n",
       "96      1\n",
       "91      1\n",
       "3       1\n",
       "dtype: int64"
      ]
     },
     "execution_count": 30,
     "metadata": {},
     "output_type": "execute_result"
    }
   ],
   "source": [
    "ds = pd.Series([1,25,1,5,1,5,6,4,8,4,8,4,4,4,4,6547,45,5,78,87,8,8,7,8,7,7,9,96,4,91,3,8])\n",
    "ds.value_counts()"
   ]
  },
  {
   "cell_type": "markdown",
   "metadata": {},
   "source": [
    "### *__Q.20:-  Write a Pandas program to display most frequent value in a given series and replace everything else as 'Other' in the series.__*\n",
    "### __*Ans:-*__"
   ]
  },
  {
   "cell_type": "code",
   "execution_count": 31,
   "metadata": {},
   "outputs": [
    {
     "data": {
      "text/plain": [
       "0     Other\n",
       "1     Other\n",
       "2     Other\n",
       "3     Other\n",
       "4     Other\n",
       "5     Other\n",
       "6     Other\n",
       "7         4\n",
       "8     Other\n",
       "9         4\n",
       "10    Other\n",
       "11        4\n",
       "12        4\n",
       "13        4\n",
       "14    Other\n",
       "15    Other\n",
       "16    Other\n",
       "17    Other\n",
       "18    Other\n",
       "19    Other\n",
       "20    Other\n",
       "21    Other\n",
       "22    Other\n",
       "23    Other\n",
       "24    Other\n",
       "25    Other\n",
       "26    Other\n",
       "27        4\n",
       "28    Other\n",
       "29    Other\n",
       "30    Other\n",
       "dtype: object"
      ]
     },
     "execution_count": 31,
     "metadata": {},
     "output_type": "execute_result"
    }
   ],
   "source": [
    "ds = pd.Series([1,25,1,5,1,5,6,4,8,4,8,4,4,4,6547,45,5,78,87,8,8,7,8,7,7,9,96,4,91,3,8])\n",
    "m_i = ds.value_counts().head(1).index[0]\n",
    "m_i\n",
    "ds[ds!=m_i] = 'Other'\n",
    "ds"
   ]
  },
  {
   "cell_type": "markdown",
   "metadata": {},
   "source": [
    "### *__Q.21:-  Write a Pandas program to find the positions of numbers that are multiples of 5 of a given series.__*\n",
    "### __*Ans:-*__"
   ]
  },
  {
   "cell_type": "code",
   "execution_count": 32,
   "metadata": {},
   "outputs": [
    {
     "data": {
      "text/plain": [
       "Int64Index([1, 3, 5, 15, 16], dtype='int64')"
      ]
     },
     "execution_count": 32,
     "metadata": {},
     "output_type": "execute_result"
    }
   ],
   "source": [
    "ds = pd.Series([1,25,1,5,1,5,6,4,8,4,8,4,4,4,6547,45,5,78,87,8,8,7,8,7,7,9,96,4,91,3,8])\n",
    "ds[ds%5==0].index"
   ]
  },
  {
   "cell_type": "markdown",
   "metadata": {},
   "source": [
    "### *__Q.22:-  Write a Pandas program to extract items at given positions of a given series.__*\n",
    "### __*Ans:-*__"
   ]
  },
  {
   "cell_type": "code",
   "execution_count": 33,
   "metadata": {},
   "outputs": [
    {
     "name": "stdout",
     "output_type": "stream",
     "text": [
      "0        1\n",
      "1       25\n",
      "2        1\n",
      "3        5\n",
      "4        1\n",
      "5        5\n",
      "6        6\n",
      "7        4\n",
      "8        8\n",
      "9        4\n",
      "10       8\n",
      "11       4\n",
      "12       4\n",
      "13       4\n",
      "14    6547\n",
      "15      45\n",
      "16       5\n",
      "17      78\n",
      "18      87\n",
      "19       8\n",
      "20       8\n",
      "21       7\n",
      "22       8\n",
      "23       7\n",
      "24       7\n",
      "25       9\n",
      "26      96\n",
      "27       4\n",
      "28      91\n",
      "29       3\n",
      "30       8\n",
      "dtype: int64\n",
      "Item at location 10 is = : 8\n"
     ]
    }
   ],
   "source": [
    "ds = pd.Series([1,25,1,5,1,5,6,4,8,4,8,4,4,4,6547,45,5,78,87,8,8,7,8,7,7,9,96,4,91,3,8])\n",
    "loc = 10\n",
    "print(ds)\n",
    "print('Item at location 10 is = :' , ds.iloc[10])"
   ]
  },
  {
   "cell_type": "markdown",
   "metadata": {},
   "source": [
    "### *__Q.23:-  Write a Pandas program to get the positions of items of a given series in another given series.__*\n",
    "### __*Ans:-*__"
   ]
  },
  {
   "cell_type": "code",
   "execution_count": 34,
   "metadata": {},
   "outputs": [
    {
     "data": {
      "text/plain": [
       "Int64Index([0, 2, 4, 6, 9], dtype='int64')"
      ]
     },
     "execution_count": 34,
     "metadata": {},
     "output_type": "execute_result"
    }
   ],
   "source": [
    "ds1 = pd.Series([1,2,3,4,5,6,7,8,9,10])\n",
    "ds2 = pd.Series([1,3,5,7,10])\n",
    "ds1[ds1.isin(ds2)].index"
   ]
  },
  {
   "cell_type": "markdown",
   "metadata": {},
   "source": [
    "### *__Q.24:-  Write a Pandas program convert the first and last character of each word to upper case in each word of a given series.__*\n",
    "### __*Ans:-*__"
   ]
  },
  {
   "cell_type": "code",
   "execution_count": 35,
   "metadata": {},
   "outputs": [
    {
     "data": {
      "text/plain": [
       "0       PhP\n",
       "1    PythoN\n",
       "2      JavA\n",
       "3        C#\n",
       "dtype: object"
      ]
     },
     "execution_count": 35,
     "metadata": {},
     "output_type": "execute_result"
    }
   ],
   "source": [
    "ds = pd.Series(['php','python','java','c#'])\n",
    "result = ds.map(lambda x: x[0].upper() + x[1:-1]+x[-1].upper())\n",
    "result"
   ]
  },
  {
   "cell_type": "markdown",
   "metadata": {},
   "source": [
    "### *__Q.25:-  Write a Pandas program to calculate the number of characters in each word in a given series.__*\n",
    "### __*Ans:-*__"
   ]
  },
  {
   "cell_type": "code",
   "execution_count": 36,
   "metadata": {},
   "outputs": [
    {
     "name": "stdout",
     "output_type": "stream",
     "text": [
      "3\n",
      "6\n",
      "4\n",
      "2\n"
     ]
    },
    {
     "data": {
      "text/plain": [
       "0       php\n",
       "1    python\n",
       "2      java\n",
       "3        c#\n",
       "dtype: object"
      ]
     },
     "execution_count": 36,
     "metadata": {},
     "output_type": "execute_result"
    }
   ],
   "source": [
    "ds = pd.Series(['php','python','java','c#'])\n",
    "# print(ds)\n",
    "ds.map(lambda x: print(len(x)))\n",
    "ds"
   ]
  },
  {
   "cell_type": "markdown",
   "metadata": {},
   "source": [
    "### *__Q.26:- Write a Pandas program to compute difference of differences between consecutive numbers of a given series.__*\n",
    "### __*Ans:-*__"
   ]
  },
  {
   "cell_type": "code",
   "execution_count": 37,
   "metadata": {},
   "outputs": [
    {
     "name": "stdout",
     "output_type": "stream",
     "text": [
      "0    NaN\n",
      "1    2.0\n",
      "2    2.0\n",
      "3    3.0\n",
      "4    2.0\n",
      "5    1.0\n",
      "6    4.0\n",
      "dtype: float64\n",
      "0    NaN\n",
      "1    NaN\n",
      "2    0.0\n",
      "3    1.0\n",
      "4   -1.0\n",
      "5   -1.0\n",
      "6    3.0\n",
      "dtype: float64\n"
     ]
    }
   ],
   "source": [
    "ds = pd.Series([1,3,5,8,10,11,15])\n",
    "print(ds.diff())\n",
    "print(ds.diff().diff())"
   ]
  },
  {
   "cell_type": "markdown",
   "metadata": {},
   "source": [
    "### *__Q.27:-  Write a Pandas program to convert a series of date strings to a timeseries.__*\n",
    "### __*Ans:-*__"
   ]
  },
  {
   "cell_type": "code",
   "execution_count": 38,
   "metadata": {},
   "outputs": [
    {
     "name": "stdout",
     "output_type": "stream",
     "text": [
      "0   2015-01-01 00:00:00\n",
      "1   2016-10-02 00:00:00\n",
      "2   2018-03-07 00:00:00\n",
      "3   2014-05-06 00:00:00\n",
      "4   2016-04-12 00:00:00\n",
      "5   2019-04-06 11:20:00\n",
      "dtype: datetime64[ns]\n"
     ]
    }
   ],
   "source": [
    "date_series = pd.Series(['01 Jan 2015', '10-02-2016', '20180307', '2014/05/06', '2016-04-12', '2019-04-06T11:20'])\n",
    "print(pd.to_datetime(date_series))"
   ]
  },
  {
   "cell_type": "markdown",
   "metadata": {},
   "source": [
    "### *__Q.28:-  Write a Pandas program to get the day of month, day of year, week number and day of week from a given series of date strings.__*\n",
    "### __*Ans:-*__"
   ]
  },
  {
   "cell_type": "code",
   "execution_count": 39,
   "metadata": {},
   "outputs": [
    {
     "name": "stdout",
     "output_type": "stream",
     "text": [
      "0   2015-01-01 00:00:00\n",
      "1   2016-10-02 00:00:00\n",
      "2   2018-03-07 00:00:00\n",
      "3   2014-05-06 00:00:00\n",
      "4   2016-04-12 00:00:00\n",
      "5   2019-04-06 11:20:00\n",
      "dtype: datetime64[ns]\n",
      "The day of the month is 0     1\n",
      "1     2\n",
      "2     7\n",
      "3     6\n",
      "4    12\n",
      "5     6\n",
      "dtype: int64\n",
      "The day of the wekk is \n",
      " 0      1\n",
      "1    276\n",
      "2     66\n",
      "3    126\n",
      "4    103\n",
      "5     96\n",
      "dtype: int64\n",
      "The week of year by date is as follows : \n",
      " 0     1\n",
      "1    39\n",
      "2    10\n",
      "3    19\n",
      "4    15\n",
      "5    14\n",
      "Name: week, dtype: UInt32\n",
      "The name of day is : \n",
      " 0     Thursday\n",
      "1       Sunday\n",
      "2    Wednesday\n",
      "3      Tuesday\n",
      "4      Tuesday\n",
      "5     Saturday\n",
      "dtype: object\n"
     ]
    }
   ],
   "source": [
    "date_series = pd.Series(['01 Jan 2015', '10-02-2016', '20180307', '2014/05/06', '2016-04-12', '2019-04-06T11:20'])\n",
    "ds = pd.to_datetime(date_series)\n",
    "print(ds)\n",
    "print(\"The day of the month is\",ds.dt.day)\n",
    "print(\"The day of the wekk is \\n\",ds.dt.day_of_year)\n",
    "print(\"The week of year by date is as follows : \\n\",ds.dt.isocalendar()['week'])\n",
    "print(\"The name of day is : \\n\",ds.dt.day_name())\n"
   ]
  },
  {
   "cell_type": "markdown",
   "metadata": {},
   "source": [
    "### *__Q.29:-  Write a Pandas program to convert year-month string to dates adding a specified day of the month.__*\n",
    "### __*Ans:-*__"
   ]
  },
  {
   "cell_type": "code",
   "execution_count": 40,
   "metadata": {},
   "outputs": [
    {
     "data": {
      "text/plain": [
       "0   2015-01-11\n",
       "1   2016-02-11\n",
       "2   2017-03-11\n",
       "3   2018-04-11\n",
       "4   2019-05-11\n",
       "dtype: datetime64[ns]"
      ]
     },
     "execution_count": 40,
     "metadata": {},
     "output_type": "execute_result"
    }
   ],
   "source": [
    "ds = pd.Series([\"Jan 2015\",\"Feb 2016\",\"Mar 2017\",\"Apr 2018\",\"May 2019\",])\n",
    "# ds = ds.map(lambda x:x+\" 11\")\n",
    "ds = pd.to_datetime(ds+\" 11\")\n",
    "ds"
   ]
  },
  {
   "cell_type": "markdown",
   "metadata": {},
   "source": [
    "### *__Q.30:-  Write a Pandas program to filter words from a given series that contain atleast two vowels.__*\n",
    "### __*Ans:-*__"
   ]
  },
  {
   "cell_type": "code",
   "execution_count": 41,
   "metadata": {},
   "outputs": [
    {
     "data": {
      "text/plain": [
       "1     Green\n",
       "2    Orange\n",
       "4    Yellow\n",
       "5     White\n",
       "dtype: object"
      ]
     },
     "execution_count": 41,
     "metadata": {},
     "output_type": "execute_result"
    }
   ],
   "source": [
    "ds =pd.Series([\"Red\",\"Green\",\"Orange\",\"Pink\",\"Yellow\",\"White\",])\n",
    "cond = ds.map(lambda x: len([i for i in x.lower() if i in [j for j in \"aeiou\"]])>=2)\n",
    "ds[cond]\n"
   ]
  },
  {
   "cell_type": "markdown",
   "metadata": {},
   "source": [
    "### *__Q.31:-  Write a Pandas program to compute the Euclidean distance between two given series. Euclidean distance From Wikipedia, In mathematics, the Euclidean distance or Euclidean metric is the \"ordinary\" straight-line distance between two points in Euclidean space. With this distance, Euclidean space becomes a metric space. The associated norm is called the Euclidean norm.__*\n",
    "### __*Ans:-*__"
   ]
  },
  {
   "cell_type": "code",
   "execution_count": 42,
   "metadata": {},
   "outputs": [
    {
     "name": "stdout",
     "output_type": "stream",
     "text": [
      "The Euclidean norm is  16.492422502470642\n"
     ]
    }
   ],
   "source": [
    "ds1 = pd.Series([1,2,3,4,5,6,7,8,9,10])\n",
    "ds2 = pd.Series([11,8,7,5,6,5,3,4,7,1])\n",
    "print(\"The Euclidean norm is \",np.sqrt(np.sum((ds1-ds2)**2)))\n"
   ]
  },
  {
   "cell_type": "markdown",
   "metadata": {},
   "source": [
    "### *__Q.32 :-  Write a Pandas program to find the positions of the values neighboured by smaller values on both sides in a given series.__*\n",
    "### __*Ans:-*__"
   ]
  },
  {
   "cell_type": "code",
   "execution_count": 43,
   "metadata": {},
   "outputs": [
    {
     "data": {
      "text/plain": [
       "Int64Index([1, 4, 8], dtype='int64')"
      ]
     },
     "execution_count": 43,
     "metadata": {},
     "output_type": "execute_result"
    }
   ],
   "source": [
    "ds = pd.Series([1,8,7,5,6,5,3,4,7,1,])\n",
    "cond1= ds.diff()>0\n",
    "cond2= ds.diff(-1)>0\n",
    "ds[cond1 & cond2].index"
   ]
  },
  {
   "cell_type": "markdown",
   "metadata": {},
   "source": [
    "### *__Q.33:-  Write a Pandas program to replace missing white spaces in a given string with the least frequent character.__*\n",
    "### __*Ans:-*__"
   ]
  },
  {
   "cell_type": "code",
   "execution_count": 44,
   "metadata": {},
   "outputs": [
    {
     "data": {
      "text/plain": [
       "'abcidefiabcdefiicd'"
      ]
     },
     "execution_count": 44,
     "metadata": {},
     "output_type": "execute_result"
    }
   ],
   "source": [
    "ds = pd.Series([i for i in 'abc def abcdef icd'])\n",
    "m_i = ds.value_counts().sort_values().head(1).index[0]\n",
    "cond = ds == \" \"\n",
    "ds[cond] = m_i\n",
    "\"\".join(ds)\n"
   ]
  },
  {
   "cell_type": "markdown",
   "metadata": {},
   "source": [
    "### *__Q.34:-  Write a Pandas program to compute the autocorrelations of a given numeric series. From Wikipedia: Autocorrelation, also known as serial correlation, is the correlation of a signal with a delayed copy of itself as a function of delay. Informally, it is the similarity between observations as a function of the time lag between them.__*\n",
    "### __*Ans:-*__"
   ]
  },
  {
   "cell_type": "code",
   "execution_count": 45,
   "metadata": {},
   "outputs": [
    {
     "data": {
      "text/plain": [
       "<bound method Series.corr of 0     13.207262\n",
       "1      4.098685\n",
       "2     -1.435534\n",
       "3     13.626760\n",
       "4     -2.346193\n",
       "5     17.873884\n",
       "6     46.546500\n",
       "7     65.465400\n",
       "8     46.546000\n",
       "9     46.546400\n",
       "10    45.321464\n",
       "11    18.847354\n",
       "12    74.347460\n",
       "13    78.356700\n",
       "14    54.354800\n",
       "dtype: float64>"
      ]
     },
     "execution_count": 45,
     "metadata": {},
     "output_type": "execute_result"
    }
   ],
   "source": [
    "ds = pd.Series([13.207262,4.098685,-1.435534,13.626760,-2.346193,17.873884,46.5465,65.4654,46.546,46.5464,45.321464,18.8473537,74.34746,78.3567,54.3548])\n",
    "ds.corr"
   ]
  },
  {
   "cell_type": "markdown",
   "metadata": {},
   "source": [
    "### *__Q.35:-  Write a Pandas program to create a TimeSeries to display all the Sundays of given year.__*\n",
    "### __*Ans:-*__"
   ]
  },
  {
   "cell_type": "code",
   "execution_count": 46,
   "metadata": {},
   "outputs": [
    {
     "data": {
      "text/plain": [
       "0    Sunday\n",
       "1    Sunday\n",
       "4    Sunday\n",
       "7    Sunday\n",
       "8    Sunday\n",
       "9    Sunday\n",
       "dtype: object"
      ]
     },
     "execution_count": 46,
     "metadata": {},
     "output_type": "execute_result"
    }
   ],
   "source": [
    "ds = pd.Series([\"2020-01-05\",\"2020-01-12\",\"2020-01-20\",\"2020-01-27\",\"2020-02-02\",\"2020-02-10\",\"2020-12-07\",\"2020-12-13\",\"2020-12-20\",\"2020-12-27\"])\n",
    "ds = pd.to_datetime(ds)\n",
    "cond = ds.dt.day_name() == 'Sunday'\n",
    "ds[cond].dt.day_name()"
   ]
  },
  {
   "cell_type": "markdown",
   "metadata": {},
   "source": [
    "### *__Q.36:-  Write a Pandas program to convert given series into a dataframe with its index as another column on the dataframe.__*\n",
    "### __*Ans:-*__"
   ]
  },
  {
   "cell_type": "code",
   "execution_count": 47,
   "metadata": {},
   "outputs": [
    {
     "name": "stdout",
     "output_type": "stream",
     "text": [
      "0    0\n",
      "1    1\n",
      "2    2\n",
      "3    3\n",
      "4    4\n",
      "dtype: int64 \n",
      " <class 'pandas.core.series.Series'>\n",
      "   index  0\n",
      "0      0  0\n",
      "1      1  1\n",
      "2      2  2\n",
      "3      3  3\n",
      "4      4  4 \n",
      " <class 'pandas.core.frame.DataFrame'>\n"
     ]
    }
   ],
   "source": [
    "ds = pd.Series([0,1,2,3,4])\n",
    "print(ds,\"\\n\",type(ds))\n",
    "ds = ds.reset_index()\n",
    "print(ds,\"\\n\",type(ds))\n"
   ]
  },
  {
   "cell_type": "markdown",
   "metadata": {},
   "source": [
    "### *__Q.37:-  Write a Pandas program to stack two given series vertically and horizontally.__*\n",
    "### __*Ans:-*__"
   ]
  },
  {
   "cell_type": "code",
   "execution_count": 48,
   "metadata": {},
   "outputs": [
    {
     "name": "stdout",
     "output_type": "stream",
     "text": [
      "Stcked Vertically\n",
      "0     1\n",
      "1     2\n",
      "2     3\n",
      "3     4\n",
      "4     5\n",
      "5     6\n",
      "6     7\n",
      "7     8\n",
      "8     9\n",
      "9     p\n",
      "10    q\n",
      "11    r\n",
      "12    s\n",
      "13    t\n",
      "14    u\n",
      "15    v\n",
      "16    w\n",
      "17    x\n",
      "18    y\n",
      "dtype: object\n",
      "Stcked Horizontally\n",
      "     0  1\n",
      "0  1.0  p\n",
      "1  2.0  q\n",
      "2  3.0  r\n",
      "3  4.0  s\n",
      "4  5.0  t\n",
      "5  6.0  u\n",
      "6  7.0  v\n",
      "7  8.0  w\n",
      "8  9.0  x\n",
      "9  NaN  y\n"
     ]
    }
   ],
   "source": [
    "ds1 = pd.Series([1,2,3,4,5,6,7,8,9])\n",
    "ds2 = pd.Series([i for i in \"pqrstuvwxy\"])\n",
    "dsv = pd.concat([ds1,ds2]).reset_index(drop=True)\n",
    "print(\"Stcked Vertically\")\n",
    "print(dsv)\n",
    "dsh = pd.concat([ds1,ds2],axis=1).reset_index(drop=True)\n",
    "print(\"Stcked Horizontally\")\n",
    "print(dsh)"
   ]
  },
  {
   "cell_type": "markdown",
   "metadata": {},
   "source": [
    "### *__Q.38:-  Write a Pandas program to check the equality of two given series.__*\n",
    "### __*Ans:-*__"
   ]
  },
  {
   "cell_type": "code",
   "execution_count": 49,
   "metadata": {},
   "outputs": [
    {
     "name": "stdout",
     "output_type": "stream",
     "text": [
      "Check 2 series are equal or not?\n"
     ]
    },
    {
     "data": {
      "text/plain": [
       "0     True\n",
       "1     True\n",
       "2    False\n",
       "3     True\n",
       "4     True\n",
       "5    False\n",
       "6    False\n",
       "7     True\n",
       "8    False\n",
       "dtype: bool"
      ]
     },
     "execution_count": 49,
     "metadata": {},
     "output_type": "execute_result"
    }
   ],
   "source": [
    "ds1 = pd.Series([1,2,3,4,5,6,7,8,9])\n",
    "ds2 = pd.Series([1,2,76,4,5,67,54,8,4])\n",
    "print(\"Check 2 series are equal or not?\")\n",
    "ds1==ds2"
   ]
  },
  {
   "cell_type": "markdown",
   "metadata": {},
   "source": [
    "### *__Q.39:-  Write a Pandas program to find the index of the first occurrence of the smallest and largest value of a given series.__*\n",
    "### __*Ans:-*__"
   ]
  },
  {
   "cell_type": "code",
   "execution_count": 50,
   "metadata": {},
   "outputs": [
    {
     "name": "stdout",
     "output_type": "stream",
     "text": [
      "The index minimum value in the given Series is '1'\n",
      "The index Maximum value in the given Series is '0'\n"
     ]
    }
   ],
   "source": [
    "ds = pd.Series([2,76,4,5,67,54,8,4])\n",
    "cond1 = ds == ds.min()\n",
    "cond2 = ds == ds.max()\n",
    "max_i = ds[cond1].index[0]\n",
    "min_i = ds[cond2].index[0]\n",
    "print(f\"The index minimum value in the given Series is '{min_i}'\")\n",
    "print(f\"The index Maximum value in the given Series is '{max_i}'\")"
   ]
  },
  {
   "cell_type": "markdown",
   "metadata": {},
   "source": [
    "### *__Q.40:-  Write a Pandas program to check inequality over the index axis of a given dataframe and a given series.__*\n",
    "### __*Ans:-*__"
   ]
  },
  {
   "cell_type": "code",
   "execution_count": 51,
   "metadata": {},
   "outputs": [
    {
     "name": "stdout",
     "output_type": "stream",
     "text": [
      "inequality of the said series & dataframe:\n"
     ]
    },
    {
     "data": {
      "text/html": [
       "<div>\n",
       "<style scoped>\n",
       "    .dataframe tbody tr th:only-of-type {\n",
       "        vertical-align: middle;\n",
       "    }\n",
       "\n",
       "    .dataframe tbody tr th {\n",
       "        vertical-align: top;\n",
       "    }\n",
       "\n",
       "    .dataframe thead th {\n",
       "        text-align: right;\n",
       "    }\n",
       "</style>\n",
       "<table border=\"1\" class=\"dataframe\">\n",
       "  <thead>\n",
       "    <tr style=\"text-align: right;\">\n",
       "      <th></th>\n",
       "      <th>W</th>\n",
       "      <th>X</th>\n",
       "      <th>Y</th>\n",
       "      <th>Z</th>\n",
       "    </tr>\n",
       "  </thead>\n",
       "  <tbody>\n",
       "    <tr>\n",
       "      <th>0</th>\n",
       "      <td>False</td>\n",
       "      <td>True</td>\n",
       "      <td>True</td>\n",
       "      <td>True</td>\n",
       "    </tr>\n",
       "    <tr>\n",
       "      <th>1</th>\n",
       "      <td>False</td>\n",
       "      <td>False</td>\n",
       "      <td>True</td>\n",
       "      <td>True</td>\n",
       "    </tr>\n",
       "    <tr>\n",
       "      <th>2</th>\n",
       "      <td>False</td>\n",
       "      <td>True</td>\n",
       "      <td>True</td>\n",
       "      <td>True</td>\n",
       "    </tr>\n",
       "    <tr>\n",
       "      <th>3</th>\n",
       "      <td>False</td>\n",
       "      <td>False</td>\n",
       "      <td>True</td>\n",
       "      <td>True</td>\n",
       "    </tr>\n",
       "    <tr>\n",
       "      <th>4</th>\n",
       "      <td>True</td>\n",
       "      <td>True</td>\n",
       "      <td>True</td>\n",
       "      <td>True</td>\n",
       "    </tr>\n",
       "  </tbody>\n",
       "</table>\n",
       "</div>"
      ],
      "text/plain": [
       "       W      X     Y     Z\n",
       "0  False   True  True  True\n",
       "1  False  False  True  True\n",
       "2  False   True  True  True\n",
       "3  False  False  True  True\n",
       "4   True   True  True  True"
      ]
     },
     "execution_count": 51,
     "metadata": {},
     "output_type": "execute_result"
    }
   ],
   "source": [
    "data = {'W':[68.0,75.0,86.0,80.0,np.nan] ,'X':[78.0,75.0,np.nan,80.0,86.0] ,'Y':[84,94,89,86,86] ,'Z':[86,97,96,72,83]}\n",
    "df = pd.DataFrame(data)\n",
    "ds = pd.Series([68.0,75.0,86.0,80.0,np.nan,])\n",
    "print(\"inequality of the said series & dataframe:\")\n",
    "~df.isin(ds)"
   ]
  },
  {
   "cell_type": "code",
   "execution_count": null,
   "metadata": {},
   "outputs": [],
   "source": []
  }
 ],
 "metadata": {
  "kernelspec": {
   "display_name": "base",
   "language": "python",
   "name": "python3"
  },
  "language_info": {
   "codemirror_mode": {
    "name": "ipython",
    "version": 3
   },
   "file_extension": ".py",
   "mimetype": "text/x-python",
   "name": "python",
   "nbconvert_exporter": "python",
   "pygments_lexer": "ipython3",
   "version": "3.11.5"
  }
 },
 "nbformat": 4,
 "nbformat_minor": 2
}
