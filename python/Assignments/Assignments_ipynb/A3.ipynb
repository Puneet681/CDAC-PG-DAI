{
 "cells": [
  {
   "cell_type": "markdown",
   "metadata": {},
   "source": [
    "1. Given a string of odd length greater than 7, return a new string made of the middle three\n",
    "characters of a given String\n",
    "* Given:\n",
    "* str1 = \"RakeshzipPetabb\"\n",
    "* Output\n",
    "* zip\n",
    "* str2 = \"JazzbonAyxx\"\n",
    "* Output\n",
    "* bon"
   ]
  },
  {
   "cell_type": "code",
   "execution_count": 2,
   "metadata": {},
   "outputs": [
    {
     "name": "stdout",
     "output_type": "stream",
     "text": [
      "hjk\n"
     ]
    }
   ],
   "source": [
    "str1 = \"Rakeshzippetabb\"\n",
    "str2 = \"jazzbonAyxx\"\n",
    "s = input(\"enter a string with morethan 7 and odd number of char. \")\n",
    "\n",
    "r = len(s)\n",
    "\n",
    "\n",
    "if len(s)>=7 and r%2 !=0:\n",
    "    indexLHS = int((len(s)-3)/2)\n",
    "    indexRHS = int(indexLHS+3)\n",
    "i = 1\n",
    "print(s[indexLHS:indexRHS])"
   ]
  },
  {
   "cell_type": "markdown",
   "metadata": {},
   "source": [
    "2. Given two strings, s1 and s2, create a new string by appending s2 in the middle of s1\n",
    "\n",
    "* Given:\n",
    "* s1 = \"Ault\"\n",
    "* s2 = \"Kelly\"\n",
    "* Expected Output:\n",
    "* AuKellylt"
   ]
  },
  {
   "cell_type": "code",
   "execution_count": 3,
   "metadata": {},
   "outputs": [
    {
     "name": "stdout",
     "output_type": "stream",
     "text": [
      "atkellyul\n"
     ]
    }
   ],
   "source": [
    "s1 = 'atul'\n",
    "s2 = 'kelly'\n",
    "i = (len(s1))//2\n",
    "print(s1[0:i]+s2+s1[i:])"
   ]
  },
  {
   "cell_type": "markdown",
   "metadata": {},
   "source": [
    "3. two strings, s1, and s2 return a new string made of the first, middle, and last characters each\n",
    "input string\n",
    "* Given:\n",
    "\n",
    "* s1 = \"America\"\n",
    "* s2 = \"Japan\"\n",
    "* Expected Output:\n",
    "* AJrpan\n",
    "* solution:\n",
    "* def mix_string(s1, s2):\n",
    "* first_char = s1[:1] + s2[:1]\n",
    "* middle_char = s1[int(len(s1) / 2):int(len(s1) / 2) + 1] + s2[int(len(s2) / 2):int(len(s2)\n",
    "* / 2) + 1]\n",
    "* last_char = s1[len(s1) - 1] + s2[len(s2) - 1]\n",
    "* res = first_char + middle_char + last_char\n",
    "* print(\"Mix String is \", res)\n",
    "\n",
    "* s1 = \"America\"\n",
    "* s2 = \"Japan\"\n",
    "* mix_string(s1, s2)"
   ]
  },
  {
   "cell_type": "code",
   "execution_count": 4,
   "metadata": {},
   "outputs": [
    {
     "name": "stdout",
     "output_type": "stream",
     "text": [
      "ajrpan\n"
     ]
    }
   ],
   "source": [
    "s1 = \"america\"\n",
    "s2 = 'japan'\n",
    "\n",
    "def mix(s1,s2):\n",
    "    m1 = len(s1)//2\n",
    "    m2 = len(s2)//2\n",
    "    l1 = len(s1)-1\n",
    "    l2 = len(s2)-1\n",
    "    print(f\"{s1[0]+s2[0]}\"+f\"{s1[m1]+s2[m2]}\"+f\"{s1[l1]+s2[l2]}\")\n",
    "\n",
    "mix(s1,s2)"
   ]
  },
  {
   "cell_type": "markdown",
   "metadata": {},
   "source": [
    "4. Given an input string with the combination of the lower and upper case arrange characters\n",
    "in such a way that all lowercase letters should come first.\n",
    "\n",
    "* solution:\n",
    "* str1 = \"PytHONStudy\"\n",
    "* lower = []\n",
    "* upper = []\n",
    "* for char in str1:\n",
    "* if char.islower():\n",
    "* lower.append(char)\n",
    "* else:\n",
    "* upper.append(char)\n",
    "* sorted_string = ''.join(lower + upper)\n",
    "* print(\"arranging characters giving precedence to lowercase letters:\")\n",
    "* print(sorted_string)"
   ]
  },
  {
   "cell_type": "code",
   "execution_count": 5,
   "metadata": {},
   "outputs": [
    {
     "name": "stdout",
     "output_type": "stream",
     "text": [
      "ytudyPTHONS\n"
     ]
    }
   ],
   "source": [
    "str = \"PyTHONStudy\"\n",
    "l =[]\n",
    "u=[]\n",
    "\n",
    "for i in str:\n",
    "    if i.islower():\n",
    "        l.append(i)\n",
    "    else:\n",
    "        u.append(i)\n",
    "lr = \"\".join(l)\n",
    "ur = \"\".join(u)\n",
    "\n",
    "print(lr+ur)"
   ]
  },
  {
   "cell_type": "markdown",
   "metadata": {},
   "source": [
    "5. create a third-string made of the first char of s1 then the last char of s2, Next, the second\n",
    "char of s1 and second last char of s2, and so on. Any leftover chars go at the end of the\n",
    "* result.\n",
    "\n",
    "* Given:\n",
    "* s1 = \"Abc\"\n",
    "* s2 = \"Xyz\"\n",
    "* Expected Output:\n",
    "* AzbycX"
   ]
  },
  {
   "cell_type": "code",
   "execution_count": 6,
   "metadata": {},
   "outputs": [
    {
     "name": "stdout",
     "output_type": "stream",
     "text": [
      "4\n",
      "azbycxd"
     ]
    }
   ],
   "source": [
    "s = \"abcd\"\n",
    "s2 = \"xyz\"\n",
    "r = 0\n",
    "if len(s) >= len(s2):\n",
    "    r = len(s)\n",
    "    temp = s\n",
    "    s2 = s2[::-1]\n",
    "else:\n",
    "    r = len(s2)\n",
    "    temp = s2\n",
    "    s = s[::-1]\n",
    "print(r)\n",
    "\n",
    "for i in range(r):\n",
    "    try:\n",
    "        print(f\"{s[i]}{s2[i]}\",end='')\n",
    "    except:\n",
    "        print(f\"{temp[i]}\",end='')"
   ]
  },
  {
   "cell_type": "markdown",
   "metadata": {},
   "source": [
    "6. Find all occurrences of “USA” from right to left in a given string ignoring the case. also\n",
    "display the position\n",
    "* Given:\n",
    "\n",
    "* str1 = \"Welcome to USA. usa awesome, isn't it?"
   ]
  },
  {
   "cell_type": "code",
   "execution_count": 7,
   "metadata": {},
   "outputs": [
    {
     "name": "stdout",
     "output_type": "stream",
     "text": [
      "16\n",
      "11\n",
      "********************************************************************************\n",
      "number of occunces :-  2\n"
     ]
    }
   ],
   "source": [
    "x = \"Welcome to USA. usa awesome, isn't it?\"\n",
    "a = x.upper()\n",
    "b=\"USA\"\n",
    "pos = a.rfind(b)\n",
    "while pos != -1:\n",
    "    print(pos)\n",
    "    pos = a.rfind(b,0,pos)\n",
    "print(\"*\"*80)\n",
    "print(\"number of occunces :- \",a.count(b))"
   ]
  }
 ],
 "metadata": {
  "kernelspec": {
   "display_name": "base",
   "language": "python",
   "name": "python3"
  },
  "language_info": {
   "codemirror_mode": {
    "name": "ipython",
    "version": 3
   },
   "file_extension": ".py",
   "mimetype": "text/x-python",
   "name": "python",
   "nbconvert_exporter": "python",
   "pygments_lexer": "ipython3",
   "version": "3.11.5"
  }
 },
 "nbformat": 4,
 "nbformat_minor": 2
}
