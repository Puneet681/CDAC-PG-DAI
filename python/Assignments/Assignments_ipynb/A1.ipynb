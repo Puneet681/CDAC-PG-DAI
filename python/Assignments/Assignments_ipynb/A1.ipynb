{
 "cells": [
  {
   "cell_type": "markdown",
   "metadata": {},
   "source": [
    "1. A student will not be allowed to sit in exam if his/her attendence is less than 75%.\n",
    "* Take following input from user\n",
    "    * Number of classes held\n",
    "    * Number of classes attended.\n",
    "    * And print percentage of class attended Is student is allowed to sit in exam or not."
   ]
  },
  {
   "cell_type": "code",
   "execution_count": 12,
   "metadata": {},
   "outputs": [
    {
     "name": "stdout",
     "output_type": "stream",
     "text": [
      "the student have attended 83.33333333333334 % class\n",
      "student is elidigble to sit in exam\n"
     ]
    }
   ],
   "source": [
    "x = int(input(\"enter the number classes held\"))\n",
    "y = int(input(\"enter the number classes attended\"))\n",
    "\n",
    "print(f\"the student have attended {(y/x)*100} % class\")\n",
    "if (y/x)>=0.75:\n",
    "    print(\"student is elidigble to sit in exam\")\n",
    "else:\n",
    "    print(\"student is not elidigble to sit in exam\")\n"
   ]
  },
  {
   "cell_type": "markdown",
   "metadata": {},
   "source": [
    "2. 1.accept amount from user and find the minimum number notes required to get the amount\n",
    "* amount =512\n",
    "* Notes: 2000,500,100,50,10,5,2,1\n",
    "* 500-1 note\n",
    "* 10 - 1 note\n",
    "* 2- 1 coin\n",
    "* amount=20550\n",
    "* 2000 – 10 note\n",
    "* 500 – 1 note\n",
    "* 50 -1 note"
   ]
  },
  {
   "cell_type": "code",
   "execution_count": 13,
   "metadata": {},
   "outputs": [
    {
     "name": "stdout",
     "output_type": "stream",
     "text": [
      "2000 = 1\n",
      "500 = 1\n"
     ]
    }
   ],
   "source": [
    "a = int(input(\"enter the amount\"))\n",
    "\n",
    "notes = [2000,500,100,50,10,5,2,1]\n",
    "count = [0,0,0,0,0,0,0,0]\n",
    "\n",
    "while a!=0:\n",
    "    for i in range(len(notes)):\n",
    "        if a>=notes[i]:\n",
    "            a = a - notes[i]\n",
    "            count[i] = count[i]+1\n",
    "            break\n",
    "for i in range(len(notes)):\n",
    "    if count[i]!=0:\n",
    "        print(f\"{notes[i]} = {count[i]}\")"
   ]
  },
  {
   "cell_type": "markdown",
   "metadata": {},
   "source": [
    "3. Modify the above question to allow student to sit if he/she has medical cause. Ask\n",
    "user if he/she has medical cause or not ( 'Y' or 'N' ) and print accordingly."
   ]
  },
  {
   "cell_type": "code",
   "execution_count": 14,
   "metadata": {},
   "outputs": [
    {
     "name": "stdout",
     "output_type": "stream",
     "text": [
      "the student have attended 120.0 % class\n",
      "student is elidigble to sit in exam\n"
     ]
    }
   ],
   "source": [
    "x = int(input(\"enter the number classes held\"))\n",
    "y = int(input(\"enter the number classes attended\"))\n",
    "z = input(\"do student has medical cause (Y/N)\")\n",
    "print(f\"the student have attended {(x/y)*100} % class\")\n",
    "if (x/y)>=0.75:\n",
    "    print(\"student is elidigble to sit in exam\")\n",
    "else:\n",
    "    if z==\"Y\":\n",
    "        print(\"student is elidigble to sit in exam because of medical cause\")\n",
    "    else:\n",
    "        print(\"student is not elidigble to sit in exam\")"
   ]
  },
  {
   "cell_type": "markdown",
   "metadata": {},
   "source": [
    "4. A school has following rules for grading system:\n",
    "* a. Below 25 - F\n",
    "* b. 25 to 45 - E\n",
    "* c. 45 to 50 - D\n",
    "* d. 50 to 60 - C\n",
    "* e. 60 to 80 - B\n",
    "* f. Above 80 - A\n",
    "* Ask user to enter marks and print the corresponding grade."
   ]
  },
  {
   "cell_type": "code",
   "execution_count": 15,
   "metadata": {},
   "outputs": [
    {
     "name": "stdout",
     "output_type": "stream",
     "text": [
      "the Grade of Student is A \n"
     ]
    }
   ],
   "source": [
    "x = float(input(\"enter marks of student\"))\n",
    "\n",
    "if x<=25:\n",
    "    print(\"the Grade of Student is F \")\n",
    "elif 25<x<=45:\n",
    "    print(\"the Grade of Student is E \")\n",
    "elif 45<x<=50:\n",
    "    print(\"the Grade of Student is D \")\n",
    "elif 50<x<=60:\n",
    "    print(\"the Grade of Student is C \")\n",
    "elif 60<x<=80:\n",
    "    print(\"the Grade of Student is B \")\n",
    "else:\n",
    "    print(\"the Grade of Student is A \")"
   ]
  },
  {
   "cell_type": "markdown",
   "metadata": {},
   "source": [
    "5. Print the output of following statements\n",
    "* If\n",
    "    * x = 2\n",
    "    * y = 5\n",
    "    * z = 0\n",
    "* then find values of the following expressions:\n",
    "    * a. x == 2\n",
    "    * b. x != 5\n",
    "    * c. x != 5 && y >= 5\n",
    "    * d. z != 0 || x == 2\n",
    "    * e. !(y < 10)"
   ]
  },
  {
   "cell_type": "code",
   "execution_count": 16,
   "metadata": {},
   "outputs": [
    {
     "name": "stdout",
     "output_type": "stream",
     "text": [
      "True\n",
      "True\n",
      "True\n",
      "True\n",
      "False\n"
     ]
    }
   ],
   "source": [
    "x =2 \n",
    "y=5\n",
    "z=0\n",
    "print(x == 2)\n",
    "print(x != 5)\n",
    "\n",
    "print(x != 5 & y >= 5)\n",
    "print(z != 0 | x == 2)\n",
    "print(not(y < 10)) # '!' doesnot work in jupyter notebook"
   ]
  },
  {
   "cell_type": "markdown",
   "metadata": {},
   "source": [
    "6. Accept number from user and check whether it is divisible by 5 and 11\n",
    "if divisible then display appropriate message."
   ]
  },
  {
   "cell_type": "code",
   "execution_count": 17,
   "metadata": {},
   "outputs": [
    {
     "name": "stdout",
     "output_type": "stream",
     "text": [
      "entered number is nither divisible by 5 nor by 11 \n"
     ]
    }
   ],
   "source": [
    "x = float(input(\"enter number to check divisibility\"))\n",
    "\n",
    "if x%5==0 and x%11==0:\n",
    "    print(\"entered number is divisible by both 5 & 11\")\n",
    "elif x%5==0:\n",
    "    print(\"entered number is divisible by only 5\")\n",
    "elif x%11==0:\n",
    "    print(\"entered number is divisible by only 11\")\n",
    "else:\n",
    "    print(\"entered number is nither divisible by 5 nor by 11 \")"
   ]
  },
  {
   "cell_type": "markdown",
   "metadata": {},
   "source": [
    "7. Write a program to calculate the electricity bill (accept number of unit from user) according to the following criteria :\n",
    "* Unit Price\n",
    "* First 100 units no charge\n",
    "* Next 100 units Rs 5 per unit\n",
    "* After 200 units Rs 10 per unit\n",
    "* (For example if input unit is 350 than total bill amount is Rs2000)"
   ]
  },
  {
   "cell_type": "code",
   "execution_count": 18,
   "metadata": {},
   "outputs": [
    {
     "name": "stdout",
     "output_type": "stream",
     "text": [
      "total bill is 1000\n"
     ]
    }
   ],
   "source": [
    "x = int(input(\"enter units of electricity consumed\"))\n",
    "bill = 0\n",
    "x = x-100\n",
    "if x>100:\n",
    "    bill = 500\n",
    "    x = x-100\n",
    "    bill = bill + (x*10)\n",
    "    print(f\"total bill is {bill}\")\n",
    "else:\n",
    "    bill = bill + (x*5)\n",
    "    print(f\"total bill is {bill}\")"
   ]
  },
  {
   "cell_type": "markdown",
   "metadata": {},
   "source": [
    "8. Write a program to check whether the last digit of a number( entered by user ) is divisible by\n",
    "3 or not."
   ]
  },
  {
   "cell_type": "code",
   "execution_count": 19,
   "metadata": {},
   "outputs": [
    {
     "name": "stdout",
     "output_type": "stream",
     "text": [
      "unit digit 4 is not divisible by 3\n"
     ]
    }
   ],
   "source": [
    "x = int(input(\"enter number to check wether the unit digit is divisible by 3 :- \"))\n",
    "\n",
    "if (x%10)%3==0:\n",
    "    print(f\"unit digit {x%10} is divisible by 3\")\n",
    "else:\n",
    "    print(f\"unit digit {x%10} is not divisible by 3\")\n"
   ]
  },
  {
   "cell_type": "markdown",
   "metadata": {},
   "source": [
    "9. Write a program to check whether an years is leap year or not\n",
    "the year is leap if it satisfies following condition\n",
    "* It the year is divisible by 100\n",
    "    * If it is divisible by 100, then it should also be divisible by 400 then it is leap year\n",
    "\n",
    "* otherwise, all other years divisible by 4 and not divisible by 100 then it is leap year."
   ]
  },
  {
   "cell_type": "code",
   "execution_count": 20,
   "metadata": {},
   "outputs": [
    {
     "name": "stdout",
     "output_type": "stream",
     "text": [
      "2000 year is leap year\n"
     ]
    }
   ],
   "source": [
    "x = int(input(\"enter the year to check if its leap year or not\"))\n",
    "\n",
    "if x%4==0 or x%400==0:\n",
    "    print(f\"{x} year is leap year\")\n",
    "else:\n",
    "    print(f\"{x} year is NOT leap year\")"
   ]
  },
  {
   "cell_type": "markdown",
   "metadata": {},
   "source": [
    "10. Write a program to accept the price of a bike and display the road tax and\n",
    "insurance to be paid according to the following criteria . also display total amount to\n",
    "be paid.\n",
    "\n",
    "Cost price (in Rs) Tax Inssurance\n",
    "* 100000 15 % 20%\n",
    "* 50000 and <= 100000 10% 8%\n",
    "* <= 50000 5% 5%"
   ]
  },
  {
   "cell_type": "code",
   "execution_count": 21,
   "metadata": {},
   "outputs": [
    {
     "name": "stdout",
     "output_type": "stream",
     "text": [
      "road tax  = 22050.0\n",
      "insurance = 29400.0\n",
      "total price to be paid = 198450.0\n"
     ]
    }
   ],
   "source": [
    "x = int(input(\"enter the Ex-showroom price of bike\"))\n",
    "\n",
    "if x>100000:\n",
    "    tax = (x/100)*15\n",
    "    ins = (x/100)*20 \n",
    "    print(f\"road tax  = {tax}\")\n",
    "    print(f\"insurance = {ins}\")\n",
    "    print(f\"total price to be paid = {x + tax + ins}\")\n",
    "elif 100000>=x>50000:\n",
    "    tax = (x/100)*10\n",
    "    ins = (x/100)*8 \n",
    "    print(f\"road tax  = {tax}\")\n",
    "    print(f\"insurance = {ins}\")\n",
    "    print(f\"total price to be paid = {x + tax + ins}\")\n",
    "else:\n",
    "    tax = (x/100)*5\n",
    "    ins = (x/100)*5 \n",
    "    print(f\"road tax  = {tax}\")\n",
    "    print(f\"insurance = {ins}\")\n",
    "    print(f\"total price to be paid = {x + tax + ins}\")"
   ]
  }
 ],
 "metadata": {
  "kernelspec": {
   "display_name": "base",
   "language": "python",
   "name": "python3"
  },
  "language_info": {
   "codemirror_mode": {
    "name": "ipython",
    "version": 3
   },
   "file_extension": ".py",
   "mimetype": "text/x-python",
   "name": "python",
   "nbconvert_exporter": "python",
   "pygments_lexer": "ipython3",
   "version": "3.11.5"
  }
 },
 "nbformat": 4,
 "nbformat_minor": 2
}
