{
 "cells": [
  {
   "cell_type": "markdown",
   "metadata": {},
   "source": [
    "1. Accept 10 integers from user and print their average value on the screen"
   ]
  },
  {
   "cell_type": "code",
   "execution_count": 10,
   "metadata": {},
   "outputs": [
    {
     "name": "stdout",
     "output_type": "stream",
     "text": [
      "avrage of entered integers is =  464.8\n"
     ]
    }
   ],
   "source": [
    "a=0\n",
    "for i in range(10):\n",
    "    a = a + int(input(\"enter an interger\"))\n",
    "print(\"avrage of entered integers is = \",a/10)"
   ]
  },
  {
   "cell_type": "code",
   "execution_count": 11,
   "metadata": {},
   "outputs": [
    {
     "data": {
      "text/plain": [
       "'* 2 Print the following patterns using loop :\\n    * a.\\n    *\\n    ** \\n    *** \\n    **** \\n    * b.\\n    *\\n    ***\\n    *****\\n    ***\\n    *\\n    * c.\\n    1010101\\n    10101\\n    101\\n    1\\n    * d.\\n    1\\n    1 2\\n    1 2 3\\n    1 2 3 4\\n    1 2 3 4 5'"
      ]
     },
     "execution_count": 11,
     "metadata": {},
     "output_type": "execute_result"
    }
   ],
   "source": [
    "'''* 2 Print the following patterns using loop :\n",
    "    * a.\n",
    "    *\n",
    "    ** \n",
    "    *** \n",
    "    **** \n",
    "    * b.\n",
    "    *\n",
    "    ***\n",
    "    *****\n",
    "    ***\n",
    "    *\n",
    "    * c.\n",
    "    1010101\n",
    "    10101\n",
    "    101\n",
    "    1\n",
    "    * d.\n",
    "    1\n",
    "    1 2\n",
    "    1 2 3\n",
    "    1 2 3 4\n",
    "    1 2 3 4 5'''"
   ]
  },
  {
   "cell_type": "code",
   "execution_count": 12,
   "metadata": {},
   "outputs": [
    {
     "name": "stdout",
     "output_type": "stream",
     "text": [
      "*\n",
      "**\n",
      "***\n",
      "****\n"
     ]
    }
   ],
   "source": [
    "# a\n",
    "for i in range(1,5):\n",
    "    print(\"*\"*i)"
   ]
  },
  {
   "cell_type": "code",
   "execution_count": 13,
   "metadata": {},
   "outputs": [
    {
     "name": "stdout",
     "output_type": "stream",
     "text": [
      "    *\n",
      "   ***\n",
      "  *****\n",
      " *******\n",
      "  *****\n",
      "   ***\n",
      "    *\n"
     ]
    }
   ],
   "source": [
    "# b\n",
    "n=7\n",
    "for i in range(1,n+1):\n",
    "    if i%2!=0:\n",
    "        x= (n-i)//2\n",
    "        print(\" \"*x,\"*\"*i)\n",
    "for i in range(n-1,0,-1):\n",
    "    if i%2!=0:\n",
    "         x= (n-i)//2\n",
    "         print(\" \"*x,\"*\"*i)"
   ]
  },
  {
   "cell_type": "code",
   "execution_count": 14,
   "metadata": {},
   "outputs": [
    {
     "name": "stdout",
     "output_type": "stream",
     "text": [
      "1 0 1 0 1 0 1 0 1 \n",
      "\n",
      "  1 0 1 0 1 0 1 \n",
      "\n",
      "    1 0 1 0 1 \n",
      "\n",
      "      1 0 1 \n",
      "\n",
      "        1 \n",
      "\n"
     ]
    }
   ],
   "source": [
    "#Q 2 c)\n",
    "n = int(input('enter no. of itrations'))\n",
    "k = 0\n",
    "for j in range(n,0,-1):\n",
    "    print(\" \"*k,end=\"\")\n",
    "    for i in range(j,0,-1):\n",
    "        \n",
    "        print('1',end=\" \")\n",
    "        if i == 1:\n",
    "            break\n",
    "        print('0',end =\" \")\n",
    "    k = k + 2\n",
    "    \n",
    "        \n",
    "    print('\\n')"
   ]
  },
  {
   "cell_type": "code",
   "execution_count": 15,
   "metadata": {},
   "outputs": [
    {
     "name": "stdout",
     "output_type": "stream",
     "text": [
      "1\n",
      "\n",
      "12\n",
      "\n",
      "123\n",
      "\n",
      "1234\n",
      "\n",
      "12345\n",
      "\n",
      "123456\n",
      "\n",
      "1234567\n",
      "\n",
      "12345678\n",
      "\n",
      "123456789\n",
      "\n",
      "12345678910\n",
      "\n",
      "1234567891011\n",
      "\n",
      "123456789101112\n",
      "\n",
      "12345678910111213\n",
      "\n",
      "1234567891011121314\n",
      "\n",
      "123456789101112131415\n",
      "\n",
      "12345678910111213141516\n",
      "\n",
      "1234567891011121314151617\n",
      "\n",
      "123456789101112131415161718\n",
      "\n",
      "12345678910111213141516171819\n",
      "\n",
      "1234567891011121314151617181920\n",
      "\n",
      "123456789101112131415161718192021\n",
      "\n",
      "12345678910111213141516171819202122\n",
      "\n",
      "1234567891011121314151617181920212223\n",
      "\n",
      "123456789101112131415161718192021222324\n",
      "\n",
      "12345678910111213141516171819202122232425\n",
      "\n",
      "1234567891011121314151617181920212223242526\n",
      "\n",
      "123456789101112131415161718192021222324252627\n",
      "\n",
      "12345678910111213141516171819202122232425262728\n",
      "\n",
      "1234567891011121314151617181920212223242526272829\n",
      "\n",
      "123456789101112131415161718192021222324252627282930\n",
      "\n",
      "12345678910111213141516171819202122232425262728293031\n",
      "\n",
      "1234567891011121314151617181920212223242526272829303132\n",
      "\n",
      "123456789101112131415161718192021222324252627282930313233\n",
      "\n",
      "12345678910111213141516171819202122232425262728293031323334\n",
      "\n",
      "1234567891011121314151617181920212223242526272829303132333435\n",
      "\n",
      "123456789101112131415161718192021222324252627282930313233343536\n",
      "\n",
      "12345678910111213141516171819202122232425262728293031323334353637\n",
      "\n",
      "1234567891011121314151617181920212223242526272829303132333435363738\n",
      "\n",
      "123456789101112131415161718192021222324252627282930313233343536373839\n",
      "\n",
      "12345678910111213141516171819202122232425262728293031323334353637383940\n",
      "\n",
      "1234567891011121314151617181920212223242526272829303132333435363738394041\n",
      "\n",
      "123456789101112131415161718192021222324252627282930313233343536373839404142\n",
      "\n",
      "12345678910111213141516171819202122232425262728293031323334353637383940414243\n",
      "\n",
      "1234567891011121314151617181920212223242526272829303132333435363738394041424344\n",
      "\n",
      "123456789101112131415161718192021222324252627282930313233343536373839404142434445\n",
      "\n",
      "12345678910111213141516171819202122232425262728293031323334353637383940414243444546\n",
      "\n",
      "1234567891011121314151617181920212223242526272829303132333435363738394041424344454647\n",
      "\n",
      "123456789101112131415161718192021222324252627282930313233343536373839404142434445464748\n",
      "\n",
      "12345678910111213141516171819202122232425262728293031323334353637383940414243444546474849\n",
      "\n",
      "1234567891011121314151617181920212223242526272829303132333435363738394041424344454647484950\n",
      "\n",
      "123456789101112131415161718192021222324252627282930313233343536373839404142434445464748495051\n",
      "\n",
      "12345678910111213141516171819202122232425262728293031323334353637383940414243444546474849505152\n",
      "\n",
      "1234567891011121314151617181920212223242526272829303132333435363738394041424344454647484950515253\n",
      "\n",
      "123456789101112131415161718192021222324252627282930313233343536373839404142434445464748495051525354\n",
      "\n",
      "12345678910111213141516171819202122232425262728293031323334353637383940414243444546474849505152535455\n",
      "\n"
     ]
    }
   ],
   "source": [
    "#Q 2 d)\n",
    "    \n",
    "n = int(input(\"enter no. of itration\"))\n",
    "for i in range(1,n+1):\n",
    "    for j in range(1,i+1):\n",
    "        print(j, end = \"\")\n",
    "    print(\"\\n\")"
   ]
  },
  {
   "cell_type": "markdown",
   "metadata": {},
   "source": [
    "Write a program to find greatest common divisor (GCD) or highest common factor (HCF) of\n",
    "given two numbers."
   ]
  },
  {
   "cell_type": "code",
   "execution_count": 16,
   "metadata": {},
   "outputs": [
    {
     "name": "stdout",
     "output_type": "stream",
     "text": [
      "5  is the HCF of 5 , 5\n"
     ]
    }
   ],
   "source": [
    "x = int(input(\"enter 1st number\"))\n",
    "y = int(input(\"enter 2st number\"))\n",
    "\n",
    "def hcf(x,y):\n",
    "    for i in range(x,0,-1):\n",
    "        if x%i==0 and y%i==0:\n",
    "            print(i,f\" is the HCF of {x} , {y}\")\n",
    "            break\n",
    "if x>=y:\n",
    "    hcf(x,y)\n",
    "else:\n",
    "    hcf(y,x)"
   ]
  },
  {
   "cell_type": "markdown",
   "metadata": {},
   "source": [
    "4. Take integer inputs from user until he/she presses q ( Ask to press q to quit after every\n",
    "integer input ). Print average and product of all numbers."
   ]
  },
  {
   "cell_type": "code",
   "execution_count": 17,
   "metadata": {},
   "outputs": [
    {
     "name": "stdout",
     "output_type": "stream",
     "text": [
      "press q to get results\n",
      "press q to get results\n",
      "press q to get results\n",
      "please enter integers only or press q to get the results\n",
      "please enter integers only or press q to get the results\n",
      "press q to get results\n",
      "please enter integers only or press q to get the results\n",
      "please enter integers only or press q to get the results\n",
      "please enter integers only or press q to get the results\n",
      "please enter integers only or press q to get the results\n",
      "press q to get results\n",
      "the avrage of all the entered numbers is 91424.6\n",
      "the product of all the enterd number is 2089007496000\n"
     ]
    }
   ],
   "source": [
    "a=[]\n",
    "s = 0\n",
    "m = 1\n",
    "while True:\n",
    "    x = input(\"enter a number:- \")\n",
    "    if x!=\"q\":\n",
    "        try:\n",
    "            a.append(int(x))\n",
    "            print(\"press q to get results\")\n",
    "        except:\n",
    "            print(\"please enter integers only or press q to get the results\")\n",
    "    elif x==\"q\":\n",
    "        for i in range(len(a)):\n",
    "            s = (s+a[i])\n",
    "            m = m*a[i]\n",
    "        break\n",
    "    \n",
    "print(f\"the avrage of all the entered numbers is {s/len(a)}\\nthe product of all the enterd number is {m}\")"
   ]
  },
  {
   "cell_type": "markdown",
   "metadata": {},
   "source": [
    "5. Given a number count the total number of digits in a number and also find sum of digits of\n",
    "the number."
   ]
  },
  {
   "cell_type": "code",
   "execution_count": 18,
   "metadata": {},
   "outputs": [
    {
     "name": "stdout",
     "output_type": "stream",
     "text": [
      "[6]\n",
      "[6, 5]\n",
      "[6, 5, 6]\n",
      "number of digits in enterd number is       =  3\n",
      "addition of all digits in enterd number is =  17\n"
     ]
    }
   ],
   "source": [
    "x = int(input(\"enter a number to get count of digits and their sum :- \"))\n",
    "n = []\n",
    "b = 0\n",
    "while True:\n",
    "    if x==0:\n",
    "        break\n",
    "    a = (x%10)\n",
    "    b = b+a\n",
    "    n.append(a)\n",
    "    x=x//10\n",
    "    \n",
    "    print(n)\n",
    "print(\"number of digits in enterd number is       = \",len(n))\n",
    "print(\"addition of all digits in enterd number is = \",b)"
   ]
  },
  {
   "cell_type": "markdown",
   "metadata": {},
   "source": [
    "6. To display the cube of the number upto given an integer. If the given integer is 5, then\n",
    "display cube of 1 to 4."
   ]
  },
  {
   "cell_type": "code",
   "execution_count": 19,
   "metadata": {},
   "outputs": [
    {
     "name": "stdout",
     "output_type": "stream",
     "text": [
      "0^3 = 0\n"
     ]
    }
   ],
   "source": [
    "x = int(input(\"enter an interger to get cubes of all number OR press 5 to get cubes from 1 to 4\"))\n",
    "\n",
    "if x!=5:\n",
    "    for i in range(x):\n",
    "        print(f\"{i}^3 = {i**3}\")\n",
    "else:\n",
    "    for i in range(5):\n",
    "        print(f\"{i}^3 = {i**3}\")"
   ]
  },
  {
   "cell_type": "markdown",
   "metadata": {},
   "source": [
    "7. Accept 20 numbers from user and display sum of only even numbers."
   ]
  },
  {
   "cell_type": "code",
   "execution_count": 27,
   "metadata": {},
   "outputs": [
    {
     "name": "stdout",
     "output_type": "stream",
     "text": [
      "all the even number in \n",
      "[4645, 511, 8654, 4468, 554, 6546, 64868, 68732, 545, 44, 4, 46, 845, 6, 345, 462, 4, 362, 346, 23453] \n",
      "are [8654, 4468, 554, 6546, 64868, 68732, 44, 4, 46, 6, 462, 4, 362, 346] \n",
      "and their sum is 155096\n"
     ]
    }
   ],
   "source": [
    "s = 0\n",
    "a = []\n",
    "b = []\n",
    "for i in range(20):\n",
    "    x = int(input(f\"enter {i+1}th number\"))\n",
    "    a.append(x)\n",
    "    if x%2==0:\n",
    "        b.append(x)\n",
    "        s = s+x\n",
    "print(f\"all the even number in \\n{a} \\nare {b} \\nand their sum is {s}\")"
   ]
  },
  {
   "cell_type": "markdown",
   "metadata": {},
   "source": [
    "8. Ask user number of terms to be generated of a series.\n",
    "* generate numbers for the following series and find its addition  [9 + 99 + 999 + 9999+........]"
   ]
  },
  {
   "cell_type": "code",
   "execution_count": 28,
   "metadata": {},
   "outputs": [
    {
     "name": "stdout",
     "output_type": "stream",
     "text": [
      "[9, 99, 999, 9999, 99999]\n",
      "111105\n"
     ]
    }
   ],
   "source": [
    "x = int(input(\"enter the number of iterations :- \"))\n",
    "l = []\n",
    "s =0\n",
    "for i in range(1,x+1):\n",
    "    b=(\"9\"*i)\n",
    "    b = int(b)\n",
    "    s = s+b\n",
    "    l.append(b)\n",
    "print(l)\n",
    "print(s)"
   ]
  },
  {
   "cell_type": "markdown",
   "metadata": {},
   "source": [
    "9. Write a program in python to display the sum of the series [ 1+x+x^2/2!+x^3/3!+....]. Go to the editor\n",
    "* Test Data :\n",
    "* Input the value of x :3\n",
    "* Input number of terms : 5\n",
    "* Expected Output :\n",
    "* The sum is : 16.375000"
   ]
  },
  {
   "cell_type": "code",
   "execution_count": 29,
   "metadata": {},
   "outputs": [
    {
     "name": "stdout",
     "output_type": "stream",
     "text": [
      "2\n",
      "6\n",
      "24\n",
      "120\n",
      "720\n",
      "5040\n",
      "40320\n",
      "362880\n",
      "3628800\n",
      "39916800\n",
      "479001600\n",
      "6227020800\n",
      "87178291200\n",
      "1307674368000\n",
      "20922789888000\n",
      "355687428096000\n",
      "6402373705728000\n",
      "121645100408832000\n",
      "2432902008176640000\n",
      "51090942171709440000\n",
      "1124000727777607680000\n",
      "25852016738884976640000\n",
      "620448401733239439360000\n",
      "15511210043330985984000000\n",
      "403291461126605635584000000\n",
      "10888869450418352160768000000\n",
      "304888344611713860501504000000\n",
      "8841761993739701954543616000000\n",
      "265252859812191058636308480000000\n",
      "8222838654177922817725562880000000\n",
      "263130836933693530167218012160000000\n",
      "8683317618811886495518194401280000000\n",
      "295232799039604140847618609643520000000\n",
      "10333147966386144929666651337523200000000\n",
      "371993326789901217467999448150835200000000\n",
      "13763753091226345046315979581580902400000000\n",
      "523022617466601111760007224100074291200000000\n",
      "20397882081197443358640281739902897356800000000\n",
      "815915283247897734345611269596115894272000000000\n",
      "33452526613163807108170062053440751665152000000000\n",
      "1405006117752879898543142606244511569936384000000000\n",
      "60415263063373835637355132068513997507264512000000000\n",
      "2658271574788448768043625811014615890319638528000000000\n",
      "119622220865480194561963161495657715064383733760000000000\n",
      "5502622159812088949850305428800254892961651752960000000000\n",
      "258623241511168180642964355153611979969197632389120000000000\n",
      "12413915592536072670862289047373375038521486354677760000000000\n",
      "608281864034267560872252163321295376887552831379210240000000000\n",
      "30414093201713378043612608166064768844377641568960512000000000000\n",
      "1551118753287382280224243016469303211063259720016986112000000000000\n",
      "80658175170943878571660636856403766975289505440883277824000000000000\n",
      "4274883284060025564298013753389399649690343788366813724672000000000000\n",
      "230843697339241380472092742683027581083278564571807941132288000000000000\n",
      "12696403353658275925965100847566516959580321051449436762275840000000000000\n",
      "710998587804863451854045647463724949736497978881168458687447040000000000000\n",
      "40526919504877216755680601905432322134980384796226602145184481280000000000000\n",
      "2350561331282878571829474910515074683828862318181142924420699914240000000000000\n",
      "138683118545689835737939019720389406345902876772687432540821294940160000000000000\n",
      "8320987112741390144276341183223364380754172606361245952449277696409600000000000000\n",
      "507580213877224798800856812176625227226004528988036003099405939480985600000000000000\n",
      "31469973260387937525653122354950764088012280797258232192163168247821107200000000000000\n",
      "1982608315404440064116146708361898137544773690227268628106279599612729753600000000000000\n",
      "126886932185884164103433389335161480802865516174545192198801894375214704230400000000000000\n",
      "6.907449943097686e+23\n"
     ]
    }
   ],
   "source": [
    "x = int(input(\"enter the vale of X :- \"))\n",
    "r = int(input(\"enter the number of iterations :- \"))\n",
    "fac = 1\n",
    "a=1 + x\n",
    "\n",
    "for i in range(2,r):\n",
    "    fac = fac*i\n",
    "    print(fac)\n",
    "    a = a + ((x**i)/(fac))\n",
    "    \n",
    "print(a)"
   ]
  },
  {
   "cell_type": "markdown",
   "metadata": {},
   "source": [
    "10. Write a program in python to find the sum of the series [ x - x^3 + x^5 + ......]. Go to the editor\n",
    "\n",
    "* Test Data :\n",
    "* Input the value of x :2\n",
    "* Input number of terms : 5\n",
    "* Expected Output :\n",
    "* The values of the series:\n",
    "* 2\n",
    "* -8\n",
    "* 32\n",
    "* -128\n",
    "* 512\n",
    "* The sum = 410"
   ]
  },
  {
   "cell_type": "code",
   "execution_count": 30,
   "metadata": {},
   "outputs": [
    {
     "name": "stdout",
     "output_type": "stream",
     "text": [
      "[5, -125, 3125, -78125, 1953125]\n",
      "1878005\n"
     ]
    }
   ],
   "source": [
    "x = int(input(\"enter the vale of X :- \"))\n",
    "r = int(input(\"enter the number of iterations :- \"))\n",
    "a=0\n",
    "l = []\n",
    "count = 0\n",
    "\n",
    "for i in range(1,r*2,2):\n",
    "    b = ((x**i))\n",
    "    if count%2 !=0:\n",
    "        l.append(-b)\n",
    "    else:\n",
    "        l.append(b)\n",
    "    count = count+1\n",
    "for i in range(len(l)):\n",
    "    a = a+l[i]\n",
    "print(l)\n",
    "print(a)"
   ]
  },
  {
   "cell_type": "markdown",
   "metadata": {},
   "source": []
  }
 ],
 "metadata": {
  "kernelspec": {
   "display_name": "base",
   "language": "python",
   "name": "python3"
  },
  "language_info": {
   "codemirror_mode": {
    "name": "ipython",
    "version": 3
   },
   "file_extension": ".py",
   "mimetype": "text/x-python",
   "name": "python",
   "nbconvert_exporter": "python",
   "pygments_lexer": "ipython3",
   "version": "3.11.5"
  }
 },
 "nbformat": 4,
 "nbformat_minor": 2
}
