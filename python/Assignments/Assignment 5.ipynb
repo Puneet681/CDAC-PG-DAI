{
 "cells": [
  {
   "cell_type": "code",
   "execution_count": 1,
   "metadata": {},
   "outputs": [
    {
     "name": "stdout",
     "output_type": "stream",
     "text": [
      "[100, 200, 300, 400, 500]\n",
      "[500, 400, 300, 200, 100]\n"
     ]
    }
   ],
   "source": [
    "#----------- Q1\n",
    "\n",
    "aLsit = [100, 200, 300, 400, 500]\n",
    "\n",
    "print(aLsit)\n",
    "aLsit.reverse()\n",
    "print(aLsit)"
   ]
  },
  {
   "cell_type": "code",
   "execution_count": 4,
   "metadata": {},
   "outputs": [
    {
     "name": "stdout",
     "output_type": "stream",
     "text": [
      "['My', 'name', 'is', 'Rajesh']\n"
     ]
    }
   ],
   "source": [
    "#----------- Q2\n",
    "\n",
    "list1 = [\"M\", \"na\", \"i\", \"Raj\"]\n",
    "list2 = [\"y\", \"me\", \"s\", \"esh\"]\n",
    "\n",
    "print([i[0]+i[1] for i in zip(list1,list2)])"
   ]
  },
  {
   "cell_type": "code",
   "execution_count": 5,
   "metadata": {},
   "outputs": [
    {
     "name": "stdout",
     "output_type": "stream",
     "text": [
      "[1, 4, 9, 16, 25, 36, 49]\n"
     ]
    }
   ],
   "source": [
    "#----------- Q3\n",
    "\n",
    "aList = [1, 2, 3, 4, 5, 6, 7]\n",
    "\n",
    "print([i for i in (map(lambda x : x**2,aList))])"
   ]
  },
  {
   "cell_type": "code",
   "execution_count": 6,
   "metadata": {},
   "outputs": [
    {
     "name": "stdout",
     "output_type": "stream",
     "text": [
      "['Hello Students', 'Hello Sir', 'Welcome Students', 'Welcome Sir']\n"
     ]
    }
   ],
   "source": [
    "#----------- Q4\n",
    "\n",
    "list1 = [\"Hello \", \"Welcome \"]\n",
    "list2 = [\"Students\", \"Sir\"]\n",
    "\n",
    "print([i+j for i in list1 for j in list2])"
   ]
  },
  {
   "cell_type": "code",
   "execution_count": 27,
   "metadata": {},
   "outputs": [
    {
     "name": "stdout",
     "output_type": "stream",
     "text": [
      "[(10, 400), (20, 300), (30, 200), (40, 100)]\n"
     ]
    }
   ],
   "source": [
    "#----------- Q5\n",
    "\n",
    "list1 = [10, 20, 30, 40]\n",
    "list2 = [100, 200, 300, 400]\n",
    "list2.reverse()\n",
    "print([i for i in zip(list1,list2)])"
   ]
  },
  {
   "cell_type": "code",
   "execution_count": null,
   "metadata": {},
   "outputs": [],
   "source": [
    "#----------- Q6\n",
    "\n",
    "list1 = [\"Ashish\", \"\", \"Atharva\", \"Amit\", \"\", \"Revati\"]\n",
    "\n",
    "list2 = [i for i in list1 if i!=\"\"]\n",
    "print(list2)"
   ]
  },
  {
   "cell_type": "code",
   "execution_count": null,
   "metadata": {},
   "outputs": [],
   "source": [
    "#----------- Q 7\n",
    "\n",
    "list1 = [10, 20, [300, 400, [5000, 6000], 500], 30, 40]\n",
    "list1[2][2].append(7000)\n",
    "print(list1)\n",
    "\n",
    "print()"
   ]
  },
  {
   "cell_type": "code",
   "execution_count": null,
   "metadata": {},
   "outputs": [],
   "source": [
    "#----------- Q8\n",
    "\n",
    "list1 = [\"a\", \"b\", [\"c\", [\"d\", \"e\", [\"f\", \"g\"], \"k\"], \"l\"], \"m\", \"n\"]\n",
    "list1[2][1][2].extend('hij')\n",
    "print(list1)\n",
    "\n",
    "print()\n"
   ]
  },
  {
   "cell_type": "code",
   "execution_count": null,
   "metadata": {},
   "outputs": [],
   "source": [
    "#----------- Q9\n",
    "\n",
    "list2 = [5, 10, 15, 20, 25, 50, 20,20]\n",
    "\n",
    "a = int(input(\"Enter no to be found : \"))\n",
    "i = list2.index(a)\n",
    "print(i)\n",
    "\n",
    "\n",
    "list2[i] = 200\n",
    "print(list2)\n",
    "# -----------OR-----------\n",
    "for x,y in enumerate(list2):\n",
    "    if y == a:\n",
    "        print(x)\n",
    "        break\n",
    "        "
   ]
  },
  {
   "cell_type": "code",
   "execution_count": null,
   "metadata": {},
   "outputs": [],
   "source": [
    "#----------- Q10\n",
    "\n",
    "list2 = [5, 10, 15, 20, 25, 50, 20,20]\n",
    "a = int(input(\"Enter no to be removed : \"))\n",
    "for x,y in enumerate(list2):\n",
    "        if y == a:\n",
    "            list2.remove(y)\n",
    "        \n",
    "print(list2)"
   ]
  }
 ],
 "metadata": {
  "kernelspec": {
   "display_name": "Python 3",
   "language": "python",
   "name": "python3"
  },
  "language_info": {
   "codemirror_mode": {
    "name": "ipython",
    "version": 3
   },
   "file_extension": ".py",
   "mimetype": "text/x-python",
   "name": "python",
   "nbconvert_exporter": "python",
   "pygments_lexer": "ipython3",
   "version": "3.10.11"
  },
  "orig_nbformat": 4
 },
 "nbformat": 4,
 "nbformat_minor": 2
}
