{
 "cells": [
  {
   "cell_type": "markdown",
   "metadata": {},
   "source": [
    "# __Day 12__"
   ]
  },
  {
   "cell_type": "markdown",
   "metadata": {},
   "source": [
    "## __libraries for data analisys__"
   ]
  },
  {
   "cell_type": "markdown",
   "metadata": {},
   "source": [
    "* ## __Numpy__"
   ]
  },
  {
   "cell_type": "code",
   "execution_count": 165,
   "metadata": {},
   "outputs": [],
   "source": [
    "import numpy as np # for maths operation in arrys "
   ]
  },
  {
   "cell_type": "markdown",
   "metadata": {},
   "source": [
    "__1 D Array__"
   ]
  },
  {
   "cell_type": "code",
   "execution_count": 166,
   "metadata": {},
   "outputs": [
    {
     "name": "stdout",
     "output_type": "stream",
     "text": [
      "[12.   13.   23.78 45.  ]\n",
      "<class 'numpy.ndarray'>\n",
      "float64\n",
      "1\n",
      "(4,)\n"
     ]
    }
   ],
   "source": [
    "a = np.array([12,13,23.78,45]) # np.array is homogueneous \n",
    "print(a)\n",
    "print(type(a)) # type of variable object \n",
    "print(a.dtype) # type of data it stores\n",
    "print(a.ndim) # diamension of array \n",
    "print(a.shape) # Shape of Array like 2x2 or 3x3 "
   ]
  },
  {
   "cell_type": "code",
   "execution_count": 167,
   "metadata": {},
   "outputs": [
    {
     "name": "stdout",
     "output_type": "stream",
     "text": [
      "[['xxx' 'yyy']\n",
      " ['zzz' 'ppp']]\n",
      "<class 'numpy.ndarray'>\n",
      "<U3\n",
      "2\n",
      "(2, 2)\n"
     ]
    }
   ],
   "source": [
    "a = np.array([['xxx','yyy'],\n",
    "              ['zzz','ppp']]) # np.array is homogueneous \n",
    "print(a)\n",
    "print(type(a)) # type of variable object \n",
    "print(a.dtype) # type of data it stores for str --> U(no_of_char) \n",
    "print(a.ndim) # diamension of array \n",
    "print(a.shape) # Shape of Array like 2x2 or 3x3 "
   ]
  },
  {
   "cell_type": "markdown",
   "metadata": {},
   "source": [
    "__2 D Array__"
   ]
  },
  {
   "cell_type": "code",
   "execution_count": 168,
   "metadata": {},
   "outputs": [
    {
     "name": "stdout",
     "output_type": "stream",
     "text": [
      "[[12 13 23 45]\n",
      " [22 35 56 75]]\n",
      "<class 'numpy.ndarray'>\n",
      "int64\n",
      "2\n",
      "(2, 4)\n"
     ]
    }
   ],
   "source": [
    "a = np.array([[12,13,23,45],\n",
    "              [22,35,56,75]]) # np.array is homogueneous \n",
    "print(a)\n",
    "print(type(a)) # type of variable object \n",
    "print(a.dtype) # type of data it stores\n",
    "print(a.ndim) # diamension of array \n",
    "print(a.shape) # Shape of Array like 2x2 or 3x3 "
   ]
  },
  {
   "cell_type": "markdown",
   "metadata": {},
   "source": [
    "__3 D Array__"
   ]
  },
  {
   "cell_type": "code",
   "execution_count": 169,
   "metadata": {},
   "outputs": [
    {
     "name": "stdout",
     "output_type": "stream",
     "text": [
      "[[[ 12  13  23  45]\n",
      "  [ 22  35  56  75]\n",
      "  [324 423 253 243]]\n",
      "\n",
      " [[ 12  13  23  45]\n",
      "  [ 22  34  56  75]\n",
      "  [324 423 253 243]]\n",
      "\n",
      " [[ 12  13  23  45]\n",
      "  [ 22  32  56  75]\n",
      "  [324 423 253 243]]\n",
      "\n",
      " [[ 12  13  23  45]\n",
      "  [ 22  31  56  75]\n",
      "  [324 423 253 243]]]\n",
      "<class 'numpy.ndarray'>\n",
      "int64\n",
      "3\n",
      "(4, 3, 4)\n",
      "34\n"
     ]
    }
   ],
   "source": [
    "a = np.array([[[12,13,23,45],[22,35,56,75],[324,423,253,243]],\n",
    "              [[12,13,23,45],[22,34,56,75],[324,423,253,243]],\n",
    "              [[12,13,23,45],[22,32,56,75],[324,423,253,243]],\n",
    "              [[12,13,23,45],[22,31,56,75],[324,423,253,243]]]) # np.array is homogueneous \n",
    "print(a)\n",
    "print(type(a)) # type of variable object \n",
    "print(a.dtype) # type of data it stores\n",
    "print(a.ndim) # diamension of array \n",
    "print(a.shape) # Shape of Array like 2x2 or 3x3 - shape(row,col,value)\n",
    "print(a[1,1,1]) # priniting nested value in np.array , in list - lst[1][1][1]"
   ]
  },
  {
   "cell_type": "markdown",
   "metadata": {},
   "source": [
    "* __slicing of matrix__"
   ]
  },
  {
   "cell_type": "code",
   "execution_count": 170,
   "metadata": {},
   "outputs": [
    {
     "name": "stdout",
     "output_type": "stream",
     "text": [
      "[ 0  1  2  3  4  5  6  7  8  9 10 11]\n",
      "[[ 1  3  5  7]\n",
      " [ 9 11 13 15]\n",
      " [17 19 21 23]\n",
      " [25 27 29 31]]\n",
      "\n",
      "[[13 15]\n",
      " [21 23]]\n",
      "\n",
      "[[ 1  3]\n",
      " [ 9 11]]\n",
      "\n",
      "[[19 21]\n",
      " [27 29]]\n",
      "\n",
      "19\n",
      "23\n"
     ]
    }
   ],
   "source": [
    "b  = np.arange(12) # like range (strart,end,step)\n",
    "print(b) \n",
    "c = np.arange(1,32,2).reshape(4,4)\n",
    "print(c)\n",
    "print()\n",
    "print(c[1:3,2:4])  # Slicing # c[rowS:rowE,colS:colE] - rows and col value start with zero \n",
    "print()\n",
    "print(c[0:2,0:2])\n",
    "print()\n",
    "print(c[2:4,1:3])\n",
    "print()\n",
    "print(c[-2,-3])   # giving postion in reverse manner \n",
    "print(c[2,-1]) "
   ]
  },
  {
   "cell_type": "code",
   "execution_count": 171,
   "metadata": {},
   "outputs": [
    {
     "data": {
      "text/plain": [
       "array([[ 1,  9, 17, 25],\n",
       "       [ 3, 11, 19, 27],\n",
       "       [ 5, 13, 21, 29],\n",
       "       [ 7, 15, 23, 31]])"
      ]
     },
     "execution_count": 171,
     "metadata": {},
     "output_type": "execute_result"
    }
   ],
   "source": [
    "c = np.arange(1,32,2).reshape(4,4,order='f') # order at which value will be added [ f - vertical c - horizontal ] default horizontal \n",
    "c"
   ]
  },
  {
   "cell_type": "code",
   "execution_count": 172,
   "metadata": {},
   "outputs": [
    {
     "data": {
      "text/plain": [
       "array([[4.94e-324, 1.48e-323, 2.47e-323, 3.46e-323],\n",
       "       [4.45e-323, 5.43e-323, 6.42e-323, 7.41e-323],\n",
       "       [8.40e-323, 9.39e-323, 1.04e-322, 1.14e-322],\n",
       "       [1.24e-322, 1.33e-322, 1.43e-322, 1.53e-322]])"
      ]
     },
     "execution_count": 172,
     "metadata": {},
     "output_type": "execute_result"
    }
   ],
   "source": [
    "a = np.zeros((3,3),dtype = 'int') # defalut dtype is float we can use int \n",
    "b = np.ones((2,2))\n",
    "c = np.empty((4,4))\n",
    "c"
   ]
  },
  {
   "cell_type": "code",
   "execution_count": 173,
   "metadata": {},
   "outputs": [
    {
     "data": {
      "text/plain": [
       "array([[1., 1.],\n",
       "       [1., 1.]])"
      ]
     },
     "execution_count": 173,
     "metadata": {},
     "output_type": "execute_result"
    }
   ],
   "source": [
    "b"
   ]
  },
  {
   "cell_type": "code",
   "execution_count": 174,
   "metadata": {},
   "outputs": [
    {
     "data": {
      "text/plain": [
       "array([[0, 0, 0],\n",
       "       [0, 0, 0],\n",
       "       [0, 0, 0]])"
      ]
     },
     "execution_count": 174,
     "metadata": {},
     "output_type": "execute_result"
    }
   ],
   "source": [
    "a"
   ]
  },
  {
   "cell_type": "code",
   "execution_count": 175,
   "metadata": {},
   "outputs": [
    {
     "name": "stdout",
     "output_type": "stream",
     "text": [
      "[[0 1 2]\n",
      " [3 4 5]\n",
      " [6 7 8]] \n",
      "\n",
      " [[10 11 12]\n",
      " [13 14 15]\n",
      " [16 17 18]]\n"
     ]
    }
   ],
   "source": [
    "a = np.arange(0,9).reshape(3,3)\n",
    "b = np.arange(10,19).reshape(3,3)\n",
    "print(a,\"\\n\\n\",b)"
   ]
  },
  {
   "cell_type": "code",
   "execution_count": 176,
   "metadata": {},
   "outputs": [
    {
     "data": {
      "text/plain": [
       "array([[10, 12, 14],\n",
       "       [16, 18, 20],\n",
       "       [22, 24, 26]])"
      ]
     },
     "execution_count": 176,
     "metadata": {},
     "output_type": "execute_result"
    }
   ],
   "source": [
    "c = a + b\n",
    "c"
   ]
  },
  {
   "cell_type": "code",
   "execution_count": 177,
   "metadata": {},
   "outputs": [
    {
     "data": {
      "text/plain": [
       "array([[  0,  11,  24],\n",
       "       [ 39,  56,  75],\n",
       "       [ 96, 119, 144]])"
      ]
     },
     "execution_count": 177,
     "metadata": {},
     "output_type": "execute_result"
    }
   ],
   "source": [
    "c = a * b # Hadamard Product \n",
    "c"
   ]
  },
  {
   "cell_type": "code",
   "execution_count": 178,
   "metadata": {},
   "outputs": [
    {
     "name": "stdout",
     "output_type": "stream",
     "text": [
      "[[ 45  48  51]\n",
      " [162 174 186]\n",
      " [279 300 321]]\n",
      "\n",
      "[[ 45  48  51]\n",
      " [162 174 186]\n",
      " [279 300 321]]\n",
      "\n",
      "[[ 45  48  51]\n",
      " [162 174 186]\n",
      " [279 300 321]]\n",
      "\n",
      "[[ 45  48  51]\n",
      " [162 174 186]\n",
      " [279 300 321]]\n"
     ]
    }
   ],
   "source": [
    "# matrix multiplication\n",
    "print(a.__matmul__(b))\n",
    "print()\n",
    "print(np.matmul(a,b)) \n",
    "print()\n",
    "print(a.dot(b))\n",
    "print()\n",
    "print(a@b)"
   ]
  },
  {
   "cell_type": "markdown",
   "metadata": {},
   "source": [
    "* __To Print Identity Matrix__"
   ]
  },
  {
   "cell_type": "code",
   "execution_count": 179,
   "metadata": {},
   "outputs": [
    {
     "data": {
      "text/plain": [
       "array([[1., 0., 0.],\n",
       "       [0., 1., 0.],\n",
       "       [0., 0., 1.]])"
      ]
     },
     "execution_count": 179,
     "metadata": {},
     "output_type": "execute_result"
    }
   ],
   "source": [
    "a = np.identity(3) # to create identity matrix\n",
    "a "
   ]
  },
  {
   "cell_type": "code",
   "execution_count": 180,
   "metadata": {},
   "outputs": [
    {
     "name": "stdout",
     "output_type": "stream",
     "text": [
      "[[1. 0. 0. 0.]\n",
      " [0. 1. 0. 0.]\n",
      " [0. 0. 1. 0.]]\n",
      "\n",
      "[[0. 1. 0. 0.]\n",
      " [0. 0. 1. 0.]\n",
      " [0. 0. 0. 1.]]\n",
      "\n",
      "[[0. 0. 0. 0.]\n",
      " [1. 0. 0. 0.]\n",
      " [0. 1. 0. 0.]]\n"
     ]
    }
   ],
   "source": [
    "b = np.eye(3,4) # non square element identity matrix\n",
    "c = np.eye(3,4,k=1) # non square element identity matrix - k=1 shifts the 1's above diagonal if k=-1 shifts the 1's below diagonals\n",
    "d = np.eye(3,4,k=-1)\n",
    "print(b)\n",
    "print()\n",
    "print(c)\n",
    "print()\n",
    "print(d)"
   ]
  },
  {
   "cell_type": "markdown",
   "metadata": {},
   "source": [
    "* __Filtering of Arry__"
   ]
  },
  {
   "cell_type": "code",
   "execution_count": 181,
   "metadata": {},
   "outputs": [
    {
     "name": "stdout",
     "output_type": "stream",
     "text": [
      "[12 12 12]\n",
      "[12 13 23 45 12 13 23 45 12 13 23 45]\n"
     ]
    }
   ],
   "source": [
    "a = np.array([[12,13,23,45],[12,13,23,45],[12,13,23,45]])\n",
    "print(a[a%6==0]) # return values which satisfy the condition\n",
    "print(a[a>5])"
   ]
  },
  {
   "cell_type": "code",
   "execution_count": 182,
   "metadata": {},
   "outputs": [
    {
     "name": "stdout",
     "output_type": "stream",
     "text": [
      "(array([0, 1, 2]), array([0, 0, 0]))\n",
      "[0, 1, 2]\n"
     ]
    }
   ],
   "source": [
    "print(np.where(a%2==0)) # prints as object \n",
    "print(list(np.where(a%2==0)[0].data)) # prints data"
   ]
  },
  {
   "cell_type": "code",
   "execution_count": 183,
   "metadata": {},
   "outputs": [
    {
     "name": "stdout",
     "output_type": "stream",
     "text": [
      "[93 93 93]\n",
      "[ 36  39  69 135]\n",
      "279\n"
     ]
    }
   ],
   "source": [
    "print(np.sum(a,axis=1)) # row wise sum\n",
    "print(np.sum(a,axis=0)) # column wise sum\n",
    "print(np.sum(a)) # total sum of both rows and columns "
   ]
  },
  {
   "cell_type": "code",
   "execution_count": 184,
   "metadata": {},
   "outputs": [
    {
     "name": "stdout",
     "output_type": "stream",
     "text": [
      "23.25\n",
      "18.0\n"
     ]
    }
   ],
   "source": [
    "print(np.mean(a)) # finds mean - Average \n",
    "print(np.median(a)) # finds median - center value if arrenged sequentially\n",
    "#print(np.mode(a)) # mode - highest frequency # not availabe on numpy"
   ]
  },
  {
   "cell_type": "markdown",
   "metadata": {},
   "source": [
    "* __Stack and Vstack__"
   ]
  },
  {
   "cell_type": "code",
   "execution_count": 185,
   "metadata": {},
   "outputs": [
    {
     "name": "stdout",
     "output_type": "stream",
     "text": [
      "[10 20 30 11 12 13 21 22 23]\n",
      "[[10 20 30]\n",
      " [11 12 13]\n",
      " [21 22 23]]\n"
     ]
    }
   ],
   "source": [
    "x = np.array([10,20,30])\n",
    "y = np.array([11,12,13])\n",
    "z = np.array([21,22,23])\n",
    "\n",
    "print(np.hstack((x,y,z))) # stacks the array elements horizontally\n",
    "print(np.vstack((x,y,z))) # stacks the array elements vertically\n",
    "d = np.vstack((x,y,z))"
   ]
  },
  {
   "cell_type": "code",
   "execution_count": 186,
   "metadata": {},
   "outputs": [
    {
     "data": {
      "text/plain": [
       "array([[23, 22, 21],\n",
       "       [13, 12, 11],\n",
       "       [30, 20, 10]])"
      ]
     },
     "execution_count": 186,
     "metadata": {},
     "output_type": "execute_result"
    }
   ],
   "source": [
    "np.flip(d) # flips both rows and columns "
   ]
  },
  {
   "cell_type": "code",
   "execution_count": 187,
   "metadata": {},
   "outputs": [
    {
     "data": {
      "text/plain": [
       "array([[21, 22, 23],\n",
       "       [11, 12, 13],\n",
       "       [10, 20, 30]])"
      ]
     },
     "execution_count": 187,
     "metadata": {},
     "output_type": "execute_result"
    }
   ],
   "source": [
    "np.flip(d,axis=0) # reverse the rows"
   ]
  },
  {
   "cell_type": "code",
   "execution_count": 188,
   "metadata": {},
   "outputs": [
    {
     "data": {
      "text/plain": [
       "array([[30, 20, 10],\n",
       "       [13, 12, 11],\n",
       "       [23, 22, 21]])"
      ]
     },
     "execution_count": 188,
     "metadata": {},
     "output_type": "execute_result"
    }
   ],
   "source": [
    "np.flip(d,axis=1) # reverse the columns "
   ]
  },
  {
   "cell_type": "code",
   "execution_count": 189,
   "metadata": {},
   "outputs": [
    {
     "name": "stdout",
     "output_type": "stream",
     "text": [
      "[10.         12.85714286 15.71428571 18.57142857 21.42857143 24.28571429\n",
      " 27.14285714]\n"
     ]
    }
   ],
   "source": [
    "x = np.linspace(10,30,7,endpoint=False) # find equidistant points between range linespace(start,end,points_needed,endpoint should be added or not)\n",
    "print(x)"
   ]
  },
  {
   "cell_type": "markdown",
   "metadata": {},
   "source": [
    "* ## __Scipy__"
   ]
  },
  {
   "cell_type": "code",
   "execution_count": 190,
   "metadata": {},
   "outputs": [],
   "source": [
    "from scipy.special import cbrt,comb,perm\n",
    "\n",
    "# cbrt = cuberoot\n",
    "# comb = combination\n",
    "# perm = permutaion"
   ]
  },
  {
   "cell_type": "code",
   "execution_count": 193,
   "metadata": {},
   "outputs": [
    {
     "name": "stdout",
     "output_type": "stream",
     "text": [
      "[3. 4.]\n"
     ]
    }
   ],
   "source": [
    "x = cbrt([27,64])\n",
    "print(x)"
   ]
  },
  {
   "cell_type": "code",
   "execution_count": 194,
   "metadata": {},
   "outputs": [
    {
     "name": "stdout",
     "output_type": "stream",
     "text": [
      "30.0\n",
      "15.0\n"
     ]
    }
   ],
   "source": [
    "print(perm(6,2))\n",
    "print(comb(6,2))"
   ]
  },
  {
   "cell_type": "code",
   "execution_count": 199,
   "metadata": {},
   "outputs": [],
   "source": [
    "import numpy as np\n",
    "from scipy import linalg as la \n",
    "# scipy used for scintific calculation and numpy used for numeric calculation "
   ]
  },
  {
   "cell_type": "code",
   "execution_count": 200,
   "metadata": {},
   "outputs": [
    {
     "name": "stdout",
     "output_type": "stream",
     "text": [
      "-200.0\n"
     ]
    }
   ],
   "source": [
    "m = np.array([[10,20],[30,40]])\n",
    "print(la.det(m))"
   ]
  },
  {
   "cell_type": "code",
   "execution_count": 214,
   "metadata": {},
   "outputs": [
    {
     "name": "stdout",
     "output_type": "stream",
     "text": [
      "[-3.72281323+0.j 53.72281323+0.j] \n",
      " [[-0.82456484 -0.41597356]\n",
      " [ 0.56576746 -0.90937671]]\n"
     ]
    }
   ],
   "source": [
    "eig_val,eig_vect = la.eig(m)\n",
    "print(eig_val,\"\\n\",eig_vect)"
   ]
  },
  {
   "cell_type": "code",
   "execution_count": 215,
   "metadata": {},
   "outputs": [],
   "source": [
    "from scipy import stats"
   ]
  },
  {
   "cell_type": "code",
   "execution_count": 217,
   "metadata": {},
   "outputs": [
    {
     "name": "stdout",
     "output_type": "stream",
     "text": [
      "ModeResult(mode=array([[22, 23, 14, 15, 53]]), count=array([[2, 1, 1, 1, 1]]))\n"
     ]
    },
    {
     "name": "stderr",
     "output_type": "stream",
     "text": [
      "/tmp/ipykernel_41400/2338244010.py:2: FutureWarning: Unlike other reduction functions (e.g. `skew`, `kurtosis`), the default behavior of `mode` typically preserves the axis it acts along. In SciPy 1.11.0, this behavior will change: the default value of `keepdims` will become False, the `axis` over which the statistic is taken will be eliminated, and the value None will no longer be accepted. Set `keepdims` to True or False to avoid this warning.\n",
      "  modeval = stats.mode(m,axis=0)\n"
     ]
    }
   ],
   "source": [
    "m = np.array([[22,23,14,22,56],[22,46,23,15,53]])\n",
    "modeval = stats.mode(m,axis=0)\n",
    "print(modeval)"
   ]
  },
  {
   "cell_type": "code",
   "execution_count": 218,
   "metadata": {},
   "outputs": [],
   "source": [
    "from scipy import integrate"
   ]
  },
  {
   "cell_type": "code",
   "execution_count": 220,
   "metadata": {},
   "outputs": [
    {
     "name": "stdout",
     "output_type": "stream",
     "text": [
      "(0.33333333333333337, 3.700743415417189e-15)\n"
     ]
    }
   ],
   "source": [
    "f = lambda x:x**2\n",
    "integration = integrate.quad(f,0,1)\n",
    "print(integration)"
   ]
  },
  {
   "cell_type": "markdown",
   "metadata": {},
   "source": [
    "* ## __Pandas__"
   ]
  },
  {
   "cell_type": "code",
   "execution_count": null,
   "metadata": {},
   "outputs": [],
   "source": [
    "import pandas"
   ]
  }
 ],
 "metadata": {
  "kernelspec": {
   "display_name": "base",
   "language": "python",
   "name": "python3"
  },
  "language_info": {
   "codemirror_mode": {
    "name": "ipython",
    "version": 3
   },
   "file_extension": ".py",
   "mimetype": "text/x-python",
   "name": "python",
   "nbconvert_exporter": "python",
   "pygments_lexer": "ipython3",
   "version": "3.11.4"
  },
  "orig_nbformat": 4
 },
 "nbformat": 4,
 "nbformat_minor": 2
}
